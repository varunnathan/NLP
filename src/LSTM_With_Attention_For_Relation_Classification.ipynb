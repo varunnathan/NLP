{
 "cells": [
  {
   "cell_type": "code",
   "execution_count": 2,
   "metadata": {},
   "outputs": [],
   "source": [
    "# GLOBALS\n",
    "LOCAL_ROOT = \"/Users/varunn/Documents/\"\n",
    "PROJ_PATH = LOCAL_ROOT + \"Annotated-Semantic-Relationships-Datasets/\"\n",
    "DATA_PATH = PROJ_PATH + \"datasets/\""
   ]
  },
  {
   "cell_type": "code",
   "execution_count": 3,
   "metadata": {},
   "outputs": [],
   "source": [
    "with open(DATA_PATH+\"SemEval2010_task8_all_data/SemEval2010_task8_training/TRAIN_FILE.TXT\") as f:\n",
    "    train_file = f.readlines()"
   ]
  },
  {
   "cell_type": "code",
   "execution_count": 5,
   "metadata": {},
   "outputs": [
    {
     "name": "stdout",
     "output_type": "stream",
     "text": [
      "<class 'list'>\n",
      "32000\n"
     ]
    }
   ],
   "source": [
    "print(type(train_file))\n",
    "print(len(train_file))"
   ]
  },
  {
   "cell_type": "code",
   "execution_count": 10,
   "metadata": {},
   "outputs": [
    {
     "data": {
      "text/plain": [
       "'2\\t\"The <e1>child</e1> was carefully wrapped and bound into the <e2>cradle</e2> by means of a cord.\"\\n'"
      ]
     },
     "execution_count": 10,
     "metadata": {},
     "output_type": "execute_result"
    }
   ],
   "source": [
    "train_file[4]"
   ]
  },
  {
   "cell_type": "code",
   "execution_count": 12,
   "metadata": {},
   "outputs": [
    {
     "name": "stdout",
     "output_type": "stream",
     "text": [
      "1\t\"The system as described above has its greatest application in an arrayed <e1>configuration</e1> of antenna <e2>elements</e2>.\"\n",
      "\n",
      "['1', '\"The system as described above has its greatest application in an arrayed <e1>configuration</e1> of antenna <e2>elements</e2>.\"\\n']\n",
      "('\"', '')\n",
      "The system as described above has its greatest application in an arrayed <e1>configuration</e1> of antenna <e2>elements</e2>.\n",
      "\n",
      "('\\n', '')\n",
      "The system as described above has its greatest application in an arrayed <e1>configuration</e1> of antenna <e2>elements</e2>.\n",
      "('<', ' <')\n",
      "The system as described above has its greatest application in an arrayed  <e1>configuration </e1> of antenna  <e2>elements </e2>.\n",
      "('>', '> ')\n",
      "The system as described above has its greatest application in an arrayed  <e1> configuration </e1>  of antenna  <e2> elements </e2> .\n",
      "Component-Whole(e2,e1)\n",
      "\n",
      "['Component-Whole(e2,e1)\\n']\n"
     ]
    }
   ],
   "source": [
    "to_replace = [(\"\\\"\", \"\"), (\"\\n\", \"\"), (\"<\", \" <\"), (\">\", \"> \")]\n",
    "for line in train_file[:2]:\n",
    "    print(line)\n",
    "    print(line.split(\"\\t\"))\n",
    "    sl = line.split(\"\\t\")\n",
    "    if sl[0].isdigit():\n",
    "            sent = sl[1]\n",
    "            for rp in to_replace:\n",
    "                print(rp)\n",
    "                sent = sent.replace(rp[0], rp[1])\n",
    "                print(sent)"
   ]
  },
  {
   "cell_type": "code",
   "execution_count": 13,
   "metadata": {},
   "outputs": [],
   "source": [
    "def prepare_dataset(raw):\n",
    "    sentences, relations = [], []\n",
    "    to_replace = [(\"\\\"\", \"\"), (\"\\n\", \"\"), (\"<\", \" <\"), (\">\", \"> \")]\n",
    "    last_was_sentence = False\n",
    "    for line in raw:\n",
    "        sl = line.split(\"\\t\")\n",
    "        if last_was_sentence:\n",
    "            relations.append(sl[0].split(\"(\")[0].replace(\"\\n\", \"\"))\n",
    "            last_was_sentence = False\n",
    "        if sl[0].isdigit():\n",
    "            sent = sl[1]\n",
    "            for rp in to_replace:\n",
    "                sent = sent.replace(rp[0], rp[1])\n",
    "            sentences.append(sent)\n",
    "            last_was_sentence = True\n",
    "    print(\"Found {} sentences\".format(len(sentences)))\n",
    "    return sentences, relations"
   ]
  },
  {
   "cell_type": "code",
   "execution_count": 14,
   "metadata": {},
   "outputs": [
    {
     "name": "stdout",
     "output_type": "stream",
     "text": [
      "Found 8000 sentences\n"
     ]
    }
   ],
   "source": [
    "sentences, relations = prepare_dataset(train_file)"
   ]
  },
  {
   "cell_type": "code",
   "execution_count": 15,
   "metadata": {},
   "outputs": [
    {
     "name": "stdout",
     "output_type": "stream",
     "text": [
      "8000\n",
      "8000\n"
     ]
    }
   ],
   "source": [
    "print(len(sentences))\n",
    "print(len(relations))"
   ]
  },
  {
   "cell_type": "code",
   "execution_count": 19,
   "metadata": {},
   "outputs": [
    {
     "name": "stdout",
     "output_type": "stream",
     "text": [
      "0\n",
      "The system as described above has its greatest application in an arrayed  <e1> configuration </e1>  of antenna  <e2> elements </e2> . ****** Component-Whole\n",
      "\n",
      "\n",
      "1\n",
      "The  <e1> child </e1>  was carefully wrapped and bound into the  <e2> cradle </e2>  by means of a cord. ****** Other\n",
      "\n",
      "\n",
      "2\n",
      "The  <e1> author </e1>  of a keygen uses a  <e2> disassembler </e2>  to look at the raw assembly code. ****** Instrument-Agency\n",
      "\n",
      "\n",
      "3\n",
      "A misty  <e1> ridge </e1>  uprises from the  <e2> surge </e2> . ****** Other\n",
      "\n",
      "\n",
      "4\n",
      "The  <e1> student </e1>   <e2> association </e2>  is the voice of the undergraduate student population of the State University of New York at Buffalo. ****** Member-Collection\n",
      "\n",
      "\n",
      "5\n",
      "This is the sprawling  <e1> complex </e1>  that is Peru's largest  <e2> producer </e2>  of silver. ****** Other\n",
      "\n",
      "\n",
      "6\n",
      "The current view is that the chronic  <e1> inflammation </e1>  in the distal part of the stomach caused by Helicobacter pylori  <e2> infection </e2>  results in an increased acid production from the non-infected upper corpus region of the stomach. ****** Cause-Effect\n",
      "\n",
      "\n",
      "7\n",
      " <e1> People </e1>  have been moving back into  <e2> downtown </e2> . ****** Entity-Destination\n",
      "\n",
      "\n",
      "8\n",
      "The  <e1> lawsonite </e1>  was contained in a  <e2> platinum crucible </e2>  and the counter-weight was a plastic crucible with metal pieces. ****** Content-Container\n",
      "\n",
      "\n",
      "9\n",
      "The solute was placed inside a beaker and 5 mL of the  <e1> solvent </e1>  was pipetted into a 25 mL glass  <e2> flask </e2>  for each trial. ****** Entity-Destination\n",
      "\n",
      "\n"
     ]
    }
   ],
   "source": [
    "for i, value in enumerate(sentences[:10]):\n",
    "    print(i)\n",
    "    print(value, \"******\", relations[i])\n",
    "    print(\"\\n\")"
   ]
  },
  {
   "cell_type": "code",
   "execution_count": 21,
   "metadata": {},
   "outputs": [
    {
     "name": "stdout",
     "output_type": "stream",
     "text": [
      "Found 10 relations\n",
      "\n",
      "Relations:\n",
      "['Entity-Origin', 'Member-Collection', 'Other', 'Content-Container', 'Cause-Effect', 'Message-Topic', 'Entity-Destination', 'Product-Producer', 'Instrument-Agency', 'Component-Whole']\n"
     ]
    }
   ],
   "source": [
    "n_relations = len(set(relations))\n",
    "print(\"Found {} relations\\n\".format(n_relations))\n",
    "print(\"Relations:\\n{}\".format(list(set(relations))))"
   ]
  },
  {
   "cell_type": "markdown",
   "metadata": {},
   "source": [
    "### Model"
   ]
  },
  {
   "cell_type": "code",
   "execution_count": 22,
   "metadata": {},
   "outputs": [
    {
     "name": "stderr",
     "output_type": "stream",
     "text": [
      "/anaconda3/lib/python3.6/site-packages/h5py/__init__.py:36: FutureWarning: Conversion of the second argument of issubdtype from `float` to `np.floating` is deprecated. In future, it will be treated as `np.float64 == np.dtype(float).type`.\n",
      "  from ._conv import register_converters as _register_converters\n",
      "Using TensorFlow backend.\n"
     ]
    }
   ],
   "source": [
    "from sklearn.base import BaseEstimator, TransformerMixin\n",
    "from keras.models import Model, Input\n",
    "from keras.layers import Dense, LSTM, Dropout, Embedding, SpatialDropout1D, Bidirectional, concatenate, InputSpec\n",
    "from keras.layers import GlobalAveragePooling1D, GlobalMaxPooling1D\n",
    "from keras.optimizers import Adam, RMSprop\n",
    "from keras.preprocessing.text import Tokenizer\n",
    "from keras.preprocessing.sequence import pad_sequences\n",
    "from sklearn.metrics import accuracy_score\n",
    "from sklearn.preprocessing import MultiLabelBinarizer, LabelEncoder\n",
    "import regex as re\n",
    "import pickle\n",
    "import numpy as np\n",
    "\n",
    "from keras.engine.topology import Layer\n",
    "from keras import initializers as initializers, regularizers, constraints\n",
    "from keras import backend as K\n",
    "\n",
    "class KerasTextClassifier(BaseEstimator, TransformerMixin):\n",
    "    '''Wrapper class for keras text classification models that takes raw text as input.'''\n",
    "    \n",
    "    def __init__(self, max_words=30000, input_length=50, emb_dim=50, n_classes=10):\n",
    "        self.max_words = max_words\n",
    "        self.input_length = input_length\n",
    "        self.emb_dim = emb_dim\n",
    "        self.n_classes = n_classes\n",
    "        self.return_attention = True\n",
    "        self.model = self._get_model()\n",
    "        self.encoder = LabelEncoder()\n",
    "        self.tokenizer = Tokenizer(num_words=self.max_words+1, filters='!\"#$%&()*+,-.:;=?@[\\\\]^_`{|}~\\t\\n', lower=True, split=' ', oov_token=\"UNK\")\n",
    "    \n",
    "    def _get_model(self):\n",
    "        d = 0.5\n",
    "        rd = 0.5\n",
    "        rnn_units = 128\n",
    "        input_text = Input((self.input_length,))\n",
    "        text_embedding = Embedding(input_dim=self.max_words + 2, output_dim=self.emb_dim,\n",
    "                                   input_length=self.input_length, mask_zero=True)(input_text)\n",
    "        text_embedding = SpatialDropout1D(0.5)(text_embedding)\n",
    "        bilstm = Bidirectional(LSTM(units=rnn_units, return_sequences=True, dropout=d,\n",
    "                                    recurrent_dropout=rd))(text_embedding)\n",
    "        x, attn = AttentionWeightedAverage(return_attention=True)(bilstm)\n",
    "        x = Dropout(0.5)(x)\n",
    "        out = Dense(units=self.n_classes, activation=\"softmax\")(x)\n",
    "        model = Model(input_text, out)\n",
    "        return model\n",
    "    \n",
    "    def _get_attention_map(self, texts):\n",
    "        att_model_output = self.model.layers[0:-2]\n",
    "        att_model = Model(att_model_output[0].input, att_model_output[-1].output)\n",
    "        att_model.compile(optimizer=RMSprop(),\n",
    "                          loss=\"sparse_categorical_crossentropy\",\n",
    "                          metrics=[\"accuracy\"])\n",
    "        return att_model.predict(self._get_sequences(texts))[1]\n",
    "    \n",
    "    def _get_sequences(self, texts):\n",
    "        seqs = self.tokenizer.texts_to_sequences(texts)\n",
    "        return pad_sequences(seqs, maxlen=self.input_length,\n",
    "                             value=0, padding='post', truncating='post')\n",
    "    \n",
    "    def _labels(self, labels):\n",
    "        return self.encoder.transform(labels)\n",
    "    \n",
    "    def fit(self, X, y, X_val=None, y_val=None, lr=0.001, resume=False,\n",
    "            epochs=10, batch_size=32):\n",
    "        '''\n",
    "        Fit the vocabulary and the model.\n",
    "        \n",
    "        :params:\n",
    "        X: list of texts\n",
    "        y: labels\n",
    "        X_val: list of texts for validation\n",
    "        y_val: labels for validation.\n",
    "        '''\n",
    "        self.model.compile(optimizer=RMSprop(clipnorm=10., lr=lr),\n",
    "                           loss=\"sparse_categorical_crossentropy\",\n",
    "                           metrics=[\"accuracy\"])\n",
    "        \n",
    "        if not resume:\n",
    "            self.tokenizer.fit_on_texts(X)\n",
    "            self.encoder.fit(y)\n",
    "            self.tokenizer.word_index = {e: i for e,i in self.tokenizer.word_index.items() if i <= self.max_words}\n",
    "            self.tokenizer.word_index[self.tokenizer.oov_token] = self.max_words + 1\n",
    "        else:\n",
    "            print(\"Resuming training...\")\n",
    "        seqs = self._get_sequences(X)\n",
    "        categorical_y = self._labels(y)\n",
    "        print(\"Fit text model with {} classes\".format(len(self.encoder.classes_)))\n",
    "        if X_val:\n",
    "            val_seqs = self._get_sequences(X_val)\n",
    "            categorical_y_val = self._labels(y_val)\n",
    "            self.model.fit(seqs, categorical_y, batch_size=batch_size,\n",
    "                           epochs=epochs, validation_data=(val_seqs, categorical_y_val))\n",
    "        else:\n",
    "            self.model.fit(seqs, categorical_y, batch_size=batch_size,\n",
    "                           epochs=epochs, validation_split=0.1)\n",
    "    \n",
    "    def predict_proba(self, X, y=None):\n",
    "        return self.model.predict(self._get_sequences(X))\n",
    "    \n",
    "    def predict(self, X, y=None):\n",
    "        return np.argmax(self.predict_proba(X), axis=1)\n",
    "    \n",
    "    def save(self, path=\"model\"):                               \n",
    "        self.model.save_weights('{}_weights.h5'.format(path))          \n",
    "        with open(\"{}_index.pkl\".format(path), \"wb\") as f:                      \n",
    "            pickle.dump([self.encoder, self.tokenizer, self.max_words,\n",
    "                         self.emb_dim, self.input_length, self.n_classes], f)         \n",
    "            \n",
    "    def load(self, path=\"model\"):                                                              \n",
    "        with open(\"{}_index.pkl\".format(path), \"rb\") as f:\n",
    "            self.encoder, self.tokenizer, self.max_words, self.emb_dim, self.input_length, self.n_classes = pickle.load(f)                                                                     \n",
    "        self.model = self._get_model()                                           \n",
    "        self.model.load_weights('{}_weights.h5'.format(path))\n",
    "        \n",
    "        \n",
    "class AttentionWeightedAverage(Layer):\n",
    "    \"\"\"\n",
    "    Computes a weighted average attention mechanism from:\n",
    "        Zhou, Peng, Wei Shi, Jun Tian, Zhenyu Qi, Bingchen Li, Hongwei Hao and Bo Xu.\n",
    "        “Attention-Based Bidirectional Long Short-Term Memory Networks for Relation Classification.”\n",
    "        ACL (2016). http://www.aclweb.org/anthology/P16-2034\n",
    "    How to use:\n",
    "    see: [BLOGPOST]\n",
    "    \"\"\"\n",
    "\n",
    "    def __init__(self, return_attention=False, **kwargs):\n",
    "        self.init = initializers.get('uniform')\n",
    "        self.supports_masking = True\n",
    "        self.return_attention = return_attention\n",
    "        super(AttentionWeightedAverage, self).__init__(** kwargs)\n",
    "\n",
    "    def build(self, input_shape):\n",
    "        self.input_spec = [InputSpec(ndim=3)]\n",
    "        assert len(input_shape) == 3\n",
    "\n",
    "        self.w = self.add_weight(shape=(input_shape[2], 1),\n",
    "                                 name='{}_w'.format(self.name),\n",
    "                                 initializer=self.init)\n",
    "        self.trainable_weights = [self.w]\n",
    "        super(AttentionWeightedAverage, self).build(input_shape)\n",
    "\n",
    "    def call(self, h, mask=None):\n",
    "        h_shape = K.shape(h)\n",
    "        d_w, T = h_shape[0], h_shape[1]\n",
    "        \n",
    "        logits = K.dot(h, self.w)  # w^T h\n",
    "        logits = K.reshape(logits, (d_w, T))\n",
    "        alpha = K.exp(logits - K.max(logits, axis=-1, keepdims=True))  # exp\n",
    "        \n",
    "        # masked timesteps have zero weight\n",
    "        if mask is not None:\n",
    "            mask = K.cast(mask, K.floatx())\n",
    "            alpha = alpha * mask\n",
    "        alpha = alpha / K.sum(alpha, axis=1, keepdims=True) # softmax\n",
    "        r = K.sum(h * K.expand_dims(alpha), axis=1)  # r = h*alpha^T\n",
    "        h_star = K.tanh(r)  # h^* = tanh(r)\n",
    "        if self.return_attention:\n",
    "            return [h_star, alpha]\n",
    "        return h_star\n",
    "\n",
    "    def get_output_shape_for(self, input_shape):\n",
    "        return self.compute_output_shape(input_shape)\n",
    "\n",
    "    def compute_output_shape(self, input_shape):\n",
    "        output_len = input_shape[2]\n",
    "        if self.return_attention:\n",
    "            return [(input_shape[0], output_len), (input_shape[0], input_shape[1])]\n",
    "        return (input_shape[0], output_len)\n",
    "\n",
    "    def compute_mask(self, input, input_mask=None):\n",
    "        if isinstance(input_mask, list):\n",
    "            return [None] * len(input_mask)\n",
    "        else:\n",
    "            return None"
   ]
  },
  {
   "cell_type": "code",
   "execution_count": 23,
   "metadata": {},
   "outputs": [],
   "source": [
    "classifier = KerasTextClassifier()"
   ]
  },
  {
   "cell_type": "code",
   "execution_count": 26,
   "metadata": {},
   "outputs": [
    {
     "name": "stdout",
     "output_type": "stream",
     "text": [
      "_________________________________________________________________\n",
      "Layer (type)                 Output Shape              Param #   \n",
      "=================================================================\n",
      "input_1 (InputLayer)         (None, 50)                0         \n",
      "_________________________________________________________________\n",
      "embedding_1 (Embedding)      (None, 50, 50)            1500100   \n",
      "_________________________________________________________________\n",
      "spatial_dropout1d_1 (Spatial (None, 50, 50)            0         \n",
      "_________________________________________________________________\n",
      "bidirectional_1 (Bidirection (None, 50, 256)           183296    \n",
      "_________________________________________________________________\n",
      "attention_weighted_average_1 [(None, 256), (None, 50)] 256       \n",
      "_________________________________________________________________\n",
      "dropout_1 (Dropout)          (None, 256)               0         \n",
      "_________________________________________________________________\n",
      "dense_1 (Dense)              (None, 10)                2570      \n",
      "=================================================================\n",
      "Total params: 1,686,222\n",
      "Trainable params: 1,686,222\n",
      "Non-trainable params: 0\n",
      "_________________________________________________________________\n"
     ]
    }
   ],
   "source": [
    "classifier.model.summary()"
   ]
  },
  {
   "cell_type": "code",
   "execution_count": 28,
   "metadata": {},
   "outputs": [
    {
     "data": {
      "text/plain": [
       "[<keras.engine.input_layer.InputLayer at 0x1a213acdd8>,\n",
       " <keras.layers.embeddings.Embedding at 0x1a213ace80>,\n",
       " <keras.layers.core.SpatialDropout1D at 0x1a213ace48>,\n",
       " <keras.layers.wrappers.Bidirectional at 0x1a218f1b00>,\n",
       " <__main__.AttentionWeightedAverage at 0x1a2191db38>]"
      ]
     },
     "execution_count": 28,
     "metadata": {},
     "output_type": "execute_result"
    }
   ],
   "source": [
    "classifier.model.layers[0:-2]"
   ]
  },
  {
   "cell_type": "code",
   "execution_count": 29,
   "metadata": {},
   "outputs": [],
   "source": [
    "att_model_output = classifier.model.layers[0:-2]"
   ]
  },
  {
   "cell_type": "code",
   "execution_count": 31,
   "metadata": {},
   "outputs": [
    {
     "data": {
      "text/plain": [
       "<tf.Tensor 'input_1:0' shape=(?, 50) dtype=float32>"
      ]
     },
     "execution_count": 31,
     "metadata": {},
     "output_type": "execute_result"
    }
   ],
   "source": [
    "att_model_output[0].input"
   ]
  },
  {
   "cell_type": "code",
   "execution_count": 32,
   "metadata": {},
   "outputs": [
    {
     "data": {
      "text/plain": [
       "[<tf.Tensor 'attention_weighted_average_1/Tanh:0' shape=(?, 256) dtype=float32>,\n",
       " <tf.Tensor 'attention_weighted_average_1/truediv:0' shape=(?, 50) dtype=float32>]"
      ]
     },
     "execution_count": 32,
     "metadata": {},
     "output_type": "execute_result"
    }
   ],
   "source": [
    "att_model_output[-1].output"
   ]
  },
  {
   "cell_type": "code",
   "execution_count": 33,
   "metadata": {},
   "outputs": [],
   "source": [
    "att_model = Model(att_model_output[0].input, att_model_output[-1].output)"
   ]
  },
  {
   "cell_type": "code",
   "execution_count": 35,
   "metadata": {},
   "outputs": [
    {
     "name": "stdout",
     "output_type": "stream",
     "text": [
      "_________________________________________________________________\n",
      "Layer (type)                 Output Shape              Param #   \n",
      "=================================================================\n",
      "input_1 (InputLayer)         (None, 50)                0         \n",
      "_________________________________________________________________\n",
      "embedding_1 (Embedding)      (None, 50, 50)            1500100   \n",
      "_________________________________________________________________\n",
      "spatial_dropout1d_1 (Spatial (None, 50, 50)            0         \n",
      "_________________________________________________________________\n",
      "bidirectional_1 (Bidirection (None, 50, 256)           183296    \n",
      "_________________________________________________________________\n",
      "attention_weighted_average_1 [(None, 256), (None, 50)] 256       \n",
      "=================================================================\n",
      "Total params: 1,683,652\n",
      "Trainable params: 1,683,652\n",
      "Non-trainable params: 0\n",
      "_________________________________________________________________\n"
     ]
    }
   ],
   "source": [
    "att_model.summary()"
   ]
  },
  {
   "cell_type": "code",
   "execution_count": 36,
   "metadata": {},
   "outputs": [],
   "source": [
    "import numpy as np\n",
    "from sklearn.model_selection import train_test_split"
   ]
  },
  {
   "cell_type": "code",
   "execution_count": 37,
   "metadata": {},
   "outputs": [],
   "source": [
    "kclf = KerasTextClassifier(input_length=50, n_classes=n_relations,\n",
    "                           max_words=15000)"
   ]
  },
  {
   "cell_type": "code",
   "execution_count": 39,
   "metadata": {},
   "outputs": [],
   "source": [
    "tr_sent, te_sent, tr_rel, te_rel = train_test_split(sentences, relations,\n",
    "                                                    test_size=0.1)"
   ]
  },
  {
   "cell_type": "code",
   "execution_count": 40,
   "metadata": {},
   "outputs": [
    {
     "name": "stdout",
     "output_type": "stream",
     "text": [
      "Fit text model with 10 classes\n",
      "Train on 7200 samples, validate on 800 samples\n",
      "Epoch 1/20\n",
      "7200/7200 [==============================] - 53s 7ms/step - loss: 2.1610 - acc: 0.2138 - val_loss: 1.9553 - val_acc: 0.3238\n",
      "Epoch 2/20\n",
      "7200/7200 [==============================] - 1497s 208ms/step - loss: 1.8698 - acc: 0.3325 - val_loss: 1.6720 - val_acc: 0.4038\n",
      "Epoch 3/20\n",
      "7200/7200 [==============================] - 47s 6ms/step - loss: 1.6707 - acc: 0.3947 - val_loss: 1.4884 - val_acc: 0.4700\n",
      "Epoch 4/20\n",
      "7200/7200 [==============================] - 48s 7ms/step - loss: 1.5326 - acc: 0.4411 - val_loss: 1.3938 - val_acc: 0.5113\n",
      "Epoch 5/20\n",
      "7200/7200 [==============================] - 47s 7ms/step - loss: 1.4139 - acc: 0.4839 - val_loss: 1.3201 - val_acc: 0.5400\n",
      "Epoch 6/20\n",
      "7200/7200 [==============================] - 49s 7ms/step - loss: 1.3101 - acc: 0.5332 - val_loss: 1.2806 - val_acc: 0.5650\n",
      "Epoch 7/20\n",
      "7200/7200 [==============================] - 49s 7ms/step - loss: 1.2242 - acc: 0.5742 - val_loss: 1.2133 - val_acc: 0.5838\n",
      "Epoch 8/20\n",
      "7200/7200 [==============================] - 49s 7ms/step - loss: 1.1383 - acc: 0.6004 - val_loss: 1.2049 - val_acc: 0.5938\n",
      "Epoch 9/20\n",
      "7200/7200 [==============================] - 52s 7ms/step - loss: 1.0653 - acc: 0.6281 - val_loss: 1.1831 - val_acc: 0.6050\n",
      "Epoch 10/20\n",
      "7200/7200 [==============================] - 49s 7ms/step - loss: 0.9714 - acc: 0.6613 - val_loss: 1.1775 - val_acc: 0.6200\n",
      "Epoch 11/20\n",
      "7200/7200 [==============================] - 49s 7ms/step - loss: 0.9123 - acc: 0.6786 - val_loss: 1.1607 - val_acc: 0.6413\n",
      "Epoch 12/20\n",
      "7200/7200 [==============================] - 49s 7ms/step - loss: 0.8545 - acc: 0.7085 - val_loss: 1.1531 - val_acc: 0.6388\n",
      "Epoch 13/20\n",
      "7200/7200 [==============================] - 50s 7ms/step - loss: 0.8090 - acc: 0.7296 - val_loss: 1.1839 - val_acc: 0.6463\n",
      "Epoch 14/20\n",
      "7200/7200 [==============================] - 48s 7ms/step - loss: 0.7474 - acc: 0.7514 - val_loss: 1.2186 - val_acc: 0.6438\n",
      "Epoch 15/20\n",
      "7200/7200 [==============================] - 49s 7ms/step - loss: 0.7007 - acc: 0.7661 - val_loss: 1.1888 - val_acc: 0.6525\n",
      "Epoch 16/20\n",
      "7200/7200 [==============================] - 51s 7ms/step - loss: 0.6530 - acc: 0.7785 - val_loss: 1.2526 - val_acc: 0.6588\n",
      "Epoch 17/20\n",
      "7200/7200 [==============================] - 53s 7ms/step - loss: 0.6249 - acc: 0.7871 - val_loss: 1.2206 - val_acc: 0.6663\n",
      "Epoch 18/20\n",
      "7200/7200 [==============================] - 51s 7ms/step - loss: 0.5991 - acc: 0.8028 - val_loss: 1.2329 - val_acc: 0.6750\n",
      "Epoch 19/20\n",
      "7200/7200 [==============================] - 54s 7ms/step - loss: 0.5609 - acc: 0.8193 - val_loss: 1.2514 - val_acc: 0.6738\n",
      "Epoch 20/20\n",
      "7200/7200 [==============================] - 51s 7ms/step - loss: 0.5449 - acc: 0.8251 - val_loss: 1.2972 - val_acc: 0.6650\n"
     ]
    }
   ],
   "source": [
    "kclf.fit(X=tr_sent, y=tr_rel, X_val=te_sent, y_val=te_rel,\n",
    "         batch_size=10, lr=0.001, epochs=20)"
   ]
  },
  {
   "cell_type": "markdown",
   "metadata": {},
   "source": [
    "### Investigate Attention"
   ]
  },
  {
   "cell_type": "code",
   "execution_count": 41,
   "metadata": {},
   "outputs": [],
   "source": [
    "import matplotlib.pyplot as plt\n",
    "plt.style.use(\"ggplot\")\n",
    "%matplotlib inline"
   ]
  },
  {
   "cell_type": "code",
   "execution_count": 42,
   "metadata": {},
   "outputs": [],
   "source": [
    "y_pred = kclf.predict(te_sent)\n",
    "y_attn = kclf._get_attention_map(te_sent)"
   ]
  },
  {
   "cell_type": "code",
   "execution_count": 44,
   "metadata": {},
   "outputs": [
    {
     "name": "stdout",
     "output_type": "stream",
     "text": [
      "(800,)\n",
      "(800, 50)\n"
     ]
    }
   ],
   "source": [
    "print(y_pred.shape)\n",
    "print(y_attn.shape)"
   ]
  },
  {
   "cell_type": "code",
   "execution_count": 49,
   "metadata": {},
   "outputs": [],
   "source": [
    "i = 354\n",
    "activation_map = np.expand_dims(y_attn[i][:len(te_sent[i].split())],\n",
    "                                axis=1)"
   ]
  },
  {
   "cell_type": "code",
   "execution_count": 56,
   "metadata": {},
   "outputs": [
    {
     "name": "stdout",
     "output_type": "stream",
     "text": [
      "(27, 1)\n",
      "27\n",
      "[0.01558651 0.01449839 0.01680612 0.01850547 0.01820385 0.01465497\n",
      " 0.01759021 0.02704462 0.02673839 0.04463168 0.05781578 0.09438042\n",
      " 0.13398896 0.21263286 0.06846104 0.04793824 0.02544727 0.01812222\n",
      " 0.0131333  0.01272279 0.010885   0.01253266 0.01260024 0.01428044\n",
      " 0.01428257 0.01866479 0.01785124 0.         0.         0.\n",
      " 0.         0.         0.         0.         0.         0.\n",
      " 0.         0.         0.         0.         0.         0.\n",
      " 0.         0.         0.         0.         0.         0.\n",
      " 0.         0.        ]\n",
      "[[0.01558651]\n",
      " [0.01449839]\n",
      " [0.01680612]\n",
      " [0.01850547]\n",
      " [0.01820385]\n",
      " [0.01465497]\n",
      " [0.01759021]\n",
      " [0.02704462]\n",
      " [0.02673839]\n",
      " [0.04463168]\n",
      " [0.05781578]\n",
      " [0.09438042]\n",
      " [0.13398896]\n",
      " [0.21263286]\n",
      " [0.06846104]\n",
      " [0.04793824]\n",
      " [0.02544727]\n",
      " [0.01812222]\n",
      " [0.0131333 ]\n",
      " [0.01272279]\n",
      " [0.010885  ]\n",
      " [0.01253266]\n",
      " [0.01260024]\n",
      " [0.01428044]\n",
      " [0.01428257]\n",
      " [0.01866479]\n",
      " [0.01785124]]\n"
     ]
    }
   ],
   "source": [
    "print(activation_map.shape)\n",
    "print(len(te_sent[i].split()))\n",
    "print(y_attn[i])\n",
    "print(activation_map)"
   ]
  },
  {
   "cell_type": "code",
   "execution_count": 57,
   "metadata": {},
   "outputs": [
    {
     "data": {
      "image/png": "[encoded data removed]",
      "text/plain": [
       "<Figure size 576x576 with 2 Axes>"
      ]
     },
     "metadata": {},
     "output_type": "display_data"
    }
   ],
   "source": [
    "f = plt.figure(figsize=(8, 8))\n",
    "ax = f.add_subplot(1, 1, 1)\n",
    "\n",
    "img = ax.imshow(activation_map, interpolation='none', cmap='gray')\n",
    "\n",
    "plt.xlim([0,0.5])\n",
    "ax.set_aspect(0.1)\n",
    "ax.set_yticks(range(len(te_sent[i].split())))\n",
    "ax.set_yticklabels(te_sent[i].split());\n",
    "ax.grid()\n",
    "plt.title(\"Attention map of sample {}\\nTrue relation: {}\\nPredicted relation: {}\"\n",
    "          .format(i, te_rel[i], kclf.encoder.classes_[y_pred[i]]));\n",
    "\n",
    "# add colorbar\n",
    "cbaxes = f.add_axes([0.2, 0, 0.6, 0.03]);\n",
    "cbar = f.colorbar(img, cax=cbaxes, orientation='horizontal');\n",
    "cbar.ax.set_xlabel('Probability', labelpad=2);"
   ]
  },
  {
   "cell_type": "markdown",
   "metadata": {},
   "source": [
    "### Evaluation"
   ]
  },
  {
   "cell_type": "code",
   "execution_count": 58,
   "metadata": {},
   "outputs": [],
   "source": [
    "from sklearn.metrics import f1_score, classification_report, accuracy_score"
   ]
  },
  {
   "cell_type": "code",
   "execution_count": 59,
   "metadata": {},
   "outputs": [],
   "source": [
    "y_test_pred = kclf.predict(te_sent)"
   ]
  },
  {
   "cell_type": "code",
   "execution_count": 60,
   "metadata": {},
   "outputs": [],
   "source": [
    "label_idx_to_use = [i for i, c in enumerate(list(kclf.encoder.classes_))\n",
    "                    if  c !=\"Other\"]\n",
    "label_to_use = list(kclf.encoder.classes_)\n",
    "label_to_use.remove(\"Other\")"
   ]
  },
  {
   "cell_type": "code",
   "execution_count": 62,
   "metadata": {},
   "outputs": [
    {
     "data": {
      "text/plain": [
       "([0, 1, 2, 3, 4, 5, 6, 7, 9],\n",
       " ['Cause-Effect',\n",
       "  'Component-Whole',\n",
       "  'Content-Container',\n",
       "  'Entity-Destination',\n",
       "  'Entity-Origin',\n",
       "  'Instrument-Agency',\n",
       "  'Member-Collection',\n",
       "  'Message-Topic',\n",
       "  'Product-Producer'])"
      ]
     },
     "execution_count": 62,
     "metadata": {},
     "output_type": "execute_result"
    }
   ],
   "source": [
    "label_idx_to_use, label_to_use"
   ]
  },
  {
   "cell_type": "code",
   "execution_count": 63,
   "metadata": {},
   "outputs": [
    {
     "name": "stdout",
     "output_type": "stream",
     "text": [
      "F1-Score: 71.0%\n"
     ]
    }
   ],
   "source": [
    "print(\"F1-Score: {:.1%}\"\n",
    "      .format(f1_score(kclf.encoder.transform(te_rel), y_test_pred,\n",
    "                       average=\"macro\", labels=label_idx_to_use)))"
   ]
  },
  {
   "cell_type": "code",
   "execution_count": 64,
   "metadata": {},
   "outputs": [
    {
     "name": "stdout",
     "output_type": "stream",
     "text": [
      "                    precision    recall  f1-score   support\n",
      "\n",
      "      Cause-Effect       0.83      0.83      0.83       100\n",
      "   Component-Whole       0.60      0.68      0.64        90\n",
      " Content-Container       0.72      0.84      0.77        43\n",
      "Entity-Destination       0.86      0.73      0.79        88\n",
      "     Entity-Origin       0.78      0.78      0.78        80\n",
      " Instrument-Agency       0.54      0.60      0.57        50\n",
      " Member-Collection       0.77      0.87      0.82        75\n",
      "     Message-Topic       0.56      0.70      0.62        57\n",
      "  Product-Producer       0.55      0.61      0.58        69\n",
      "\n",
      "         micro avg       0.70      0.74      0.72       652\n",
      "         macro avg       0.69      0.74      0.71       652\n",
      "      weighted avg       0.71      0.74      0.72       652\n",
      "\n"
     ]
    }
   ],
   "source": [
    "print(classification_report(kclf.encoder.transform(te_rel), y_test_pred,\n",
    "                            target_names=label_to_use,\n",
    "                            labels=label_idx_to_use))"
   ]
  },
  {
   "cell_type": "code",
   "execution_count": null,
   "metadata": {},
   "outputs": [],
   "source": []
  }
 ],
 "metadata": {
  "kernelspec": {
   "display_name": "Python 3",
   "language": "python",
   "name": "python3"
  },
  "language_info": {
   "codemirror_mode": {
    "name": "ipython",
    "version": 3
   },
   "file_extension": ".py",
   "mimetype": "text/x-python",
   "name": "python",
   "nbconvert_exporter": "python",
   "pygments_lexer": "ipython3",
   "version": "3.6.5"
  }
 },
 "nbformat": 4,
 "nbformat_minor": 2
}
