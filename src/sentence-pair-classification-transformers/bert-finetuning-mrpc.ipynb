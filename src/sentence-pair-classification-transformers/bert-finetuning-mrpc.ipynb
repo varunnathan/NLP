{
 "cells": [
  {
   "cell_type": "code",
   "execution_count": 1,
   "metadata": {},
   "outputs": [
    {
     "name": "stderr",
     "output_type": "stream",
     "text": [
      "Cached Downloading: /Users/varunn/.cache/gdown/https-COLON--SLASH--SLASH-raw.githubusercontent.com-SLASH-wasiahmad-SLASH-paraphrase_identification-SLASH-master-SLASH-dataset-SLASH-msr-paraphrase-corpus-SLASH-msr_paraphrase_train.txt\n",
      "Downloading...\n",
      "From: https://raw.githubusercontent.com/wasiahmad/paraphrase_identification/master/dataset/msr-paraphrase-corpus/msr_paraphrase_train.txt\n",
      "To: /Users/varunn/.cache/gdown/tmpik0ffkrr/dl\n",
      "1.02MB [00:00, 5.47MB/s]                  \n",
      "Cached Downloading: /Users/varunn/.cache/gdown/https-COLON--SLASH--SLASH-raw.githubusercontent.com-SLASH-wasiahmad-SLASH-paraphrase_identification-SLASH-master-SLASH-dataset-SLASH-msr-paraphrase-corpus-SLASH-msr_paraphrase_test.txt\n",
      "Downloading...\n",
      "From: https://raw.githubusercontent.com/wasiahmad/paraphrase_identification/master/dataset/msr-paraphrase-corpus/msr_paraphrase_test.txt\n",
      "To: /Users/varunn/.cache/gdown/tmp7trkcz3z/dl\n",
      "431kB [00:00, 1.96MB/s]                   \n"
     ]
    }
   ],
   "source": [
    "import lineflow.datasets as lfds\n",
    "\n",
    "train = lfds.MsrParaphrase('train')\n",
    "test = lfds.MsrParaphrase('test')"
   ]
  },
  {
   "cell_type": "code",
   "execution_count": 2,
   "metadata": {},
   "outputs": [
    {
     "data": {
      "text/plain": [
       "3962"
      ]
     },
     "execution_count": 2,
     "metadata": {},
     "output_type": "execute_result"
    }
   ],
   "source": [
    "len(train)"
   ]
  },
  {
   "cell_type": "code",
   "execution_count": 3,
   "metadata": {},
   "outputs": [
    {
     "data": {
      "text/plain": [
       "{'quality': '1',\n",
       " 'id1': '702876',\n",
       " 'id2': '702977',\n",
       " 'string1': 'Amrozi accused his brother, whom he called \"the witness\", of deliberately distorting his evidence.',\n",
       " 'string2': 'Referring to him as only \"the witness\", Amrozi accused his brother of deliberately distorting his evidence.'}"
      ]
     },
     "execution_count": 3,
     "metadata": {},
     "output_type": "execute_result"
    }
   ],
   "source": [
    "train.first()"
   ]
  },
  {
   "cell_type": "code",
   "execution_count": 5,
   "metadata": {},
   "outputs": [],
   "source": [
    "from transformers import BertTokenizer\n",
    "tokenizer = BertTokenizer.from_pretrained(\"bert-base-uncased\",\n",
    "                                          do_lower_case=True)"
   ]
  },
  {
   "cell_type": "code",
   "execution_count": 6,
   "metadata": {},
   "outputs": [],
   "source": [
    "text = \"Hello NLP lovers!\"\n",
    "MAX_LEN = 128\n",
    "inputs = tokenizer.encode_plus(text, add_special_tokens=True,\n",
    "                               max_length=MAX_LEN)"
   ]
  },
  {
   "cell_type": "code",
   "execution_count": 7,
   "metadata": {},
   "outputs": [
    {
     "data": {
      "text/plain": [
       "{'special_tokens_mask': [1, 0, 0, 0, 0, 0, 1],\n",
       " 'input_ids': [101, 7592, 17953, 2361, 10205, 999, 102],\n",
       " 'token_type_ids': [0, 0, 0, 0, 0, 0, 0]}"
      ]
     },
     "execution_count": 7,
     "metadata": {},
     "output_type": "execute_result"
    }
   ],
   "source": [
    "inputs"
   ]
  },
  {
   "cell_type": "code",
   "execution_count": 8,
   "metadata": {},
   "outputs": [
    {
     "data": {
      "text/plain": [
       "['hello', 'nl', '##p', 'lovers', '!']"
      ]
     },
     "execution_count": 8,
     "metadata": {},
     "output_type": "execute_result"
    }
   ],
   "source": [
    "tokenizer.tokenize(text)"
   ]
  },
  {
   "cell_type": "code",
   "execution_count": 11,
   "metadata": {},
   "outputs": [],
   "source": [
    "sent1 = \"It is an excellent day for a picnic!\"\n",
    "sent2 = \"In a day like this, I want to go for a picnic!\"\n",
    "MAX_LEN = 128\n",
    "inputs = tokenizer.encode_plus(sent1, sent2, add_special_tokens=True,\n",
    "                               max_length=MAX_LEN)\n",
    "input_ids, token_type_ids = inputs[\"input_ids\"], inputs[\"token_type_ids\"]"
   ]
  },
  {
   "cell_type": "code",
   "execution_count": 13,
   "metadata": {},
   "outputs": [
    {
     "data": {
      "text/plain": [
       "([101,\n",
       "  2009,\n",
       "  2003,\n",
       "  2019,\n",
       "  6581,\n",
       "  2154,\n",
       "  2005,\n",
       "  1037,\n",
       "  12695,\n",
       "  999,\n",
       "  102,\n",
       "  1999,\n",
       "  1037,\n",
       "  2154,\n",
       "  2066,\n",
       "  2023,\n",
       "  1010,\n",
       "  1045,\n",
       "  2215,\n",
       "  2000,\n",
       "  2175,\n",
       "  2005,\n",
       "  1037,\n",
       "  12695,\n",
       "  999,\n",
       "  102],\n",
       " [0,\n",
       "  0,\n",
       "  0,\n",
       "  0,\n",
       "  0,\n",
       "  0,\n",
       "  0,\n",
       "  0,\n",
       "  0,\n",
       "  0,\n",
       "  0,\n",
       "  1,\n",
       "  1,\n",
       "  1,\n",
       "  1,\n",
       "  1,\n",
       "  1,\n",
       "  1,\n",
       "  1,\n",
       "  1,\n",
       "  1,\n",
       "  1,\n",
       "  1,\n",
       "  1,\n",
       "  1,\n",
       "  1])"
      ]
     },
     "execution_count": 13,
     "metadata": {},
     "output_type": "execute_result"
    }
   ],
   "source": [
    "input_ids, token_type_ids"
   ]
  },
  {
   "cell_type": "code",
   "execution_count": null,
   "metadata": {},
   "outputs": [],
   "source": []
  }
 ],
 "metadata": {
  "kernelspec": {
   "display_name": "Python 3",
   "language": "python",
   "name": "python3"
  },
  "language_info": {
   "codemirror_mode": {
    "name": "ipython",
    "version": 3
   },
   "file_extension": ".py",
   "mimetype": "text/x-python",
   "name": "python",
   "nbconvert_exporter": "python",
   "pygments_lexer": "ipython3",
   "version": "3.6.5"
  }
 },
 "nbformat": 4,
 "nbformat_minor": 2
}
