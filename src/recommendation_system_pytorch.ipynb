{
 "cells": [
  {
   "cell_type": "markdown",
   "metadata": {},
   "source": [
    "## Dataset - Movielens data\n",
    "https://medium.com/@iliazaitsev/how-to-implement-a-recommendation-system-with-deep-learning-and-pytorch-2d40476590f9"
   ]
  },
  {
   "cell_type": "code",
   "execution_count": 1,
   "metadata": {},
   "outputs": [],
   "source": [
    "%load_ext autoreload"
   ]
  },
  {
   "cell_type": "code",
   "execution_count": 2,
   "metadata": {},
   "outputs": [],
   "source": [
    "%autoreload 2"
   ]
  },
  {
   "cell_type": "code",
   "execution_count": 3,
   "metadata": {},
   "outputs": [],
   "source": [
    "%matplotlib inline"
   ]
  },
  {
   "cell_type": "code",
   "execution_count": 4,
   "metadata": {},
   "outputs": [],
   "source": [
    "import io\n",
    "import os\n",
    "import math\n",
    "import copy\n",
    "import pickle\n",
    "import zipfile\n",
    "from textwrap import wrap\n",
    "from pathlib import Path\n",
    "from itertools import zip_longest\n",
    "from collections import defaultdict\n",
    "from urllib.error import URLError\n",
    "from urllib.request import urlopen\n",
    "\n",
    "import numpy as np\n",
    "import pandas as pd\n",
    "import matplotlib.pyplot as plt\n",
    "from sklearn.model_selection import train_test_split\n",
    "\n",
    "import torch\n",
    "from torch import nn\n",
    "from torch import optim\n",
    "from torch.nn import functional as F \n",
    "from torch.optim.lr_scheduler import _LRScheduler"
   ]
  },
  {
   "cell_type": "code",
   "execution_count": 5,
   "metadata": {},
   "outputs": [],
   "source": [
    "plt.style.use('ggplot')"
   ]
  },
  {
   "cell_type": "code",
   "execution_count": 6,
   "metadata": {},
   "outputs": [],
   "source": [
    "def set_random_seed(state=1):\n",
    "    gens = (np.random.seed, torch.manual_seed, torch.cuda.manual_seed)\n",
    "    for set_state in gens:\n",
    "        set_state(state)"
   ]
  },
  {
   "cell_type": "code",
   "execution_count": 7,
   "metadata": {},
   "outputs": [],
   "source": [
    "RANDOM_STATE = 1\n",
    "set_random_seed(RANDOM_STATE)"
   ]
  },
  {
   "cell_type": "code",
   "execution_count": 8,
   "metadata": {},
   "outputs": [],
   "source": [
    "def try_download(url, download_path):\n",
    "    archive_name = url.split('/')[-1]\n",
    "    folder_name, _ = os.path.splitext(archive_name)\n",
    "    \n",
    "    try:\n",
    "        r = urlopen(url)\n",
    "    except URLError as e:\n",
    "        print('Cannot download the data. Error: %s' % s)\n",
    "        return \n",
    "\n",
    "    assert r.status == 200\n",
    "    data = r.read()\n",
    "\n",
    "    with zipfile.ZipFile(io.BytesIO(data)) as arch:\n",
    "        arch.extractall(download_path)\n",
    "        \n",
    "    print('The archive is extracted into folder: %s' % download_path)"
   ]
  },
  {
   "cell_type": "code",
   "execution_count": 9,
   "metadata": {},
   "outputs": [],
   "source": [
    "def read_data(path):\n",
    "    files = {}\n",
    "    for filename in path.glob('*'):\n",
    "        if filename.suffix == '.csv':\n",
    "            files[filename.stem] = pd.read_csv(filename)\n",
    "        elif filename.suffix == '.dat':\n",
    "            if filename.stem == 'ratings':\n",
    "                columns = ['userId', 'movieId', 'rating', 'timestamp']\n",
    "            else:\n",
    "                columns = ['movieId', 'title', 'genres']\n",
    "            data = pd.read_csv(filename, sep='::', names=columns, engine='python')\n",
    "            files[filename.stem] = data\n",
    "    return files['ratings'], files['movies']"
   ]
  },
  {
   "cell_type": "code",
   "execution_count": 10,
   "metadata": {},
   "outputs": [],
   "source": [
    "# pick any other dataset instead\n",
    "archive_url = f'http://files.grouplens.org/datasets/movielens/ml-1m.zip'\n",
    "download_path = '/Users/varunn/Documents/NLP-data'"
   ]
  },
  {
   "cell_type": "code",
   "execution_count": 14,
   "metadata": {},
   "outputs": [
    {
     "name": "stdout",
     "output_type": "stream",
     "text": [
      "The archive is extracted into folder: /Users/varunn/Documents/NLP-data\n"
     ]
    }
   ],
   "source": [
    "try_download(archive_url, download_path)"
   ]
  },
  {
   "cell_type": "code",
   "execution_count": 15,
   "metadata": {},
   "outputs": [
    {
     "name": "stdout",
     "output_type": "stream",
     "text": [
      "total 62528\r\n",
      "drwxr-xr-x  3 vnathan  staff       102 Feb  4 23:17 \u001b[34mMNLI\u001b[m\u001b[m\r\n",
      "drwxr-xr-x  3 vnathan  staff       102 Apr  2  2019 \u001b[34mMRPC\u001b[m\u001b[m\r\n",
      "-rw-r--r--  1 vnathan  staff       217 Mar 22  2019 checkpoint\r\n",
      "-rw-r--r--  1 vnathan  staff    472760 Mar 22  2019 embedding_intent_classifier_exampledataset.ckpt.data-00000-of-00001\r\n",
      "-rw-r--r--  1 vnathan  staff       915 Mar 22  2019 embedding_intent_classifier_exampledataset.ckpt.index\r\n",
      "-rw-r--r--  1 vnathan  staff    168005 Mar 22  2019 embedding_intent_classifier_exampledataset.ckpt.meta\r\n",
      "-rw-r--r--  1 vnathan  staff       229 Mar 22  2019 embedding_intent_classifier_exampledataset_encoded_all_intents.pkl\r\n",
      "-rw-r--r--  1 vnathan  staff        63 Mar 22  2019 embedding_intent_classifier_exampledataset_inv_intent_dict.pkl\r\n",
      "drwxr-xr-x  6 vnathan  staff       204 May 15 12:11 \u001b[34mml-1m\u001b[m\u001b[m\r\n",
      "drwxr-xr-x  7 vnathan  staff       238 May 15 12:03 \u001b[34mml-latest-small\u001b[m\u001b[m\r\n",
      "-rw-r--r--  1 vnathan  staff  31344132 Jan  3  2019 text8.zip\r\n",
      "-rw-r--r--  1 vnathan  staff       568 Mar 25  2019 vocabulary_file_w2v.txt\r\n"
     ]
    }
   ],
   "source": [
    "!ls -l $download_path"
   ]
  },
  {
   "cell_type": "code",
   "execution_count": 11,
   "metadata": {},
   "outputs": [],
   "source": [
    "# pick one of the available folders\n",
    "ratings, movies = read_data(Path(os.path.join(download_path, 'ml-1m')))"
   ]
  },
  {
   "cell_type": "code",
   "execution_count": 12,
   "metadata": {},
   "outputs": [
    {
     "name": "stdout",
     "output_type": "stream",
     "text": [
      "(1000209, 4)\n"
     ]
    },
    {
     "data": {
      "text/html": [
       "<div>\n",
       "<style scoped>\n",
       "    .dataframe tbody tr th:only-of-type {\n",
       "        vertical-align: middle;\n",
       "    }\n",
       "\n",
       "    .dataframe tbody tr th {\n",
       "        vertical-align: top;\n",
       "    }\n",
       "\n",
       "    .dataframe thead th {\n",
       "        text-align: right;\n",
       "    }\n",
       "</style>\n",
       "<table border=\"1\" class=\"dataframe\">\n",
       "  <thead>\n",
       "    <tr style=\"text-align: right;\">\n",
       "      <th></th>\n",
       "      <th>userId</th>\n",
       "      <th>movieId</th>\n",
       "      <th>rating</th>\n",
       "      <th>timestamp</th>\n",
       "    </tr>\n",
       "  </thead>\n",
       "  <tbody>\n",
       "    <tr>\n",
       "      <th>0</th>\n",
       "      <td>1</td>\n",
       "      <td>1193</td>\n",
       "      <td>5</td>\n",
       "      <td>978300760</td>\n",
       "    </tr>\n",
       "    <tr>\n",
       "      <th>1</th>\n",
       "      <td>1</td>\n",
       "      <td>661</td>\n",
       "      <td>3</td>\n",
       "      <td>978302109</td>\n",
       "    </tr>\n",
       "    <tr>\n",
       "      <th>2</th>\n",
       "      <td>1</td>\n",
       "      <td>914</td>\n",
       "      <td>3</td>\n",
       "      <td>978301968</td>\n",
       "    </tr>\n",
       "    <tr>\n",
       "      <th>3</th>\n",
       "      <td>1</td>\n",
       "      <td>3408</td>\n",
       "      <td>4</td>\n",
       "      <td>978300275</td>\n",
       "    </tr>\n",
       "    <tr>\n",
       "      <th>4</th>\n",
       "      <td>1</td>\n",
       "      <td>2355</td>\n",
       "      <td>5</td>\n",
       "      <td>978824291</td>\n",
       "    </tr>\n",
       "  </tbody>\n",
       "</table>\n",
       "</div>"
      ],
      "text/plain": [
       "   userId  movieId  rating  timestamp\n",
       "0       1     1193       5  978300760\n",
       "1       1      661       3  978302109\n",
       "2       1      914       3  978301968\n",
       "3       1     3408       4  978300275\n",
       "4       1     2355       5  978824291"
      ]
     },
     "execution_count": 12,
     "metadata": {},
     "output_type": "execute_result"
    }
   ],
   "source": [
    "print(ratings.shape)\n",
    "ratings.head()"
   ]
  },
  {
   "cell_type": "code",
   "execution_count": 13,
   "metadata": {},
   "outputs": [
    {
     "name": "stdout",
     "output_type": "stream",
     "text": [
      "(3883, 3)\n"
     ]
    },
    {
     "data": {
      "text/html": [
       "<div>\n",
       "<style scoped>\n",
       "    .dataframe tbody tr th:only-of-type {\n",
       "        vertical-align: middle;\n",
       "    }\n",
       "\n",
       "    .dataframe tbody tr th {\n",
       "        vertical-align: top;\n",
       "    }\n",
       "\n",
       "    .dataframe thead th {\n",
       "        text-align: right;\n",
       "    }\n",
       "</style>\n",
       "<table border=\"1\" class=\"dataframe\">\n",
       "  <thead>\n",
       "    <tr style=\"text-align: right;\">\n",
       "      <th></th>\n",
       "      <th>movieId</th>\n",
       "      <th>title</th>\n",
       "      <th>genres</th>\n",
       "    </tr>\n",
       "  </thead>\n",
       "  <tbody>\n",
       "    <tr>\n",
       "      <th>0</th>\n",
       "      <td>1</td>\n",
       "      <td>Toy Story (1995)</td>\n",
       "      <td>Animation|Children's|Comedy</td>\n",
       "    </tr>\n",
       "    <tr>\n",
       "      <th>1</th>\n",
       "      <td>2</td>\n",
       "      <td>Jumanji (1995)</td>\n",
       "      <td>Adventure|Children's|Fantasy</td>\n",
       "    </tr>\n",
       "    <tr>\n",
       "      <th>2</th>\n",
       "      <td>3</td>\n",
       "      <td>Grumpier Old Men (1995)</td>\n",
       "      <td>Comedy|Romance</td>\n",
       "    </tr>\n",
       "    <tr>\n",
       "      <th>3</th>\n",
       "      <td>4</td>\n",
       "      <td>Waiting to Exhale (1995)</td>\n",
       "      <td>Comedy|Drama</td>\n",
       "    </tr>\n",
       "    <tr>\n",
       "      <th>4</th>\n",
       "      <td>5</td>\n",
       "      <td>Father of the Bride Part II (1995)</td>\n",
       "      <td>Comedy</td>\n",
       "    </tr>\n",
       "  </tbody>\n",
       "</table>\n",
       "</div>"
      ],
      "text/plain": [
       "   movieId                               title                        genres\n",
       "0        1                    Toy Story (1995)   Animation|Children's|Comedy\n",
       "1        2                      Jumanji (1995)  Adventure|Children's|Fantasy\n",
       "2        3             Grumpier Old Men (1995)                Comedy|Romance\n",
       "3        4            Waiting to Exhale (1995)                  Comedy|Drama\n",
       "4        5  Father of the Bride Part II (1995)                        Comedy"
      ]
     },
     "execution_count": 13,
     "metadata": {},
     "output_type": "execute_result"
    }
   ],
   "source": [
    "print(movies.shape)\n",
    "movies.head()"
   ]
  },
  {
   "cell_type": "code",
   "execution_count": 14,
   "metadata": {},
   "outputs": [],
   "source": [
    "def tabular_preview(ratings, n=15):\n",
    "    \"\"\"Creates a cross-tabular view of users vs movies.\"\"\"\n",
    "    \n",
    "    user_groups = ratings.groupby('userId')['rating'].count()\n",
    "    top_users = user_groups.sort_values(ascending=False)[:15]\n",
    "\n",
    "    movie_groups = ratings.groupby('movieId')['rating'].count()\n",
    "    top_movies = movie_groups.sort_values(ascending=False)[:15]\n",
    "\n",
    "    top = (\n",
    "        ratings.\n",
    "        join(top_users, rsuffix='_r', how='inner', on='userId').\n",
    "        join(top_movies, rsuffix='_r', how='inner', on='movieId'))\n",
    "\n",
    "    return pd.crosstab(top.userId, top.movieId, top.rating,\n",
    "                       aggfunc=np.sum)"
   ]
  },
  {
   "cell_type": "code",
   "execution_count": 15,
   "metadata": {},
   "outputs": [
    {
     "data": {
      "text/html": [
       "<div>\n",
       "<style scoped>\n",
       "    .dataframe tbody tr th:only-of-type {\n",
       "        vertical-align: middle;\n",
       "    }\n",
       "\n",
       "    .dataframe tbody tr th {\n",
       "        vertical-align: top;\n",
       "    }\n",
       "\n",
       "    .dataframe thead th {\n",
       "        text-align: right;\n",
       "    }\n",
       "</style>\n",
       "<table border=\"1\" class=\"dataframe\">\n",
       "  <thead>\n",
       "    <tr style=\"text-align: right;\">\n",
       "      <th>movieId</th>\n",
       "      <th>110</th>\n",
       "      <th>260</th>\n",
       "      <th>480</th>\n",
       "      <th>589</th>\n",
       "      <th>593</th>\n",
       "      <th>608</th>\n",
       "      <th>1196</th>\n",
       "      <th>1198</th>\n",
       "      <th>1210</th>\n",
       "      <th>1270</th>\n",
       "      <th>1580</th>\n",
       "      <th>2028</th>\n",
       "      <th>2571</th>\n",
       "      <th>2762</th>\n",
       "      <th>2858</th>\n",
       "    </tr>\n",
       "    <tr>\n",
       "      <th>userId</th>\n",
       "      <th></th>\n",
       "      <th></th>\n",
       "      <th></th>\n",
       "      <th></th>\n",
       "      <th></th>\n",
       "      <th></th>\n",
       "      <th></th>\n",
       "      <th></th>\n",
       "      <th></th>\n",
       "      <th></th>\n",
       "      <th></th>\n",
       "      <th></th>\n",
       "      <th></th>\n",
       "      <th></th>\n",
       "      <th></th>\n",
       "    </tr>\n",
       "  </thead>\n",
       "  <tbody>\n",
       "    <tr>\n",
       "      <th>889</th>\n",
       "      <td>4.0</td>\n",
       "      <td>4.0</td>\n",
       "      <td>3.0</td>\n",
       "      <td>5.0</td>\n",
       "      <td>5.0</td>\n",
       "      <td>4.0</td>\n",
       "      <td>4.0</td>\n",
       "      <td>NaN</td>\n",
       "      <td>3.0</td>\n",
       "      <td>4.0</td>\n",
       "      <td>3.0</td>\n",
       "      <td>3.0</td>\n",
       "      <td>5.0</td>\n",
       "      <td>NaN</td>\n",
       "      <td>2.0</td>\n",
       "    </tr>\n",
       "    <tr>\n",
       "      <th>1015</th>\n",
       "      <td>4.0</td>\n",
       "      <td>5.0</td>\n",
       "      <td>4.0</td>\n",
       "      <td>5.0</td>\n",
       "      <td>5.0</td>\n",
       "      <td>5.0</td>\n",
       "      <td>4.0</td>\n",
       "      <td>5.0</td>\n",
       "      <td>4.0</td>\n",
       "      <td>4.0</td>\n",
       "      <td>4.0</td>\n",
       "      <td>5.0</td>\n",
       "      <td>5.0</td>\n",
       "      <td>5.0</td>\n",
       "      <td>4.0</td>\n",
       "    </tr>\n",
       "    <tr>\n",
       "      <th>1150</th>\n",
       "      <td>2.0</td>\n",
       "      <td>5.0</td>\n",
       "      <td>NaN</td>\n",
       "      <td>2.0</td>\n",
       "      <td>3.0</td>\n",
       "      <td>5.0</td>\n",
       "      <td>4.0</td>\n",
       "      <td>2.0</td>\n",
       "      <td>3.0</td>\n",
       "      <td>2.0</td>\n",
       "      <td>2.0</td>\n",
       "      <td>2.0</td>\n",
       "      <td>1.0</td>\n",
       "      <td>2.0</td>\n",
       "      <td>4.0</td>\n",
       "    </tr>\n",
       "    <tr>\n",
       "      <th>1181</th>\n",
       "      <td>3.0</td>\n",
       "      <td>4.0</td>\n",
       "      <td>2.0</td>\n",
       "      <td>5.0</td>\n",
       "      <td>3.0</td>\n",
       "      <td>3.0</td>\n",
       "      <td>4.0</td>\n",
       "      <td>3.0</td>\n",
       "      <td>3.0</td>\n",
       "      <td>3.0</td>\n",
       "      <td>4.0</td>\n",
       "      <td>4.0</td>\n",
       "      <td>5.0</td>\n",
       "      <td>4.0</td>\n",
       "      <td>3.0</td>\n",
       "    </tr>\n",
       "    <tr>\n",
       "      <th>1449</th>\n",
       "      <td>3.0</td>\n",
       "      <td>3.0</td>\n",
       "      <td>2.0</td>\n",
       "      <td>2.0</td>\n",
       "      <td>5.0</td>\n",
       "      <td>5.0</td>\n",
       "      <td>3.0</td>\n",
       "      <td>4.0</td>\n",
       "      <td>2.0</td>\n",
       "      <td>2.0</td>\n",
       "      <td>4.0</td>\n",
       "      <td>3.0</td>\n",
       "      <td>4.0</td>\n",
       "      <td>4.0</td>\n",
       "      <td>4.0</td>\n",
       "    </tr>\n",
       "    <tr>\n",
       "      <th>1680</th>\n",
       "      <td>1.0</td>\n",
       "      <td>2.0</td>\n",
       "      <td>5.0</td>\n",
       "      <td>5.0</td>\n",
       "      <td>5.0</td>\n",
       "      <td>5.0</td>\n",
       "      <td>5.0</td>\n",
       "      <td>5.0</td>\n",
       "      <td>3.0</td>\n",
       "      <td>3.0</td>\n",
       "      <td>4.0</td>\n",
       "      <td>5.0</td>\n",
       "      <td>3.0</td>\n",
       "      <td>5.0</td>\n",
       "      <td>5.0</td>\n",
       "    </tr>\n",
       "    <tr>\n",
       "      <th>1941</th>\n",
       "      <td>5.0</td>\n",
       "      <td>5.0</td>\n",
       "      <td>5.0</td>\n",
       "      <td>3.0</td>\n",
       "      <td>5.0</td>\n",
       "      <td>4.0</td>\n",
       "      <td>5.0</td>\n",
       "      <td>5.0</td>\n",
       "      <td>5.0</td>\n",
       "      <td>5.0</td>\n",
       "      <td>5.0</td>\n",
       "      <td>5.0</td>\n",
       "      <td>3.0</td>\n",
       "      <td>5.0</td>\n",
       "      <td>1.0</td>\n",
       "    </tr>\n",
       "    <tr>\n",
       "      <th>1980</th>\n",
       "      <td>4.0</td>\n",
       "      <td>4.0</td>\n",
       "      <td>4.0</td>\n",
       "      <td>4.0</td>\n",
       "      <td>5.0</td>\n",
       "      <td>5.0</td>\n",
       "      <td>4.0</td>\n",
       "      <td>5.0</td>\n",
       "      <td>4.0</td>\n",
       "      <td>5.0</td>\n",
       "      <td>4.0</td>\n",
       "      <td>5.0</td>\n",
       "      <td>5.0</td>\n",
       "      <td>5.0</td>\n",
       "      <td>5.0</td>\n",
       "    </tr>\n",
       "    <tr>\n",
       "      <th>2063</th>\n",
       "      <td>5.0</td>\n",
       "      <td>4.0</td>\n",
       "      <td>4.0</td>\n",
       "      <td>2.0</td>\n",
       "      <td>5.0</td>\n",
       "      <td>2.0</td>\n",
       "      <td>4.0</td>\n",
       "      <td>4.0</td>\n",
       "      <td>4.0</td>\n",
       "      <td>4.0</td>\n",
       "      <td>3.0</td>\n",
       "      <td>2.0</td>\n",
       "      <td>5.0</td>\n",
       "      <td>4.0</td>\n",
       "      <td>5.0</td>\n",
       "    </tr>\n",
       "    <tr>\n",
       "      <th>2909</th>\n",
       "      <td>5.0</td>\n",
       "      <td>5.0</td>\n",
       "      <td>5.0</td>\n",
       "      <td>4.0</td>\n",
       "      <td>5.0</td>\n",
       "      <td>5.0</td>\n",
       "      <td>5.0</td>\n",
       "      <td>5.0</td>\n",
       "      <td>5.0</td>\n",
       "      <td>5.0</td>\n",
       "      <td>5.0</td>\n",
       "      <td>5.0</td>\n",
       "      <td>4.0</td>\n",
       "      <td>5.0</td>\n",
       "      <td>5.0</td>\n",
       "    </tr>\n",
       "    <tr>\n",
       "      <th>3618</th>\n",
       "      <td>3.0</td>\n",
       "      <td>4.0</td>\n",
       "      <td>4.0</td>\n",
       "      <td>3.0</td>\n",
       "      <td>5.0</td>\n",
       "      <td>4.0</td>\n",
       "      <td>3.0</td>\n",
       "      <td>4.0</td>\n",
       "      <td>3.0</td>\n",
       "      <td>4.0</td>\n",
       "      <td>3.0</td>\n",
       "      <td>3.0</td>\n",
       "      <td>3.0</td>\n",
       "      <td>4.0</td>\n",
       "      <td>4.0</td>\n",
       "    </tr>\n",
       "    <tr>\n",
       "      <th>4169</th>\n",
       "      <td>4.0</td>\n",
       "      <td>5.0</td>\n",
       "      <td>5.0</td>\n",
       "      <td>4.0</td>\n",
       "      <td>5.0</td>\n",
       "      <td>5.0</td>\n",
       "      <td>5.0</td>\n",
       "      <td>5.0</td>\n",
       "      <td>5.0</td>\n",
       "      <td>4.0</td>\n",
       "      <td>4.0</td>\n",
       "      <td>5.0</td>\n",
       "      <td>4.0</td>\n",
       "      <td>5.0</td>\n",
       "      <td>5.0</td>\n",
       "    </tr>\n",
       "    <tr>\n",
       "      <th>4277</th>\n",
       "      <td>5.0</td>\n",
       "      <td>5.0</td>\n",
       "      <td>5.0</td>\n",
       "      <td>5.0</td>\n",
       "      <td>5.0</td>\n",
       "      <td>5.0</td>\n",
       "      <td>5.0</td>\n",
       "      <td>5.0</td>\n",
       "      <td>4.0</td>\n",
       "      <td>5.0</td>\n",
       "      <td>4.0</td>\n",
       "      <td>5.0</td>\n",
       "      <td>5.0</td>\n",
       "      <td>5.0</td>\n",
       "      <td>5.0</td>\n",
       "    </tr>\n",
       "    <tr>\n",
       "      <th>4344</th>\n",
       "      <td>5.0</td>\n",
       "      <td>5.0</td>\n",
       "      <td>4.0</td>\n",
       "      <td>4.0</td>\n",
       "      <td>2.0</td>\n",
       "      <td>5.0</td>\n",
       "      <td>5.0</td>\n",
       "      <td>5.0</td>\n",
       "      <td>5.0</td>\n",
       "      <td>4.0</td>\n",
       "      <td>3.0</td>\n",
       "      <td>2.0</td>\n",
       "      <td>5.0</td>\n",
       "      <td>5.0</td>\n",
       "      <td>5.0</td>\n",
       "    </tr>\n",
       "    <tr>\n",
       "      <th>5795</th>\n",
       "      <td>5.0</td>\n",
       "      <td>5.0</td>\n",
       "      <td>5.0</td>\n",
       "      <td>4.0</td>\n",
       "      <td>5.0</td>\n",
       "      <td>4.0</td>\n",
       "      <td>5.0</td>\n",
       "      <td>5.0</td>\n",
       "      <td>4.0</td>\n",
       "      <td>5.0</td>\n",
       "      <td>1.0</td>\n",
       "      <td>5.0</td>\n",
       "      <td>1.0</td>\n",
       "      <td>2.0</td>\n",
       "      <td>5.0</td>\n",
       "    </tr>\n",
       "  </tbody>\n",
       "</table>\n",
       "</div>"
      ],
      "text/plain": [
       "movieId  110   260   480   589   593   608   1196  1198  1210  1270  1580  \\\n",
       "userId                                                                      \n",
       "889       4.0   4.0   3.0   5.0   5.0   4.0   4.0   NaN   3.0   4.0   3.0   \n",
       "1015      4.0   5.0   4.0   5.0   5.0   5.0   4.0   5.0   4.0   4.0   4.0   \n",
       "1150      2.0   5.0   NaN   2.0   3.0   5.0   4.0   2.0   3.0   2.0   2.0   \n",
       "1181      3.0   4.0   2.0   5.0   3.0   3.0   4.0   3.0   3.0   3.0   4.0   \n",
       "1449      3.0   3.0   2.0   2.0   5.0   5.0   3.0   4.0   2.0   2.0   4.0   \n",
       "1680      1.0   2.0   5.0   5.0   5.0   5.0   5.0   5.0   3.0   3.0   4.0   \n",
       "1941      5.0   5.0   5.0   3.0   5.0   4.0   5.0   5.0   5.0   5.0   5.0   \n",
       "1980      4.0   4.0   4.0   4.0   5.0   5.0   4.0   5.0   4.0   5.0   4.0   \n",
       "2063      5.0   4.0   4.0   2.0   5.0   2.0   4.0   4.0   4.0   4.0   3.0   \n",
       "2909      5.0   5.0   5.0   4.0   5.0   5.0   5.0   5.0   5.0   5.0   5.0   \n",
       "3618      3.0   4.0   4.0   3.0   5.0   4.0   3.0   4.0   3.0   4.0   3.0   \n",
       "4169      4.0   5.0   5.0   4.0   5.0   5.0   5.0   5.0   5.0   4.0   4.0   \n",
       "4277      5.0   5.0   5.0   5.0   5.0   5.0   5.0   5.0   4.0   5.0   4.0   \n",
       "4344      5.0   5.0   4.0   4.0   2.0   5.0   5.0   5.0   5.0   4.0   3.0   \n",
       "5795      5.0   5.0   5.0   4.0   5.0   4.0   5.0   5.0   4.0   5.0   1.0   \n",
       "\n",
       "movieId  2028  2571  2762  2858  \n",
       "userId                           \n",
       "889       3.0   5.0   NaN   2.0  \n",
       "1015      5.0   5.0   5.0   4.0  \n",
       "1150      2.0   1.0   2.0   4.0  \n",
       "1181      4.0   5.0   4.0   3.0  \n",
       "1449      3.0   4.0   4.0   4.0  \n",
       "1680      5.0   3.0   5.0   5.0  \n",
       "1941      5.0   3.0   5.0   1.0  \n",
       "1980      5.0   5.0   5.0   5.0  \n",
       "2063      2.0   5.0   4.0   5.0  \n",
       "2909      5.0   4.0   5.0   5.0  \n",
       "3618      3.0   3.0   4.0   4.0  \n",
       "4169      5.0   4.0   5.0   5.0  \n",
       "4277      5.0   5.0   5.0   5.0  \n",
       "4344      2.0   5.0   5.0   5.0  \n",
       "5795      5.0   1.0   2.0   5.0  "
      ]
     },
     "execution_count": 15,
     "metadata": {},
     "output_type": "execute_result"
    }
   ],
   "source": [
    "tabular_preview(ratings, movies)"
   ]
  },
  {
   "cell_type": "code",
   "execution_count": 16,
   "metadata": {},
   "outputs": [],
   "source": [
    "def create_dataset(ratings, top=None):\n",
    "    if top is not None:\n",
    "        ratings.groupby('userId')['rating'].count()\n",
    "    \n",
    "    unique_users = ratings.userId.unique()\n",
    "    user_to_index = {old: new for new, old in enumerate(unique_users)}\n",
    "    new_users = ratings.userId.map(user_to_index)\n",
    "    \n",
    "    unique_movies = ratings.movieId.unique()\n",
    "    movie_to_index = {old: new for new, old in enumerate(unique_movies)}\n",
    "    new_movies = ratings.movieId.map(movie_to_index)\n",
    "    \n",
    "    n_users = unique_users.shape[0]\n",
    "    n_movies = unique_movies.shape[0]\n",
    "    \n",
    "    X = pd.DataFrame({'user_id': new_users, 'movie_id': new_movies})\n",
    "    y = ratings['rating'].astype(np.float32)\n",
    "    return (n_users, n_movies), (X, y), (user_to_index, movie_to_index)"
   ]
  },
  {
   "cell_type": "code",
   "execution_count": 17,
   "metadata": {},
   "outputs": [
    {
     "name": "stdout",
     "output_type": "stream",
     "text": [
      "Embeddings: 6040 users, 3706 movies\n",
      "Dataset shape: (1000209, 2)\n",
      "Target shape: (1000209,)\n"
     ]
    }
   ],
   "source": [
    "(n, m), (X, y), _ = create_dataset(ratings)\n",
    "print(f'Embeddings: {n} users, {m} movies')\n",
    "print(f'Dataset shape: {X.shape}')\n",
    "print(f'Target shape: {y.shape}')"
   ]
  },
  {
   "cell_type": "code",
   "execution_count": 18,
   "metadata": {},
   "outputs": [
    {
     "data": {
      "text/html": [
       "<div>\n",
       "<style scoped>\n",
       "    .dataframe tbody tr th:only-of-type {\n",
       "        vertical-align: middle;\n",
       "    }\n",
       "\n",
       "    .dataframe tbody tr th {\n",
       "        vertical-align: top;\n",
       "    }\n",
       "\n",
       "    .dataframe thead th {\n",
       "        text-align: right;\n",
       "    }\n",
       "</style>\n",
       "<table border=\"1\" class=\"dataframe\">\n",
       "  <thead>\n",
       "    <tr style=\"text-align: right;\">\n",
       "      <th></th>\n",
       "      <th>user_id</th>\n",
       "      <th>movie_id</th>\n",
       "    </tr>\n",
       "  </thead>\n",
       "  <tbody>\n",
       "    <tr>\n",
       "      <th>0</th>\n",
       "      <td>0</td>\n",
       "      <td>0</td>\n",
       "    </tr>\n",
       "    <tr>\n",
       "      <th>1</th>\n",
       "      <td>0</td>\n",
       "      <td>1</td>\n",
       "    </tr>\n",
       "    <tr>\n",
       "      <th>2</th>\n",
       "      <td>0</td>\n",
       "      <td>2</td>\n",
       "    </tr>\n",
       "    <tr>\n",
       "      <th>3</th>\n",
       "      <td>0</td>\n",
       "      <td>3</td>\n",
       "    </tr>\n",
       "    <tr>\n",
       "      <th>4</th>\n",
       "      <td>0</td>\n",
       "      <td>4</td>\n",
       "    </tr>\n",
       "  </tbody>\n",
       "</table>\n",
       "</div>"
      ],
      "text/plain": [
       "   user_id  movie_id\n",
       "0        0         0\n",
       "1        0         1\n",
       "2        0         2\n",
       "3        0         3\n",
       "4        0         4"
      ]
     },
     "execution_count": 18,
     "metadata": {},
     "output_type": "execute_result"
    }
   ],
   "source": [
    "X.head()"
   ]
  },
  {
   "cell_type": "code",
   "execution_count": 19,
   "metadata": {},
   "outputs": [],
   "source": [
    "class ReviewsIterator:\n",
    "    \n",
    "    def __init__(self, X, y, batch_size=32, shuffle=True):\n",
    "        X, y = np.asarray(X), np.asarray(y)\n",
    "        \n",
    "        if shuffle:\n",
    "            index = np.random.permutation(X.shape[0])\n",
    "            X, y = X[index], y[index]\n",
    "            \n",
    "        self.X = X\n",
    "        self.y = y\n",
    "        self.batch_size = batch_size\n",
    "        self.shuffle = shuffle\n",
    "        self.n_batches = int(math.ceil(X.shape[0] // batch_size))\n",
    "        self._current = 0\n",
    "        \n",
    "    def __iter__(self):\n",
    "        return self\n",
    "    \n",
    "    def __next__(self):\n",
    "        return self.next()\n",
    "    \n",
    "    def next(self):\n",
    "        if self._current >= self.n_batches:\n",
    "            raise StopIteration()\n",
    "        k = self._current\n",
    "        self._current += 1\n",
    "        bs = self.batch_size\n",
    "        return self.X[k*bs:(k + 1)*bs], self.y[k*bs:(k + 1)*bs]"
   ]
  },
  {
   "cell_type": "code",
   "execution_count": 20,
   "metadata": {},
   "outputs": [],
   "source": [
    "def batches(X, y, bs=32, shuffle=True):\n",
    "    for xb, yb in ReviewsIterator(X, y, bs, shuffle):\n",
    "        xb = torch.LongTensor(xb)\n",
    "        yb = torch.FloatTensor(yb)\n",
    "        yield xb, yb.view(-1, 1)"
   ]
  },
  {
   "cell_type": "code",
   "execution_count": 21,
   "metadata": {},
   "outputs": [
    {
     "name": "stdout",
     "output_type": "stream",
     "text": [
      "tensor([[3808, 2234],\n",
      "        [1388,  143],\n",
      "        [4509,  849],\n",
      "        [1016, 2393]])\n",
      "tensor([[4.],\n",
      "        [4.],\n",
      "        [2.],\n",
      "        [3.]])\n"
     ]
    }
   ],
   "source": [
    "for x_batch, y_batch in batches(X, y, bs=4):\n",
    "    print(x_batch)\n",
    "    print(y_batch)\n",
    "    break"
   ]
  },
  {
   "cell_type": "code",
   "execution_count": 22,
   "metadata": {},
   "outputs": [],
   "source": [
    "class EmbeddingNet(nn.Module):\n",
    "    \"\"\"\n",
    "    Creates a dense network with embedding layers.\n",
    "    \n",
    "    Args:\n",
    "    \n",
    "        n_users:            \n",
    "            Number of unique users in the dataset.\n",
    "\n",
    "        n_movies: \n",
    "            Number of unique movies in the dataset.\n",
    "\n",
    "        n_factors: \n",
    "            Number of columns in the embeddings matrix.\n",
    "\n",
    "        embedding_dropout: \n",
    "            Dropout rate to apply right after embeddings layer.\n",
    "\n",
    "        hidden:\n",
    "            A single integer or a list of integers defining the number of \n",
    "            units in hidden layer(s).\n",
    "\n",
    "        dropouts: \n",
    "            A single integer or a list of integers defining the dropout \n",
    "            layers rates applyied right after each of hidden layers.\n",
    "            \n",
    "    \"\"\"\n",
    "    def __init__(self, n_users, n_movies,\n",
    "                 n_factors=50, embedding_dropout=0.02, \n",
    "                 hidden=10, dropouts=0.2):\n",
    "        \n",
    "        super().__init__()\n",
    "        hidden = get_list(hidden)\n",
    "        dropouts = get_list(dropouts)\n",
    "        n_last = hidden[-1]\n",
    "        \n",
    "        def gen_layers(n_in):\n",
    "            \"\"\"\n",
    "            A generator that yields a sequence of hidden layers and \n",
    "            their activations/dropouts.\n",
    "            \n",
    "            Note that the function captures `hidden` and `dropouts` \n",
    "            values from the outer scope.\n",
    "            \"\"\"\n",
    "            nonlocal hidden, dropouts\n",
    "            assert len(dropouts) <= len(hidden)\n",
    "            \n",
    "            for n_out, rate in zip_longest(hidden, dropouts):\n",
    "                yield nn.Linear(n_in, n_out)\n",
    "                yield nn.ReLU()\n",
    "                if rate is not None and rate > 0.:\n",
    "                    yield nn.Dropout(rate)\n",
    "                n_in = n_out\n",
    "            \n",
    "        self.u = nn.Embedding(n_users, n_factors)\n",
    "        self.m = nn.Embedding(n_movies, n_factors)\n",
    "        self.drop = nn.Dropout(embedding_dropout)\n",
    "        self.hidden = nn.Sequential(*list(gen_layers(n_factors * 2)))\n",
    "        self.fc = nn.Linear(n_last, 1)\n",
    "        self._init()\n",
    "        \n",
    "    def forward(self, users, movies, minmax=None):\n",
    "        features = torch.cat([self.u(users), self.m(movies)], dim=1)\n",
    "        x = self.drop(features)\n",
    "        x = self.hidden(x)\n",
    "        out = torch.sigmoid(self.fc(x))\n",
    "        if minmax is not None:\n",
    "            min_rating, max_rating = minmax\n",
    "            out = out*(max_rating - min_rating + 1) + min_rating - 0.5\n",
    "        return out\n",
    "    \n",
    "    def _init(self):\n",
    "        \"\"\"\n",
    "        Setup embeddings and hidden layers with reasonable initial values.\n",
    "        \"\"\"\n",
    "        \n",
    "        def init(m):\n",
    "            if type(m) == nn.Linear:\n",
    "                torch.nn.init.xavier_uniform_(m.weight)\n",
    "                m.bias.data.fill_(0.01)\n",
    "                \n",
    "        self.u.weight.data.uniform_(-0.05, 0.05)\n",
    "        self.m.weight.data.uniform_(-0.05, 0.05)\n",
    "        self.hidden.apply(init)\n",
    "        init(self.fc)\n",
    "    \n",
    "    \n",
    "def get_list(n):\n",
    "    if isinstance(n, (int, float)):\n",
    "        return [n]\n",
    "    elif hasattr(n, '__iter__'):\n",
    "        return list(n)\n",
    "    raise TypeError('layers configuraiton should be a single number or a list of numbers')"
   ]
  },
  {
   "cell_type": "code",
   "execution_count": 23,
   "metadata": {},
   "outputs": [
    {
     "data": {
      "text/plain": [
       "EmbeddingNet(\n",
       "  (u): Embedding(6040, 150)\n",
       "  (m): Embedding(3706, 150)\n",
       "  (drop): Dropout(p=0.02, inplace=False)\n",
       "  (hidden): Sequential(\n",
       "    (0): Linear(in_features=300, out_features=100, bias=True)\n",
       "    (1): ReLU()\n",
       "    (2): Dropout(p=0.5, inplace=False)\n",
       "  )\n",
       "  (fc): Linear(in_features=100, out_features=1, bias=True)\n",
       ")"
      ]
     },
     "execution_count": 23,
     "metadata": {},
     "output_type": "execute_result"
    }
   ],
   "source": [
    "EmbeddingNet(n, m, n_factors=150, hidden=100, dropouts=0.5)"
   ]
  },
  {
   "cell_type": "code",
   "execution_count": 24,
   "metadata": {},
   "outputs": [
    {
     "data": {
      "text/plain": [
       "EmbeddingNet(\n",
       "  (u): Embedding(6040, 150)\n",
       "  (m): Embedding(3706, 150)\n",
       "  (drop): Dropout(p=0.02, inplace=False)\n",
       "  (hidden): Sequential(\n",
       "    (0): Linear(in_features=300, out_features=100, bias=True)\n",
       "    (1): ReLU()\n",
       "    (2): Dropout(p=0.25, inplace=False)\n",
       "    (3): Linear(in_features=100, out_features=200, bias=True)\n",
       "    (4): ReLU()\n",
       "    (5): Dropout(p=0.5, inplace=False)\n",
       "    (6): Linear(in_features=200, out_features=300, bias=True)\n",
       "    (7): ReLU()\n",
       "  )\n",
       "  (fc): Linear(in_features=300, out_features=1, bias=True)\n",
       ")"
      ]
     },
     "execution_count": 24,
     "metadata": {},
     "output_type": "execute_result"
    }
   ],
   "source": [
    "EmbeddingNet(n, m, n_factors=150, hidden=[100, 200, 300], dropouts=[0.25, 0.5])"
   ]
  },
  {
   "cell_type": "code",
   "execution_count": 25,
   "metadata": {},
   "outputs": [],
   "source": [
    "class CyclicLR(_LRScheduler):\n",
    "    \n",
    "    def __init__(self, optimizer, schedule, last_epoch=-1):\n",
    "        assert callable(schedule)\n",
    "        self.schedule = schedule\n",
    "        super().__init__(optimizer, last_epoch)\n",
    "\n",
    "    def get_lr(self):\n",
    "        return [self.schedule(self.last_epoch, lr) for lr in self.base_lrs]"
   ]
  },
  {
   "cell_type": "code",
   "execution_count": 26,
   "metadata": {},
   "outputs": [],
   "source": [
    "def triangular(step_size, max_lr, method='triangular', gamma=0.99):\n",
    "    \n",
    "    def scheduler(epoch, base_lr):\n",
    "        period = 2 * step_size\n",
    "        cycle = math.floor(1 + epoch/period)\n",
    "        x = abs(epoch/step_size - 2*cycle + 1)\n",
    "        delta = (max_lr - base_lr)*max(0, (1 - x))\n",
    "\n",
    "        if method == 'triangular':\n",
    "            pass  # we've already done\n",
    "        elif method == 'triangular2':\n",
    "            delta /= float(2 ** (cycle - 1))\n",
    "        elif method == 'exp_range':\n",
    "            delta *= (gamma**epoch)\n",
    "        else:\n",
    "            raise ValueError('unexpected method: %s' % method)\n",
    "            \n",
    "        return base_lr + delta\n",
    "        \n",
    "    return scheduler"
   ]
  },
  {
   "cell_type": "code",
   "execution_count": 27,
   "metadata": {},
   "outputs": [],
   "source": [
    "def cosine(t_max, eta_min=0):\n",
    "    \n",
    "    def scheduler(epoch, base_lr):\n",
    "        t = epoch % t_max\n",
    "        return eta_min + (base_lr - eta_min)*(1 + math.cos(math.pi*t/t_max))/2\n",
    "    \n",
    "    return scheduler"
   ]
  },
  {
   "cell_type": "code",
   "execution_count": 28,
   "metadata": {},
   "outputs": [],
   "source": [
    "def plot_lr(schedule):\n",
    "    ts = list(range(1000))\n",
    "    y = [schedule(t, 0.001) for t in ts]\n",
    "    plt.plot(ts, y)"
   ]
  },
  {
   "cell_type": "code",
   "execution_count": 29,
   "metadata": {},
   "outputs": [
    {
     "data": {
      "image/png": "[encoded data removed]",
      "text/plain": [
       "<Figure size 432x288 with 1 Axes>"
      ]
     },
     "metadata": {},
     "output_type": "display_data"
    }
   ],
   "source": [
    "plot_lr(triangular(250, 0.005))"
   ]
  },
  {
   "cell_type": "code",
   "execution_count": 30,
   "metadata": {},
   "outputs": [
    {
     "data": {
      "image/png": "[encoded data removed]",
      "text/plain": [
       "<Figure size 432x288 with 1 Axes>"
      ]
     },
     "metadata": {},
     "output_type": "display_data"
    }
   ],
   "source": [
    "plot_lr(triangular(250, 0.005, 'triangular2'))"
   ]
  },
  {
   "cell_type": "code",
   "execution_count": 31,
   "metadata": {},
   "outputs": [
    {
     "data": {
      "image/png": "[encoded data removed]",
      "text/plain": [
       "<Figure size 432x288 with 1 Axes>"
      ]
     },
     "metadata": {},
     "output_type": "display_data"
    }
   ],
   "source": [
    "plot_lr(triangular(250, 0.005, 'exp_range', gamma=0.999))"
   ]
  },
  {
   "cell_type": "code",
   "execution_count": 32,
   "metadata": {},
   "outputs": [
    {
     "data": {
      "image/png": "[encoded data removed]",
      "text/plain": [
       "<Figure size 432x288 with 1 Axes>"
      ]
     },
     "metadata": {},
     "output_type": "display_data"
    }
   ],
   "source": [
    "plot_lr(cosine(t_max=500, eta_min=0.0005))"
   ]
  },
  {
   "cell_type": "markdown",
   "metadata": {},
   "source": [
    "### Training Loop"
   ]
  },
  {
   "cell_type": "code",
   "execution_count": 33,
   "metadata": {},
   "outputs": [],
   "source": [
    "X_train, X_valid, y_train, y_valid = train_test_split(\n",
    "    X, y, test_size=0.2, random_state=RANDOM_STATE)\n",
    "datasets = {'train': (X_train, y_train), 'val': (X_valid, y_valid)}\n",
    "dataset_sizes = {'train': len(X_train), 'val': len(X_valid)}"
   ]
  },
  {
   "cell_type": "code",
   "execution_count": 34,
   "metadata": {},
   "outputs": [
    {
     "data": {
      "text/plain": [
       "{'train': 800167, 'val': 200042}"
      ]
     },
     "execution_count": 34,
     "metadata": {},
     "output_type": "execute_result"
    }
   ],
   "source": [
    "dataset_sizes"
   ]
  },
  {
   "cell_type": "code",
   "execution_count": 35,
   "metadata": {},
   "outputs": [
    {
     "data": {
      "text/plain": [
       "(1.0, 5.0)"
      ]
     },
     "execution_count": 35,
     "metadata": {},
     "output_type": "execute_result"
    }
   ],
   "source": [
    "minmax = (float(ratings.rating.min()),\n",
    "          float(ratings.rating.max()))\n",
    "minmax"
   ]
  },
  {
   "cell_type": "code",
   "execution_count": 36,
   "metadata": {},
   "outputs": [],
   "source": [
    "net = EmbeddingNet(\n",
    "    n_users=n, n_movies=m, \n",
    "    n_factors=150, hidden=[500, 500, 500], \n",
    "    embedding_dropout=0.05, dropouts=[0.5, 0.5, 0.25])"
   ]
  },
  {
   "cell_type": "code",
   "execution_count": 37,
   "metadata": {},
   "outputs": [
    {
     "data": {
      "text/plain": [
       "EmbeddingNet(\n",
       "  (u): Embedding(6040, 150)\n",
       "  (m): Embedding(3706, 150)\n",
       "  (drop): Dropout(p=0.05, inplace=False)\n",
       "  (hidden): Sequential(\n",
       "    (0): Linear(in_features=300, out_features=500, bias=True)\n",
       "    (1): ReLU()\n",
       "    (2): Dropout(p=0.5, inplace=False)\n",
       "    (3): Linear(in_features=500, out_features=500, bias=True)\n",
       "    (4): ReLU()\n",
       "    (5): Dropout(p=0.5, inplace=False)\n",
       "    (6): Linear(in_features=500, out_features=500, bias=True)\n",
       "    (7): ReLU()\n",
       "    (8): Dropout(p=0.25, inplace=False)\n",
       "  )\n",
       "  (fc): Linear(in_features=500, out_features=1, bias=True)\n",
       ")"
      ]
     },
     "execution_count": 37,
     "metadata": {},
     "output_type": "execute_result"
    }
   ],
   "source": [
    "net"
   ]
  },
  {
   "cell_type": "code",
   "execution_count": 38,
   "metadata": {},
   "outputs": [
    {
     "name": "stdout",
     "output_type": "stream",
     "text": [
      "tensor(3148.7520, grad_fn=<MseLossBackward>)\n",
      "tensor(2555.7461, grad_fn=<MseLossBackward>)\n"
     ]
    },
    {
     "name": "stderr",
     "output_type": "stream",
     "text": [
      "/Users/varunn/.virtualenvs/rasa/lib/python3.6/site-packages/torch/optim/lr_scheduler.py:100: UserWarning: Detected call of `lr_scheduler.step()` before `optimizer.step()`. In PyTorch 1.1.0 and later, you should call them in the opposite order: `optimizer.step()` before `lr_scheduler.step()`.  Failure to do this will result in PyTorch skipping the first value of the learning rate schedule.See more details at https://pytorch.org/docs/stable/optim.html#how-to-adjust-learning-rate\n",
      "  \"https://pytorch.org/docs/stable/optim.html#how-to-adjust-learning-rate\", UserWarning)\n"
     ]
    },
    {
     "name": "stdout",
     "output_type": "stream",
     "text": [
      "tensor(2552.3127, grad_fn=<MseLossBackward>)\n",
      "tensor(2681.3884, grad_fn=<MseLossBackward>)\n",
      "tensor(2731.8931, grad_fn=<MseLossBackward>)\n",
      "tensor(2464.6257, grad_fn=<MseLossBackward>)\n",
      "tensor(2398.1047, grad_fn=<MseLossBackward>)\n",
      "tensor(2377.0625, grad_fn=<MseLossBackward>)\n",
      "tensor(2518.9373, grad_fn=<MseLossBackward>)\n",
      "tensor(2505.8223, grad_fn=<MseLossBackward>)\n",
      "tensor(2606.1819, grad_fn=<MseLossBackward>)\n",
      "tensor(2526.0781, grad_fn=<MseLossBackward>)\n",
      "tensor(2594.4585, grad_fn=<MseLossBackward>)\n",
      "tensor(2436.1130, grad_fn=<MseLossBackward>)\n",
      "tensor(2404.7439, grad_fn=<MseLossBackward>)\n",
      "tensor(2369.5781, grad_fn=<MseLossBackward>)\n",
      "tensor(2433.4915, grad_fn=<MseLossBackward>)\n",
      "tensor(2330.8042, grad_fn=<MseLossBackward>)\n",
      "tensor(2303.6816, grad_fn=<MseLossBackward>)\n",
      "tensor(2431.4692, grad_fn=<MseLossBackward>)\n",
      "tensor(2283.0544, grad_fn=<MseLossBackward>)\n",
      "tensor(2445.7249, grad_fn=<MseLossBackward>)\n",
      "tensor(2152.8601, grad_fn=<MseLossBackward>)\n",
      "tensor(2339.1650, grad_fn=<MseLossBackward>)\n",
      "tensor(2116.0535, grad_fn=<MseLossBackward>)\n",
      "tensor(2306.6443, grad_fn=<MseLossBackward>)\n",
      "tensor(2138.1228, grad_fn=<MseLossBackward>)\n",
      "tensor(2197.9529, grad_fn=<MseLossBackward>)\n",
      "tensor(2106.9802, grad_fn=<MseLossBackward>)\n",
      "tensor(2064.8740, grad_fn=<MseLossBackward>)\n",
      "tensor(2132.4187, grad_fn=<MseLossBackward>)\n",
      "tensor(2013.1385, grad_fn=<MseLossBackward>)\n",
      "tensor(2062.2144, grad_fn=<MseLossBackward>)\n",
      "tensor(2029.8138, grad_fn=<MseLossBackward>)\n",
      "tensor(2038.2791, grad_fn=<MseLossBackward>)\n",
      "tensor(2051.5378, grad_fn=<MseLossBackward>)\n",
      "tensor(1978.2067, grad_fn=<MseLossBackward>)\n",
      "tensor(2016.1895, grad_fn=<MseLossBackward>)\n",
      "tensor(1951.8036, grad_fn=<MseLossBackward>)\n",
      "tensor(2034.9722, grad_fn=<MseLossBackward>)\n",
      "tensor(2012.6982, grad_fn=<MseLossBackward>)\n",
      "tensor(2024.0129, grad_fn=<MseLossBackward>)\n",
      "tensor(2014.9027, grad_fn=<MseLossBackward>)\n",
      "tensor(1930.0858, grad_fn=<MseLossBackward>)\n",
      "tensor(1854.9669, grad_fn=<MseLossBackward>)\n",
      "tensor(1842.8212, grad_fn=<MseLossBackward>)\n",
      "tensor(1965.3108, grad_fn=<MseLossBackward>)\n",
      "tensor(1929.7247, grad_fn=<MseLossBackward>)\n",
      "tensor(1912.1212, grad_fn=<MseLossBackward>)\n",
      "tensor(1934.3267, grad_fn=<MseLossBackward>)\n",
      "tensor(1965.3459, grad_fn=<MseLossBackward>)\n",
      "tensor(1827.1196, grad_fn=<MseLossBackward>)\n",
      "tensor(1931.8916, grad_fn=<MseLossBackward>)\n",
      "tensor(1912.3656, grad_fn=<MseLossBackward>)\n",
      "tensor(1835.4133, grad_fn=<MseLossBackward>)\n",
      "tensor(1807.2555, grad_fn=<MseLossBackward>)\n",
      "tensor(1833.7169, grad_fn=<MseLossBackward>)\n",
      "tensor(1766.1274, grad_fn=<MseLossBackward>)\n",
      "tensor(1940.7295, grad_fn=<MseLossBackward>)\n",
      "tensor(1934.4089, grad_fn=<MseLossBackward>)\n",
      "tensor(1812.7346, grad_fn=<MseLossBackward>)\n",
      "tensor(1839.5177, grad_fn=<MseLossBackward>)\n",
      "tensor(1860.8992, grad_fn=<MseLossBackward>)\n",
      "tensor(1821.8933, grad_fn=<MseLossBackward>)\n",
      "tensor(1796.8256, grad_fn=<MseLossBackward>)\n",
      "tensor(1829.6710, grad_fn=<MseLossBackward>)\n",
      "tensor(1841.9961, grad_fn=<MseLossBackward>)\n",
      "tensor(1786.9886, grad_fn=<MseLossBackward>)\n",
      "tensor(1842.5459, grad_fn=<MseLossBackward>)\n",
      "tensor(1783.7808, grad_fn=<MseLossBackward>)\n",
      "tensor(1930.3542, grad_fn=<MseLossBackward>)\n",
      "tensor(1825.1538, grad_fn=<MseLossBackward>)\n",
      "tensor(1770.3265, grad_fn=<MseLossBackward>)\n",
      "tensor(1845.2219, grad_fn=<MseLossBackward>)\n",
      "tensor(1788.7820, grad_fn=<MseLossBackward>)\n",
      "tensor(1730.9011, grad_fn=<MseLossBackward>)\n",
      "tensor(1846.5232, grad_fn=<MseLossBackward>)\n",
      "tensor(1798.4446, grad_fn=<MseLossBackward>)\n",
      "tensor(1861.4747, grad_fn=<MseLossBackward>)\n",
      "tensor(1866.5667, grad_fn=<MseLossBackward>)\n",
      "tensor(1969.2473, grad_fn=<MseLossBackward>)\n",
      "tensor(1727.8740, grad_fn=<MseLossBackward>)\n",
      "tensor(1722.4071, grad_fn=<MseLossBackward>)\n",
      "tensor(1822.5065, grad_fn=<MseLossBackward>)\n",
      "tensor(1810.4778, grad_fn=<MseLossBackward>)\n",
      "tensor(1775.8564, grad_fn=<MseLossBackward>)\n",
      "tensor(1801.3137, grad_fn=<MseLossBackward>)\n",
      "tensor(1754.4983, grad_fn=<MseLossBackward>)\n",
      "tensor(1714.8083, grad_fn=<MseLossBackward>)\n",
      "tensor(1693.5730, grad_fn=<MseLossBackward>)\n",
      "tensor(1782.4298, grad_fn=<MseLossBackward>)\n",
      "tensor(1744.5007, grad_fn=<MseLossBackward>)\n",
      "tensor(1788.0455, grad_fn=<MseLossBackward>)\n",
      "tensor(1883.7609, grad_fn=<MseLossBackward>)\n",
      "tensor(1740.5883, grad_fn=<MseLossBackward>)\n",
      "tensor(1755.9316, grad_fn=<MseLossBackward>)\n",
      "tensor(1694.6934, grad_fn=<MseLossBackward>)\n",
      "tensor(1698.2463, grad_fn=<MseLossBackward>)\n",
      "tensor(1720.5657, grad_fn=<MseLossBackward>)\n",
      "tensor(1753.6255, grad_fn=<MseLossBackward>)\n",
      "tensor(1710.2014, grad_fn=<MseLossBackward>)\n",
      "tensor(1797.7292, grad_fn=<MseLossBackward>)\n",
      "tensor(1795.5847, grad_fn=<MseLossBackward>)\n",
      "tensor(1756.1145, grad_fn=<MseLossBackward>)\n",
      "tensor(1805.9777, grad_fn=<MseLossBackward>)\n",
      "tensor(1893.6071, grad_fn=<MseLossBackward>)\n",
      "tensor(1698.0924, grad_fn=<MseLossBackward>)\n",
      "tensor(1642.8740, grad_fn=<MseLossBackward>)\n",
      "tensor(1801.4017, grad_fn=<MseLossBackward>)\n",
      "tensor(1766.6755, grad_fn=<MseLossBackward>)\n",
      "tensor(1767.4318, grad_fn=<MseLossBackward>)\n",
      "tensor(1725.1841, grad_fn=<MseLossBackward>)\n",
      "tensor(1739.9023, grad_fn=<MseLossBackward>)\n",
      "tensor(1675.6531, grad_fn=<MseLossBackward>)\n",
      "tensor(1696.7397, grad_fn=<MseLossBackward>)\n",
      "tensor(1741.4426, grad_fn=<MseLossBackward>)\n",
      "tensor(1727.8192, grad_fn=<MseLossBackward>)\n",
      "tensor(1801.1204, grad_fn=<MseLossBackward>)\n",
      "tensor(1820.0786, grad_fn=<MseLossBackward>)\n",
      "tensor(1665.4399, grad_fn=<MseLossBackward>)\n",
      "tensor(1815.6097, grad_fn=<MseLossBackward>)\n",
      "tensor(1627.9636, grad_fn=<MseLossBackward>)\n",
      "tensor(1783.8862, grad_fn=<MseLossBackward>)\n",
      "tensor(1756.8944, grad_fn=<MseLossBackward>)\n",
      "tensor(1699.6152, grad_fn=<MseLossBackward>)\n",
      "tensor(1773.1941, grad_fn=<MseLossBackward>)\n",
      "tensor(1744.4999, grad_fn=<MseLossBackward>)\n",
      "tensor(1753.6552, grad_fn=<MseLossBackward>)\n",
      "tensor(1853.4160, grad_fn=<MseLossBackward>)\n",
      "tensor(1691.7184, grad_fn=<MseLossBackward>)\n",
      "tensor(1729.5856, grad_fn=<MseLossBackward>)\n",
      "tensor(1803.6786, grad_fn=<MseLossBackward>)\n",
      "tensor(1732.0710, grad_fn=<MseLossBackward>)\n",
      "tensor(1840.8044, grad_fn=<MseLossBackward>)\n",
      "tensor(1696.6066, grad_fn=<MseLossBackward>)\n",
      "tensor(1613.6097, grad_fn=<MseLossBackward>)\n",
      "tensor(1642.8634, grad_fn=<MseLossBackward>)\n",
      "tensor(1781.0404, grad_fn=<MseLossBackward>)\n",
      "tensor(1765.2878, grad_fn=<MseLossBackward>)\n",
      "tensor(1800.0775, grad_fn=<MseLossBackward>)\n",
      "tensor(1728.4441, grad_fn=<MseLossBackward>)\n",
      "tensor(1733.1980, grad_fn=<MseLossBackward>)\n",
      "tensor(1758.9802, grad_fn=<MseLossBackward>)\n",
      "tensor(1781.5981, grad_fn=<MseLossBackward>)\n",
      "tensor(1586.8726, grad_fn=<MseLossBackward>)\n",
      "tensor(1811.9756, grad_fn=<MseLossBackward>)\n",
      "tensor(1617.1974, grad_fn=<MseLossBackward>)\n",
      "tensor(1740.9465, grad_fn=<MseLossBackward>)\n",
      "tensor(1747.5109, grad_fn=<MseLossBackward>)\n",
      "tensor(1665.3247, grad_fn=<MseLossBackward>)\n",
      "tensor(1670.1960, grad_fn=<MseLossBackward>)\n",
      "tensor(1709.5048, grad_fn=<MseLossBackward>)\n",
      "tensor(1859.3005, grad_fn=<MseLossBackward>)\n",
      "tensor(1778.2858, grad_fn=<MseLossBackward>)\n",
      "tensor(1758.0857, grad_fn=<MseLossBackward>)\n",
      "tensor(1773.3649, grad_fn=<MseLossBackward>)\n",
      "tensor(1780.5939, grad_fn=<MseLossBackward>)\n",
      "tensor(1599.0382, grad_fn=<MseLossBackward>)\n",
      "tensor(1744.6392, grad_fn=<MseLossBackward>)\n",
      "tensor(1782.5194, grad_fn=<MseLossBackward>)\n",
      "tensor(1799.9508, grad_fn=<MseLossBackward>)\n",
      "tensor(1664.3110, grad_fn=<MseLossBackward>)\n",
      "tensor(1745.5145, grad_fn=<MseLossBackward>)\n",
      "tensor(1654.8580, grad_fn=<MseLossBackward>)\n",
      "tensor(1763.2174, grad_fn=<MseLossBackward>)\n",
      "tensor(1838.7074, grad_fn=<MseLossBackward>)\n",
      "tensor(1782.0287, grad_fn=<MseLossBackward>)\n",
      "tensor(1655.5759, grad_fn=<MseLossBackward>)\n",
      "tensor(1850.1959, grad_fn=<MseLossBackward>)\n",
      "tensor(1847.3737, grad_fn=<MseLossBackward>)\n",
      "tensor(1674.2550, grad_fn=<MseLossBackward>)\n",
      "tensor(1826.5448, grad_fn=<MseLossBackward>)\n",
      "tensor(1720.0968, grad_fn=<MseLossBackward>)\n",
      "tensor(1702.6038, grad_fn=<MseLossBackward>)\n",
      "tensor(1690.8411, grad_fn=<MseLossBackward>)\n",
      "tensor(1724.2616, grad_fn=<MseLossBackward>)\n",
      "tensor(1605.3480, grad_fn=<MseLossBackward>)\n",
      "tensor(1675.6598, grad_fn=<MseLossBackward>)\n",
      "tensor(1745.1873, grad_fn=<MseLossBackward>)\n",
      "tensor(1621.0393, grad_fn=<MseLossBackward>)\n",
      "tensor(1617.4828, grad_fn=<MseLossBackward>)\n",
      "tensor(1763.3726, grad_fn=<MseLossBackward>)\n",
      "tensor(1788.2821, grad_fn=<MseLossBackward>)\n",
      "tensor(1665.0056, grad_fn=<MseLossBackward>)\n",
      "tensor(1629.8392, grad_fn=<MseLossBackward>)\n",
      "tensor(1799.2560, grad_fn=<MseLossBackward>)\n"
     ]
    },
    {
     "name": "stdout",
     "output_type": "stream",
     "text": [
      "tensor(1802.4431, grad_fn=<MseLossBackward>)\n",
      "tensor(1666.2184, grad_fn=<MseLossBackward>)\n",
      "tensor(1771.3256, grad_fn=<MseLossBackward>)\n",
      "tensor(1762.9574, grad_fn=<MseLossBackward>)\n",
      "tensor(1756.3361, grad_fn=<MseLossBackward>)\n",
      "tensor(1683.3010, grad_fn=<MseLossBackward>)\n",
      "tensor(1692.4410, grad_fn=<MseLossBackward>)\n",
      "tensor(1723.8469, grad_fn=<MseLossBackward>)\n",
      "tensor(1669.2028, grad_fn=<MseLossBackward>)\n",
      "tensor(1709.5653, grad_fn=<MseLossBackward>)\n",
      "tensor(1754.6992, grad_fn=<MseLossBackward>)\n",
      "tensor(1665.8644, grad_fn=<MseLossBackward>)\n",
      "tensor(1725.8434, grad_fn=<MseLossBackward>)\n",
      "tensor(1664.6660, grad_fn=<MseLossBackward>)\n",
      "tensor(1807.9838, grad_fn=<MseLossBackward>)\n",
      "tensor(1695.5953, grad_fn=<MseLossBackward>)\n",
      "tensor(1646.2535, grad_fn=<MseLossBackward>)\n",
      "tensor(1656.5924, grad_fn=<MseLossBackward>)\n",
      "tensor(1684.3811, grad_fn=<MseLossBackward>)\n",
      "tensor(1704.9347, grad_fn=<MseLossBackward>)\n",
      "tensor(1735.1617, grad_fn=<MseLossBackward>)\n",
      "tensor(1723.7136, grad_fn=<MseLossBackward>)\n",
      "tensor(1706.9364, grad_fn=<MseLossBackward>)\n",
      "tensor(1600.3329, grad_fn=<MseLossBackward>)\n",
      "tensor(1731.6523, grad_fn=<MseLossBackward>)\n",
      "tensor(1716.1367, grad_fn=<MseLossBackward>)\n",
      "tensor(1727.0785, grad_fn=<MseLossBackward>)\n",
      "tensor(1741.8322, grad_fn=<MseLossBackward>)\n",
      "tensor(1651.4164, grad_fn=<MseLossBackward>)\n",
      "tensor(1743.1334, grad_fn=<MseLossBackward>)\n",
      "tensor(1625.3018, grad_fn=<MseLossBackward>)\n",
      "tensor(1731.9943, grad_fn=<MseLossBackward>)\n",
      "tensor(1683.0374, grad_fn=<MseLossBackward>)\n",
      "tensor(1645.4432, grad_fn=<MseLossBackward>)\n",
      "tensor(1696.3923, grad_fn=<MseLossBackward>)\n",
      "tensor(1799.6373, grad_fn=<MseLossBackward>)\n",
      "tensor(1785.5981, grad_fn=<MseLossBackward>)\n",
      "tensor(1709.9933, grad_fn=<MseLossBackward>)\n",
      "tensor(1706.4657, grad_fn=<MseLossBackward>)\n",
      "tensor(1661.9736, grad_fn=<MseLossBackward>)\n",
      "tensor(1647.1172, grad_fn=<MseLossBackward>)\n",
      "tensor(1643.1077, grad_fn=<MseLossBackward>)\n",
      "tensor(1567.6082, grad_fn=<MseLossBackward>)\n",
      "tensor(1763.0826, grad_fn=<MseLossBackward>)\n",
      "tensor(1699.3618, grad_fn=<MseLossBackward>)\n",
      "tensor(1695.1938, grad_fn=<MseLossBackward>)\n",
      "tensor(1645.3876, grad_fn=<MseLossBackward>)\n",
      "tensor(1735.1029, grad_fn=<MseLossBackward>)\n",
      "tensor(1665.5892, grad_fn=<MseLossBackward>)\n",
      "tensor(1679.3247, grad_fn=<MseLossBackward>)\n",
      "tensor(1814.3684, grad_fn=<MseLossBackward>)\n",
      "tensor(1685.5239, grad_fn=<MseLossBackward>)\n",
      "tensor(1682.8075, grad_fn=<MseLossBackward>)\n",
      "tensor(1596.0303, grad_fn=<MseLossBackward>)\n",
      "tensor(1572.5481, grad_fn=<MseLossBackward>)\n",
      "tensor(1627.6656, grad_fn=<MseLossBackward>)\n",
      "tensor(1612.7631, grad_fn=<MseLossBackward>)\n",
      "tensor(1567.0164, grad_fn=<MseLossBackward>)\n",
      "tensor(1657.8077, grad_fn=<MseLossBackward>)\n",
      "tensor(1686.3568, grad_fn=<MseLossBackward>)\n",
      "tensor(1602.3356, grad_fn=<MseLossBackward>)\n",
      "tensor(1685.8567, grad_fn=<MseLossBackward>)\n",
      "tensor(1690.4312, grad_fn=<MseLossBackward>)\n",
      "tensor(1722.0536, grad_fn=<MseLossBackward>)\n",
      "tensor(1625.0073, grad_fn=<MseLossBackward>)\n",
      "tensor(1664.1719, grad_fn=<MseLossBackward>)\n",
      "tensor(1687.1932, grad_fn=<MseLossBackward>)\n",
      "tensor(1662.9996, grad_fn=<MseLossBackward>)\n",
      "tensor(1624.3558, grad_fn=<MseLossBackward>)\n",
      "tensor(1592.5254, grad_fn=<MseLossBackward>)\n",
      "tensor(1677.0568, grad_fn=<MseLossBackward>)\n",
      "tensor(1650.0110, grad_fn=<MseLossBackward>)\n",
      "tensor(1675.2219, grad_fn=<MseLossBackward>)\n",
      "tensor(1671.9874, grad_fn=<MseLossBackward>)\n",
      "tensor(1724.7650, grad_fn=<MseLossBackward>)\n",
      "tensor(1664.1160, grad_fn=<MseLossBackward>)\n",
      "tensor(1598.3011, grad_fn=<MseLossBackward>)\n",
      "tensor(1579.5098, grad_fn=<MseLossBackward>)\n",
      "tensor(1692.1864, grad_fn=<MseLossBackward>)\n",
      "tensor(1650.3018, grad_fn=<MseLossBackward>)\n",
      "tensor(1789.8969, grad_fn=<MseLossBackward>)\n",
      "tensor(1708.6887, grad_fn=<MseLossBackward>)\n",
      "tensor(1639.8397, grad_fn=<MseLossBackward>)\n",
      "tensor(1764.4508, grad_fn=<MseLossBackward>)\n",
      "tensor(1743.4264, grad_fn=<MseLossBackward>)\n",
      "tensor(1611.2822, grad_fn=<MseLossBackward>)\n",
      "tensor(1715.8145, grad_fn=<MseLossBackward>)\n",
      "tensor(1728.1165, grad_fn=<MseLossBackward>)\n",
      "tensor(1610.9590, grad_fn=<MseLossBackward>)\n",
      "tensor(1605.8209, grad_fn=<MseLossBackward>)\n",
      "tensor(1692.0355, grad_fn=<MseLossBackward>)\n",
      "tensor(1619.4542, grad_fn=<MseLossBackward>)\n",
      "tensor(1660.2495, grad_fn=<MseLossBackward>)\n",
      "tensor(1618.2239, grad_fn=<MseLossBackward>)\n",
      "tensor(1633.9478, grad_fn=<MseLossBackward>)\n",
      "tensor(1654.9114, grad_fn=<MseLossBackward>)\n",
      "tensor(1659.7095, grad_fn=<MseLossBackward>)\n",
      "tensor(1677.8503, grad_fn=<MseLossBackward>)\n",
      "tensor(1613.9458, grad_fn=<MseLossBackward>)\n",
      "tensor(1596.1602, grad_fn=<MseLossBackward>)\n",
      "tensor(1684.3405, grad_fn=<MseLossBackward>)\n",
      "tensor(1557.0944, grad_fn=<MseLossBackward>)\n",
      "tensor(1712.0785, grad_fn=<MseLossBackward>)\n",
      "tensor(1647.2393, grad_fn=<MseLossBackward>)\n",
      "tensor(1684.3060, grad_fn=<MseLossBackward>)\n",
      "tensor(1629.8542, grad_fn=<MseLossBackward>)\n",
      "tensor(1696.6045, grad_fn=<MseLossBackward>)\n",
      "tensor(1682.0488, grad_fn=<MseLossBackward>)\n",
      "tensor(1683.7659, grad_fn=<MseLossBackward>)\n",
      "tensor(1745.5002, grad_fn=<MseLossBackward>)\n",
      "tensor(1618.3151, grad_fn=<MseLossBackward>)\n",
      "tensor(1762.1095, grad_fn=<MseLossBackward>)\n",
      "tensor(1744.7521, grad_fn=<MseLossBackward>)\n",
      "tensor(1737.2056, grad_fn=<MseLossBackward>)\n",
      "tensor(1691.0911, grad_fn=<MseLossBackward>)\n",
      "tensor(1631.6262, grad_fn=<MseLossBackward>)\n",
      "tensor(1684.9843, grad_fn=<MseLossBackward>)\n",
      "tensor(1710.8875, grad_fn=<MseLossBackward>)\n",
      "tensor(1610.5701, grad_fn=<MseLossBackward>)\n",
      "tensor(1629.4358, grad_fn=<MseLossBackward>)\n",
      "tensor(1652.4359, grad_fn=<MseLossBackward>)\n",
      "tensor(1597.6755, grad_fn=<MseLossBackward>)\n",
      "tensor(1632.1298, grad_fn=<MseLossBackward>)\n",
      "tensor(1699.8838, grad_fn=<MseLossBackward>)\n",
      "tensor(1662.1001, grad_fn=<MseLossBackward>)\n",
      "tensor(1650.1804, grad_fn=<MseLossBackward>)\n",
      "tensor(1603.4886, grad_fn=<MseLossBackward>)\n",
      "tensor(1721.7513, grad_fn=<MseLossBackward>)\n",
      "tensor(1686.7805, grad_fn=<MseLossBackward>)\n",
      "tensor(1695.2992, grad_fn=<MseLossBackward>)\n",
      "tensor(1638.7687, grad_fn=<MseLossBackward>)\n",
      "tensor(1618.1934, grad_fn=<MseLossBackward>)\n",
      "tensor(1704.4032, grad_fn=<MseLossBackward>)\n",
      "tensor(1651.9080, grad_fn=<MseLossBackward>)\n",
      "tensor(1578.4525, grad_fn=<MseLossBackward>)\n",
      "tensor(1703.0802, grad_fn=<MseLossBackward>)\n",
      "tensor(1810.1256, grad_fn=<MseLossBackward>)\n",
      "tensor(1710.5358, grad_fn=<MseLossBackward>)\n",
      "tensor(1710.8920, grad_fn=<MseLossBackward>)\n",
      "tensor(1647.9990, grad_fn=<MseLossBackward>)\n",
      "tensor(1605.3353, grad_fn=<MseLossBackward>)\n",
      "tensor(1669.7771, grad_fn=<MseLossBackward>)\n",
      "tensor(1605.7939, grad_fn=<MseLossBackward>)\n",
      "tensor(1624.3020, grad_fn=<MseLossBackward>)\n",
      "tensor(1674.9651, grad_fn=<MseLossBackward>)\n",
      "tensor(1675.2981, grad_fn=<MseLossBackward>)\n",
      "tensor(1749.2380, grad_fn=<MseLossBackward>)\n",
      "tensor(1623.0491, grad_fn=<MseLossBackward>)\n",
      "tensor(1699.5035, grad_fn=<MseLossBackward>)\n",
      "tensor(1733.4192, grad_fn=<MseLossBackward>)\n",
      "tensor(1705.3021, grad_fn=<MseLossBackward>)\n",
      "tensor(1538.8301, grad_fn=<MseLossBackward>)\n",
      "tensor(1584.8488, grad_fn=<MseLossBackward>)\n",
      "tensor(1698.5370, grad_fn=<MseLossBackward>)\n",
      "tensor(1680.6368, grad_fn=<MseLossBackward>)\n",
      "tensor(1631.8633, grad_fn=<MseLossBackward>)\n",
      "tensor(1599.2739, grad_fn=<MseLossBackward>)\n",
      "tensor(1667.3186, grad_fn=<MseLossBackward>)\n",
      "tensor(1659.4044, grad_fn=<MseLossBackward>)\n",
      "tensor(1617.6523, grad_fn=<MseLossBackward>)\n",
      "tensor(1594.6476, grad_fn=<MseLossBackward>)\n",
      "tensor(1663.8683, grad_fn=<MseLossBackward>)\n",
      "tensor(1741.5272, grad_fn=<MseLossBackward>)\n",
      "tensor(1619.4639, grad_fn=<MseLossBackward>)\n",
      "tensor(1687.7427, grad_fn=<MseLossBackward>)\n",
      "tensor(1697.5167, grad_fn=<MseLossBackward>)\n",
      "tensor(1688.3817, grad_fn=<MseLossBackward>)\n",
      "tensor(1604.6945, grad_fn=<MseLossBackward>)\n",
      "tensor(1659.1849, grad_fn=<MseLossBackward>)\n",
      "tensor(1590.2382, grad_fn=<MseLossBackward>)\n",
      "tensor(1649.7032, grad_fn=<MseLossBackward>)\n",
      "tensor(1671.1621, grad_fn=<MseLossBackward>)\n",
      "tensor(1591.1265, grad_fn=<MseLossBackward>)\n",
      "tensor(1629.1069, grad_fn=<MseLossBackward>)\n",
      "tensor(1633.6537, grad_fn=<MseLossBackward>)\n",
      "tensor(1640.6071, grad_fn=<MseLossBackward>)\n",
      "tensor(1687.2679, grad_fn=<MseLossBackward>)\n",
      "tensor(1723.5803, grad_fn=<MseLossBackward>)\n",
      "tensor(1694.2001, grad_fn=<MseLossBackward>)\n",
      "tensor(1681.8185, grad_fn=<MseLossBackward>)\n",
      "tensor(1699.4161, grad_fn=<MseLossBackward>)\n",
      "tensor(1565.3215, grad_fn=<MseLossBackward>)\n",
      "tensor(1630.9520, grad_fn=<MseLossBackward>)\n"
     ]
    },
    {
     "name": "stdout",
     "output_type": "stream",
     "text": [
      "tensor(1707.5632, grad_fn=<MseLossBackward>)\n",
      "tensor(1585.8671, grad_fn=<MseLossBackward>)\n",
      "tensor(1608.0930, grad_fn=<MseLossBackward>)\n",
      "tensor(1677.2140, grad_fn=<MseLossBackward>)\n",
      "tensor(1613.2936, grad_fn=<MseLossBackward>)\n",
      "tensor(1521.3264, grad_fn=<MseLossBackward>)\n",
      "tensor(1661.1173, grad_fn=<MseLossBackward>)\n",
      "tensor(1626.5718, grad_fn=<MseLossBackward>)\n",
      "tensor(1839.2632, grad_fn=<MseLossBackward>)\n",
      "tensor(1694.6663, grad_fn=<MseLossBackward>)\n",
      "tensor(1675.9546, grad_fn=<MseLossBackward>)\n",
      "tensor(1651.1442, grad_fn=<MseLossBackward>)\n",
      "tensor(1614.9432, grad_fn=<MseLossBackward>)\n",
      "tensor(1611.1829, grad_fn=<MseLossBackward>)\n",
      "tensor(1718.8065, grad_fn=<MseLossBackward>)\n",
      "tensor(1604.6656, grad_fn=<MseLossBackward>)\n",
      "tensor(1642.3223, grad_fn=<MseLossBackward>)\n",
      "tensor(1591.7050, grad_fn=<MseLossBackward>)\n",
      "tensor(1695.2704, grad_fn=<MseLossBackward>)\n",
      "tensor(1578.3879, grad_fn=<MseLossBackward>)\n",
      "tensor(1703.2748, grad_fn=<MseLossBackward>)\n",
      "tensor(1649.8302, grad_fn=<MseLossBackward>)\n",
      "tensor(1671.4558, grad_fn=<MseLossBackward>)\n",
      "tensor(1640.6460, grad_fn=<MseLossBackward>)\n",
      "tensor(1599.3707, grad_fn=<MseLossBackward>)\n",
      "tensor(1749.7909, grad_fn=<MseLossBackward>)\n",
      "tensor(1662.1459, grad_fn=<MseLossBackward>)\n",
      "tensor(1651.1278, grad_fn=<MseLossBackward>)\n",
      "tensor(1566.2708, grad_fn=<MseLossBackward>)\n",
      "tensor(1750.5363, grad_fn=<MseLossBackward>)\n",
      "tensor(1709.2404, grad_fn=<MseLossBackward>)\n",
      "tensor(1554.5455)\n",
      "tensor(1682.5818)\n",
      "tensor(1709.8289)\n",
      "tensor(1647.7323)\n",
      "tensor(1631.1564)\n",
      "tensor(1776.9988)\n",
      "tensor(1675.2715)\n",
      "tensor(1568.8262)\n",
      "tensor(1673.2111)\n",
      "tensor(1616.4514)\n",
      "tensor(1692.2727)\n",
      "tensor(1680.2085)\n",
      "tensor(1692.5533)\n",
      "tensor(1624.0737)\n",
      "tensor(1583.8401)\n",
      "tensor(1542.3405)\n",
      "tensor(1585.7957)\n",
      "tensor(1667.5145)\n",
      "tensor(1581.0061)\n",
      "tensor(1614.1328)\n",
      "tensor(1649.9618)\n",
      "tensor(1629.1455)\n",
      "tensor(1583.1544)\n",
      "tensor(1707.0201)\n",
      "tensor(1709.7330)\n",
      "tensor(1614.3920)\n",
      "tensor(1719.7588)\n",
      "tensor(1601.9242)\n",
      "tensor(1699.2328)\n",
      "tensor(1600.7789)\n",
      "tensor(1628.9618)\n",
      "tensor(1655.4489)\n",
      "tensor(1615.3022)\n",
      "tensor(1548.3428)\n",
      "tensor(1723.5503)\n",
      "tensor(1672.4365)\n",
      "tensor(1612.5638)\n",
      "tensor(1507.2069)\n",
      "tensor(1752.4135)\n",
      "tensor(1690.3033)\n",
      "tensor(1738.0310)\n",
      "tensor(1673.4131)\n",
      "tensor(1633.3126)\n",
      "tensor(1711.8135)\n",
      "tensor(1714.4231)\n",
      "tensor(1533.9305)\n",
      "tensor(1666.3354)\n",
      "tensor(1609.4426)\n",
      "tensor(1693.1543)\n",
      "tensor(1656.1879)\n",
      "tensor(1652.7557)\n",
      "tensor(1710.7430)\n",
      "tensor(1633.5061)\n",
      "tensor(1687.3270)\n",
      "tensor(1538.0547)\n",
      "tensor(1617.4181)\n",
      "tensor(1645.2480)\n",
      "tensor(1627.4214)\n",
      "tensor(1679.8163)\n",
      "tensor(1626.5266)\n",
      "tensor(1659.4266)\n",
      "tensor(1592.6321)\n",
      "tensor(1551.8354)\n",
      "tensor(1648.5785)\n",
      "tensor(1627.8907)\n",
      "tensor(1604.1162)\n",
      "tensor(1674.6179)\n",
      "tensor(1681.9291)\n",
      "tensor(1678.6815)\n",
      "tensor(1710.7500)\n",
      "tensor(1696.0453)\n",
      "tensor(1612.8159)\n",
      "tensor(1603.3451)\n",
      "tensor(1635.0682)\n",
      "tensor(1701.3066)\n",
      "tensor(1669.6064)\n",
      "tensor(1593.1819)\n",
      "tensor(1681.1913)\n",
      "tensor(1737.2739)\n",
      "tensor(1700.5568)\n",
      "tensor(1628.4609)\n",
      "tensor(1598.5135)\n",
      "tensor(1690.0659)\n",
      "tensor(1576.0220)\n",
      "tensor(1658.1233)\n",
      "tensor(1616.0229)\n",
      "tensor(1764.3007)\n",
      "tensor(1632.1726)\n",
      "tensor(1520.6788)\n",
      "tensor(1586.3838)\n",
      "tensor(1629.8308)\n",
      "tensor(1776.5300)\n",
      "tensor(1593.3823)\n",
      "tensor(1654.2791)\n",
      "tensor(1593.1833)\n",
      "tensor(1624.3502)\n",
      "tensor(1609.7930)\n",
      "tensor(1606.4075)\n",
      "tensor(1631.6556)\n",
      "tensor(1635.7974)\n",
      "loss improvement on epoch: 1\n",
      "[001/100] train: 0.8869 - val: 0.8221\n",
      "tensor(1649.3802, grad_fn=<MseLossBackward>)\n",
      "tensor(1582.9529, grad_fn=<MseLossBackward>)\n",
      "tensor(1519.8744, grad_fn=<MseLossBackward>)\n",
      "tensor(1594.8088, grad_fn=<MseLossBackward>)\n",
      "tensor(1499.3695, grad_fn=<MseLossBackward>)\n",
      "tensor(1667.9395, grad_fn=<MseLossBackward>)\n",
      "tensor(1611.1851, grad_fn=<MseLossBackward>)\n",
      "tensor(1542.6226, grad_fn=<MseLossBackward>)\n",
      "tensor(1488.0255, grad_fn=<MseLossBackward>)\n",
      "tensor(1528.6570, grad_fn=<MseLossBackward>)\n",
      "tensor(1587.6816, grad_fn=<MseLossBackward>)\n",
      "tensor(1538.0414, grad_fn=<MseLossBackward>)\n",
      "tensor(1611.3833, grad_fn=<MseLossBackward>)\n",
      "tensor(1552.0637, grad_fn=<MseLossBackward>)\n",
      "tensor(1548.5502, grad_fn=<MseLossBackward>)\n",
      "tensor(1578.0787, grad_fn=<MseLossBackward>)\n",
      "tensor(1506.6260, grad_fn=<MseLossBackward>)\n",
      "tensor(1617.1898, grad_fn=<MseLossBackward>)\n",
      "tensor(1612.3611, grad_fn=<MseLossBackward>)\n",
      "tensor(1621.6624, grad_fn=<MseLossBackward>)\n",
      "tensor(1508.8788, grad_fn=<MseLossBackward>)\n",
      "tensor(1560.0754, grad_fn=<MseLossBackward>)\n",
      "tensor(1442.1234, grad_fn=<MseLossBackward>)\n",
      "tensor(1562.9999, grad_fn=<MseLossBackward>)\n",
      "tensor(1595.5343, grad_fn=<MseLossBackward>)\n",
      "tensor(1564.7040, grad_fn=<MseLossBackward>)\n",
      "tensor(1576.3544, grad_fn=<MseLossBackward>)\n",
      "tensor(1539.8202, grad_fn=<MseLossBackward>)\n",
      "tensor(1570.9554, grad_fn=<MseLossBackward>)\n",
      "tensor(1631.4052, grad_fn=<MseLossBackward>)\n",
      "tensor(1642.7554, grad_fn=<MseLossBackward>)\n",
      "tensor(1511.2465, grad_fn=<MseLossBackward>)\n",
      "tensor(1677.4008, grad_fn=<MseLossBackward>)\n",
      "tensor(1517.2214, grad_fn=<MseLossBackward>)\n",
      "tensor(1661.3118, grad_fn=<MseLossBackward>)\n",
      "tensor(1627.6493, grad_fn=<MseLossBackward>)\n",
      "tensor(1517.4496, grad_fn=<MseLossBackward>)\n",
      "tensor(1646.8931, grad_fn=<MseLossBackward>)\n",
      "tensor(1545.5798, grad_fn=<MseLossBackward>)\n",
      "tensor(1632.8149, grad_fn=<MseLossBackward>)\n",
      "tensor(1592.3525, grad_fn=<MseLossBackward>)\n",
      "tensor(1511.8063, grad_fn=<MseLossBackward>)\n",
      "tensor(1630.5763, grad_fn=<MseLossBackward>)\n",
      "tensor(1543.1902, grad_fn=<MseLossBackward>)\n",
      "tensor(1717.1305, grad_fn=<MseLossBackward>)\n",
      "tensor(1688.6963, grad_fn=<MseLossBackward>)\n",
      "tensor(1820.3041, grad_fn=<MseLossBackward>)\n",
      "tensor(1634.4655, grad_fn=<MseLossBackward>)\n",
      "tensor(1668.4841, grad_fn=<MseLossBackward>)\n",
      "tensor(1523.9874, grad_fn=<MseLossBackward>)\n",
      "tensor(1514.2024, grad_fn=<MseLossBackward>)\n",
      "tensor(1634.1412, grad_fn=<MseLossBackward>)\n",
      "tensor(1649.3627, grad_fn=<MseLossBackward>)\n",
      "tensor(1498.8755, grad_fn=<MseLossBackward>)\n",
      "tensor(1611.8613, grad_fn=<MseLossBackward>)\n",
      "tensor(1541.6940, grad_fn=<MseLossBackward>)\n",
      "tensor(1606.4471, grad_fn=<MseLossBackward>)\n",
      "tensor(1563.1863, grad_fn=<MseLossBackward>)\n",
      "tensor(1581.8575, grad_fn=<MseLossBackward>)\n",
      "tensor(1603.1729, grad_fn=<MseLossBackward>)\n",
      "tensor(1640.6780, grad_fn=<MseLossBackward>)\n",
      "tensor(1615.4447, grad_fn=<MseLossBackward>)\n",
      "tensor(1576.7263, grad_fn=<MseLossBackward>)\n",
      "tensor(1611.5707, grad_fn=<MseLossBackward>)\n",
      "tensor(1567.9470, grad_fn=<MseLossBackward>)\n",
      "tensor(1444.1079, grad_fn=<MseLossBackward>)\n",
      "tensor(1555.8773, grad_fn=<MseLossBackward>)\n",
      "tensor(1650.7493, grad_fn=<MseLossBackward>)\n",
      "tensor(1609.0819, grad_fn=<MseLossBackward>)\n",
      "tensor(1607.3511, grad_fn=<MseLossBackward>)\n",
      "tensor(1626.8149, grad_fn=<MseLossBackward>)\n",
      "tensor(1613.4971, grad_fn=<MseLossBackward>)\n",
      "tensor(1575.9171, grad_fn=<MseLossBackward>)\n",
      "tensor(1670.8915, grad_fn=<MseLossBackward>)\n",
      "tensor(1589.5278, grad_fn=<MseLossBackward>)\n",
      "tensor(1646.0737, grad_fn=<MseLossBackward>)\n",
      "tensor(1648.7190, grad_fn=<MseLossBackward>)\n",
      "tensor(1637.1627, grad_fn=<MseLossBackward>)\n",
      "tensor(1512.6107, grad_fn=<MseLossBackward>)\n",
      "tensor(1601.4668, grad_fn=<MseLossBackward>)\n",
      "tensor(1651.1461, grad_fn=<MseLossBackward>)\n",
      "tensor(1656.5217, grad_fn=<MseLossBackward>)\n",
      "tensor(1525.6433, grad_fn=<MseLossBackward>)\n",
      "tensor(1584.2756, grad_fn=<MseLossBackward>)\n",
      "tensor(1631.7117, grad_fn=<MseLossBackward>)\n",
      "tensor(1672.2386, grad_fn=<MseLossBackward>)\n",
      "tensor(1539.6077, grad_fn=<MseLossBackward>)\n",
      "tensor(1590.3859, grad_fn=<MseLossBackward>)\n",
      "tensor(1521.2079, grad_fn=<MseLossBackward>)\n",
      "tensor(1633.0245, grad_fn=<MseLossBackward>)\n",
      "tensor(1708.8687, grad_fn=<MseLossBackward>)\n",
      "tensor(1537.4775, grad_fn=<MseLossBackward>)\n",
      "tensor(1702.7969, grad_fn=<MseLossBackward>)\n",
      "tensor(1682.5009, grad_fn=<MseLossBackward>)\n",
      "tensor(1604.0981, grad_fn=<MseLossBackward>)\n",
      "tensor(1647.2806, grad_fn=<MseLossBackward>)\n",
      "tensor(1592.4376, grad_fn=<MseLossBackward>)\n",
      "tensor(1593.7659, grad_fn=<MseLossBackward>)\n",
      "tensor(1640.3785, grad_fn=<MseLossBackward>)\n",
      "tensor(1631.8147, grad_fn=<MseLossBackward>)\n",
      "tensor(1583.0051, grad_fn=<MseLossBackward>)\n",
      "tensor(1590.5432, grad_fn=<MseLossBackward>)\n",
      "tensor(1622.7762, grad_fn=<MseLossBackward>)\n",
      "tensor(1625.8971, grad_fn=<MseLossBackward>)\n",
      "tensor(1556.1511, grad_fn=<MseLossBackward>)\n",
      "tensor(1639.9661, grad_fn=<MseLossBackward>)\n",
      "tensor(1593.6373, grad_fn=<MseLossBackward>)\n",
      "tensor(1693.2593, grad_fn=<MseLossBackward>)\n",
      "tensor(1621.6493, grad_fn=<MseLossBackward>)\n",
      "tensor(1662.9984, grad_fn=<MseLossBackward>)\n",
      "tensor(1567.3671, grad_fn=<MseLossBackward>)\n"
     ]
    },
    {
     "name": "stdout",
     "output_type": "stream",
     "text": [
      "tensor(1599.7976, grad_fn=<MseLossBackward>)\n",
      "tensor(1602.1539, grad_fn=<MseLossBackward>)\n",
      "tensor(1634.7675, grad_fn=<MseLossBackward>)\n",
      "tensor(1685.2021, grad_fn=<MseLossBackward>)\n",
      "tensor(1591.9066, grad_fn=<MseLossBackward>)\n",
      "tensor(1539.4634, grad_fn=<MseLossBackward>)\n",
      "tensor(1569.5820, grad_fn=<MseLossBackward>)\n",
      "tensor(1620.1078, grad_fn=<MseLossBackward>)\n",
      "tensor(1557.4753, grad_fn=<MseLossBackward>)\n",
      "tensor(1617.5555, grad_fn=<MseLossBackward>)\n",
      "tensor(1591.5442, grad_fn=<MseLossBackward>)\n",
      "tensor(1648.0376, grad_fn=<MseLossBackward>)\n",
      "tensor(1578.5220, grad_fn=<MseLossBackward>)\n",
      "tensor(1639.8181, grad_fn=<MseLossBackward>)\n",
      "tensor(1549.7565, grad_fn=<MseLossBackward>)\n",
      "tensor(1647.7009, grad_fn=<MseLossBackward>)\n",
      "tensor(1520.8254, grad_fn=<MseLossBackward>)\n",
      "tensor(1433.1162, grad_fn=<MseLossBackward>)\n",
      "tensor(1521.5461, grad_fn=<MseLossBackward>)\n",
      "tensor(1587.6735, grad_fn=<MseLossBackward>)\n",
      "tensor(1655.5051, grad_fn=<MseLossBackward>)\n",
      "tensor(1657.2467, grad_fn=<MseLossBackward>)\n",
      "tensor(1634.7882, grad_fn=<MseLossBackward>)\n",
      "tensor(1581.7579, grad_fn=<MseLossBackward>)\n",
      "tensor(1613.5651, grad_fn=<MseLossBackward>)\n",
      "tensor(1720.7532, grad_fn=<MseLossBackward>)\n",
      "tensor(1655.1128, grad_fn=<MseLossBackward>)\n",
      "tensor(1600.8971, grad_fn=<MseLossBackward>)\n",
      "tensor(1630.1118, grad_fn=<MseLossBackward>)\n",
      "tensor(1600.1927, grad_fn=<MseLossBackward>)\n",
      "tensor(1603.4501, grad_fn=<MseLossBackward>)\n",
      "tensor(1579.0972, grad_fn=<MseLossBackward>)\n",
      "tensor(1544.1555, grad_fn=<MseLossBackward>)\n",
      "tensor(1586.3651, grad_fn=<MseLossBackward>)\n",
      "tensor(1541.1494, grad_fn=<MseLossBackward>)\n",
      "tensor(1636.0823, grad_fn=<MseLossBackward>)\n",
      "tensor(1509.7964, grad_fn=<MseLossBackward>)\n",
      "tensor(1638.7325, grad_fn=<MseLossBackward>)\n",
      "tensor(1530.8112, grad_fn=<MseLossBackward>)\n",
      "tensor(1764.4080, grad_fn=<MseLossBackward>)\n",
      "tensor(1597.9467, grad_fn=<MseLossBackward>)\n",
      "tensor(1640.9254, grad_fn=<MseLossBackward>)\n",
      "tensor(1491.3241, grad_fn=<MseLossBackward>)\n",
      "tensor(1615.0664, grad_fn=<MseLossBackward>)\n",
      "tensor(1651.7412, grad_fn=<MseLossBackward>)\n",
      "tensor(1595.3549, grad_fn=<MseLossBackward>)\n",
      "tensor(1485.5695, grad_fn=<MseLossBackward>)\n",
      "tensor(1582.8138, grad_fn=<MseLossBackward>)\n",
      "tensor(1556.1514, grad_fn=<MseLossBackward>)\n",
      "tensor(1623.7461, grad_fn=<MseLossBackward>)\n",
      "tensor(1594.4248, grad_fn=<MseLossBackward>)\n",
      "tensor(1652.1320, grad_fn=<MseLossBackward>)\n",
      "tensor(1553.6229, grad_fn=<MseLossBackward>)\n",
      "tensor(1567.3113, grad_fn=<MseLossBackward>)\n",
      "tensor(1693.7867, grad_fn=<MseLossBackward>)\n",
      "tensor(1616.0006, grad_fn=<MseLossBackward>)\n",
      "tensor(1588.1215, grad_fn=<MseLossBackward>)\n",
      "tensor(1559.3402, grad_fn=<MseLossBackward>)\n",
      "tensor(1534.4447, grad_fn=<MseLossBackward>)\n",
      "tensor(1589.1276, grad_fn=<MseLossBackward>)\n",
      "tensor(1648.6508, grad_fn=<MseLossBackward>)\n",
      "tensor(1559.6097, grad_fn=<MseLossBackward>)\n",
      "tensor(1617.2463, grad_fn=<MseLossBackward>)\n",
      "tensor(1570.3353, grad_fn=<MseLossBackward>)\n",
      "tensor(1624.0085, grad_fn=<MseLossBackward>)\n",
      "tensor(1608.2068, grad_fn=<MseLossBackward>)\n",
      "tensor(1605.5115, grad_fn=<MseLossBackward>)\n",
      "tensor(1556.9326, grad_fn=<MseLossBackward>)\n",
      "tensor(1574.1276, grad_fn=<MseLossBackward>)\n",
      "tensor(1571.2498, grad_fn=<MseLossBackward>)\n",
      "tensor(1510.3483, grad_fn=<MseLossBackward>)\n",
      "tensor(1595.3341, grad_fn=<MseLossBackward>)\n",
      "tensor(1543.4955, grad_fn=<MseLossBackward>)\n",
      "tensor(1520.7914, grad_fn=<MseLossBackward>)\n",
      "tensor(1570.7526, grad_fn=<MseLossBackward>)\n",
      "tensor(1551.3861, grad_fn=<MseLossBackward>)\n",
      "tensor(1548.6816, grad_fn=<MseLossBackward>)\n",
      "tensor(1646.6090, grad_fn=<MseLossBackward>)\n",
      "tensor(1536.7252, grad_fn=<MseLossBackward>)\n",
      "tensor(1514.2798, grad_fn=<MseLossBackward>)\n",
      "tensor(1494.7140, grad_fn=<MseLossBackward>)\n",
      "tensor(1673.5448, grad_fn=<MseLossBackward>)\n",
      "tensor(1678.6072, grad_fn=<MseLossBackward>)\n",
      "tensor(1622.4121, grad_fn=<MseLossBackward>)\n",
      "tensor(1584.6550, grad_fn=<MseLossBackward>)\n",
      "tensor(1614.4907, grad_fn=<MseLossBackward>)\n",
      "tensor(1623.8202, grad_fn=<MseLossBackward>)\n",
      "tensor(1544.6698, grad_fn=<MseLossBackward>)\n",
      "tensor(1582.4779, grad_fn=<MseLossBackward>)\n",
      "tensor(1541.8962, grad_fn=<MseLossBackward>)\n",
      "tensor(1623.3848, grad_fn=<MseLossBackward>)\n",
      "tensor(1528.2419, grad_fn=<MseLossBackward>)\n",
      "tensor(1575.9578, grad_fn=<MseLossBackward>)\n",
      "tensor(1546.8291, grad_fn=<MseLossBackward>)\n",
      "tensor(1678.3798, grad_fn=<MseLossBackward>)\n",
      "tensor(1628.5697, grad_fn=<MseLossBackward>)\n",
      "tensor(1610.2029, grad_fn=<MseLossBackward>)\n",
      "tensor(1596.0610, grad_fn=<MseLossBackward>)\n",
      "tensor(1644.6222, grad_fn=<MseLossBackward>)\n",
      "tensor(1711.1910, grad_fn=<MseLossBackward>)\n",
      "tensor(1512.6423, grad_fn=<MseLossBackward>)\n",
      "tensor(1565.7788, grad_fn=<MseLossBackward>)\n",
      "tensor(1562.8597, grad_fn=<MseLossBackward>)\n",
      "tensor(1539.0201, grad_fn=<MseLossBackward>)\n",
      "tensor(1564.4694, grad_fn=<MseLossBackward>)\n",
      "tensor(1712.4259, grad_fn=<MseLossBackward>)\n",
      "tensor(1631.3461, grad_fn=<MseLossBackward>)\n",
      "tensor(1639.8544, grad_fn=<MseLossBackward>)\n",
      "tensor(1727.4059, grad_fn=<MseLossBackward>)\n",
      "tensor(1566.4111, grad_fn=<MseLossBackward>)\n",
      "tensor(1559.2513, grad_fn=<MseLossBackward>)\n",
      "tensor(1665.4464, grad_fn=<MseLossBackward>)\n",
      "tensor(1603.3755, grad_fn=<MseLossBackward>)\n",
      "tensor(1635.2574, grad_fn=<MseLossBackward>)\n",
      "tensor(1652.9329, grad_fn=<MseLossBackward>)\n",
      "tensor(1565.0679, grad_fn=<MseLossBackward>)\n",
      "tensor(1551.6226, grad_fn=<MseLossBackward>)\n",
      "tensor(1621.3158, grad_fn=<MseLossBackward>)\n",
      "tensor(1561.5527, grad_fn=<MseLossBackward>)\n",
      "tensor(1539.9757, grad_fn=<MseLossBackward>)\n",
      "tensor(1579.6743, grad_fn=<MseLossBackward>)\n",
      "tensor(1669.0483, grad_fn=<MseLossBackward>)\n",
      "tensor(1631.2928, grad_fn=<MseLossBackward>)\n",
      "tensor(1601.0768, grad_fn=<MseLossBackward>)\n",
      "tensor(1596.8892, grad_fn=<MseLossBackward>)\n",
      "tensor(1556.3545, grad_fn=<MseLossBackward>)\n",
      "tensor(1522.6931, grad_fn=<MseLossBackward>)\n",
      "tensor(1598.0494, grad_fn=<MseLossBackward>)\n",
      "tensor(1695.8372, grad_fn=<MseLossBackward>)\n",
      "tensor(1502.3755, grad_fn=<MseLossBackward>)\n"
     ]
    },
    {
     "ename": "KeyboardInterrupt",
     "evalue": "",
     "output_type": "error",
     "traceback": [
      "\u001b[0;31m---------------------------------------------------------------------------\u001b[0m",
      "\u001b[0;31mKeyboardInterrupt\u001b[0m                         Traceback (most recent call last)",
      "\u001b[0;32m<ipython-input-38-79566e33139a>\u001b[0m in \u001b[0;36m<module>\u001b[0;34m\u001b[0m\n\u001b[1;32m     33\u001b[0m             \u001b[0;31m# compute gradients only during 'train' phase\u001b[0m\u001b[0;34m\u001b[0m\u001b[0;34m\u001b[0m\u001b[0m\n\u001b[1;32m     34\u001b[0m             \u001b[0;32mwith\u001b[0m \u001b[0mtorch\u001b[0m\u001b[0;34m.\u001b[0m\u001b[0mset_grad_enabled\u001b[0m\u001b[0;34m(\u001b[0m\u001b[0mtraining\u001b[0m\u001b[0;34m)\u001b[0m\u001b[0;34m:\u001b[0m\u001b[0;34m\u001b[0m\u001b[0m\n\u001b[0;32m---> 35\u001b[0;31m                 \u001b[0moutputs\u001b[0m \u001b[0;34m=\u001b[0m \u001b[0mnet\u001b[0m\u001b[0;34m(\u001b[0m\u001b[0mx_batch\u001b[0m\u001b[0;34m[\u001b[0m\u001b[0;34m:\u001b[0m\u001b[0;34m,\u001b[0m \u001b[0;36m0\u001b[0m\u001b[0;34m]\u001b[0m\u001b[0;34m,\u001b[0m \u001b[0mx_batch\u001b[0m\u001b[0;34m[\u001b[0m\u001b[0;34m:\u001b[0m\u001b[0;34m,\u001b[0m \u001b[0;36m1\u001b[0m\u001b[0;34m]\u001b[0m\u001b[0;34m,\u001b[0m \u001b[0mminmax\u001b[0m\u001b[0;34m)\u001b[0m\u001b[0;34m\u001b[0m\u001b[0m\n\u001b[0m\u001b[1;32m     36\u001b[0m                 \u001b[0mloss\u001b[0m \u001b[0;34m=\u001b[0m \u001b[0mcriterion\u001b[0m\u001b[0;34m(\u001b[0m\u001b[0moutputs\u001b[0m\u001b[0;34m,\u001b[0m \u001b[0my_batch\u001b[0m\u001b[0;34m)\u001b[0m\u001b[0;34m\u001b[0m\u001b[0m\n\u001b[1;32m     37\u001b[0m                 \u001b[0mprint\u001b[0m\u001b[0;34m(\u001b[0m\u001b[0mloss\u001b[0m\u001b[0;34m)\u001b[0m\u001b[0;34m\u001b[0m\u001b[0m\n",
      "\u001b[0;32m~/.virtualenvs/rasa/lib/python3.6/site-packages/torch/nn/modules/module.py\u001b[0m in \u001b[0;36m__call__\u001b[0;34m(self, *input, **kwargs)\u001b[0m\n\u001b[1;32m    539\u001b[0m             \u001b[0mresult\u001b[0m \u001b[0;34m=\u001b[0m \u001b[0mself\u001b[0m\u001b[0;34m.\u001b[0m\u001b[0m_slow_forward\u001b[0m\u001b[0;34m(\u001b[0m\u001b[0;34m*\u001b[0m\u001b[0minput\u001b[0m\u001b[0;34m,\u001b[0m \u001b[0;34m**\u001b[0m\u001b[0mkwargs\u001b[0m\u001b[0;34m)\u001b[0m\u001b[0;34m\u001b[0m\u001b[0m\n\u001b[1;32m    540\u001b[0m         \u001b[0;32melse\u001b[0m\u001b[0;34m:\u001b[0m\u001b[0;34m\u001b[0m\u001b[0m\n\u001b[0;32m--> 541\u001b[0;31m             \u001b[0mresult\u001b[0m \u001b[0;34m=\u001b[0m \u001b[0mself\u001b[0m\u001b[0;34m.\u001b[0m\u001b[0mforward\u001b[0m\u001b[0;34m(\u001b[0m\u001b[0;34m*\u001b[0m\u001b[0minput\u001b[0m\u001b[0;34m,\u001b[0m \u001b[0;34m**\u001b[0m\u001b[0mkwargs\u001b[0m\u001b[0;34m)\u001b[0m\u001b[0;34m\u001b[0m\u001b[0m\n\u001b[0m\u001b[1;32m    542\u001b[0m         \u001b[0;32mfor\u001b[0m \u001b[0mhook\u001b[0m \u001b[0;32min\u001b[0m \u001b[0mself\u001b[0m\u001b[0;34m.\u001b[0m\u001b[0m_forward_hooks\u001b[0m\u001b[0;34m.\u001b[0m\u001b[0mvalues\u001b[0m\u001b[0;34m(\u001b[0m\u001b[0;34m)\u001b[0m\u001b[0;34m:\u001b[0m\u001b[0;34m\u001b[0m\u001b[0m\n\u001b[1;32m    543\u001b[0m             \u001b[0mhook_result\u001b[0m \u001b[0;34m=\u001b[0m \u001b[0mhook\u001b[0m\u001b[0;34m(\u001b[0m\u001b[0mself\u001b[0m\u001b[0;34m,\u001b[0m \u001b[0minput\u001b[0m\u001b[0;34m,\u001b[0m \u001b[0mresult\u001b[0m\u001b[0;34m)\u001b[0m\u001b[0;34m\u001b[0m\u001b[0m\n",
      "\u001b[0;32m<ipython-input-22-617ae3eddb56>\u001b[0m in \u001b[0;36mforward\u001b[0;34m(self, users, movies, minmax)\u001b[0m\n\u001b[1;32m     63\u001b[0m         \u001b[0mfeatures\u001b[0m \u001b[0;34m=\u001b[0m \u001b[0mtorch\u001b[0m\u001b[0;34m.\u001b[0m\u001b[0mcat\u001b[0m\u001b[0;34m(\u001b[0m\u001b[0;34m[\u001b[0m\u001b[0mself\u001b[0m\u001b[0;34m.\u001b[0m\u001b[0mu\u001b[0m\u001b[0;34m(\u001b[0m\u001b[0musers\u001b[0m\u001b[0;34m)\u001b[0m\u001b[0;34m,\u001b[0m \u001b[0mself\u001b[0m\u001b[0;34m.\u001b[0m\u001b[0mm\u001b[0m\u001b[0;34m(\u001b[0m\u001b[0mmovies\u001b[0m\u001b[0;34m)\u001b[0m\u001b[0;34m]\u001b[0m\u001b[0;34m,\u001b[0m \u001b[0mdim\u001b[0m\u001b[0;34m=\u001b[0m\u001b[0;36m1\u001b[0m\u001b[0;34m)\u001b[0m\u001b[0;34m\u001b[0m\u001b[0m\n\u001b[1;32m     64\u001b[0m         \u001b[0mx\u001b[0m \u001b[0;34m=\u001b[0m \u001b[0mself\u001b[0m\u001b[0;34m.\u001b[0m\u001b[0mdrop\u001b[0m\u001b[0;34m(\u001b[0m\u001b[0mfeatures\u001b[0m\u001b[0;34m)\u001b[0m\u001b[0;34m\u001b[0m\u001b[0m\n\u001b[0;32m---> 65\u001b[0;31m         \u001b[0mx\u001b[0m \u001b[0;34m=\u001b[0m \u001b[0mself\u001b[0m\u001b[0;34m.\u001b[0m\u001b[0mhidden\u001b[0m\u001b[0;34m(\u001b[0m\u001b[0mx\u001b[0m\u001b[0;34m)\u001b[0m\u001b[0;34m\u001b[0m\u001b[0m\n\u001b[0m\u001b[1;32m     66\u001b[0m         \u001b[0mout\u001b[0m \u001b[0;34m=\u001b[0m \u001b[0mtorch\u001b[0m\u001b[0;34m.\u001b[0m\u001b[0msigmoid\u001b[0m\u001b[0;34m(\u001b[0m\u001b[0mself\u001b[0m\u001b[0;34m.\u001b[0m\u001b[0mfc\u001b[0m\u001b[0;34m(\u001b[0m\u001b[0mx\u001b[0m\u001b[0;34m)\u001b[0m\u001b[0;34m)\u001b[0m\u001b[0;34m\u001b[0m\u001b[0m\n\u001b[1;32m     67\u001b[0m         \u001b[0;32mif\u001b[0m \u001b[0mminmax\u001b[0m \u001b[0;32mis\u001b[0m \u001b[0;32mnot\u001b[0m \u001b[0;32mNone\u001b[0m\u001b[0;34m:\u001b[0m\u001b[0;34m\u001b[0m\u001b[0m\n",
      "\u001b[0;32m~/.virtualenvs/rasa/lib/python3.6/site-packages/torch/nn/modules/module.py\u001b[0m in \u001b[0;36m__call__\u001b[0;34m(self, *input, **kwargs)\u001b[0m\n\u001b[1;32m    539\u001b[0m             \u001b[0mresult\u001b[0m \u001b[0;34m=\u001b[0m \u001b[0mself\u001b[0m\u001b[0;34m.\u001b[0m\u001b[0m_slow_forward\u001b[0m\u001b[0;34m(\u001b[0m\u001b[0;34m*\u001b[0m\u001b[0minput\u001b[0m\u001b[0;34m,\u001b[0m \u001b[0;34m**\u001b[0m\u001b[0mkwargs\u001b[0m\u001b[0;34m)\u001b[0m\u001b[0;34m\u001b[0m\u001b[0m\n\u001b[1;32m    540\u001b[0m         \u001b[0;32melse\u001b[0m\u001b[0;34m:\u001b[0m\u001b[0;34m\u001b[0m\u001b[0m\n\u001b[0;32m--> 541\u001b[0;31m             \u001b[0mresult\u001b[0m \u001b[0;34m=\u001b[0m \u001b[0mself\u001b[0m\u001b[0;34m.\u001b[0m\u001b[0mforward\u001b[0m\u001b[0;34m(\u001b[0m\u001b[0;34m*\u001b[0m\u001b[0minput\u001b[0m\u001b[0;34m,\u001b[0m \u001b[0;34m**\u001b[0m\u001b[0mkwargs\u001b[0m\u001b[0;34m)\u001b[0m\u001b[0;34m\u001b[0m\u001b[0m\n\u001b[0m\u001b[1;32m    542\u001b[0m         \u001b[0;32mfor\u001b[0m \u001b[0mhook\u001b[0m \u001b[0;32min\u001b[0m \u001b[0mself\u001b[0m\u001b[0;34m.\u001b[0m\u001b[0m_forward_hooks\u001b[0m\u001b[0;34m.\u001b[0m\u001b[0mvalues\u001b[0m\u001b[0;34m(\u001b[0m\u001b[0;34m)\u001b[0m\u001b[0;34m:\u001b[0m\u001b[0;34m\u001b[0m\u001b[0m\n\u001b[1;32m    543\u001b[0m             \u001b[0mhook_result\u001b[0m \u001b[0;34m=\u001b[0m \u001b[0mhook\u001b[0m\u001b[0;34m(\u001b[0m\u001b[0mself\u001b[0m\u001b[0;34m,\u001b[0m \u001b[0minput\u001b[0m\u001b[0;34m,\u001b[0m \u001b[0mresult\u001b[0m\u001b[0;34m)\u001b[0m\u001b[0;34m\u001b[0m\u001b[0m\n",
      "\u001b[0;32m~/.virtualenvs/rasa/lib/python3.6/site-packages/torch/nn/modules/container.py\u001b[0m in \u001b[0;36mforward\u001b[0;34m(self, input)\u001b[0m\n\u001b[1;32m     90\u001b[0m     \u001b[0;32mdef\u001b[0m \u001b[0mforward\u001b[0m\u001b[0;34m(\u001b[0m\u001b[0mself\u001b[0m\u001b[0;34m,\u001b[0m \u001b[0minput\u001b[0m\u001b[0;34m)\u001b[0m\u001b[0;34m:\u001b[0m\u001b[0;34m\u001b[0m\u001b[0m\n\u001b[1;32m     91\u001b[0m         \u001b[0;32mfor\u001b[0m \u001b[0mmodule\u001b[0m \u001b[0;32min\u001b[0m \u001b[0mself\u001b[0m\u001b[0;34m.\u001b[0m\u001b[0m_modules\u001b[0m\u001b[0;34m.\u001b[0m\u001b[0mvalues\u001b[0m\u001b[0;34m(\u001b[0m\u001b[0;34m)\u001b[0m\u001b[0;34m:\u001b[0m\u001b[0;34m\u001b[0m\u001b[0m\n\u001b[0;32m---> 92\u001b[0;31m             \u001b[0minput\u001b[0m \u001b[0;34m=\u001b[0m \u001b[0mmodule\u001b[0m\u001b[0;34m(\u001b[0m\u001b[0minput\u001b[0m\u001b[0;34m)\u001b[0m\u001b[0;34m\u001b[0m\u001b[0m\n\u001b[0m\u001b[1;32m     93\u001b[0m         \u001b[0;32mreturn\u001b[0m \u001b[0minput\u001b[0m\u001b[0;34m\u001b[0m\u001b[0m\n\u001b[1;32m     94\u001b[0m \u001b[0;34m\u001b[0m\u001b[0m\n",
      "\u001b[0;32m~/.virtualenvs/rasa/lib/python3.6/site-packages/torch/nn/modules/module.py\u001b[0m in \u001b[0;36m__call__\u001b[0;34m(self, *input, **kwargs)\u001b[0m\n\u001b[1;32m    539\u001b[0m             \u001b[0mresult\u001b[0m \u001b[0;34m=\u001b[0m \u001b[0mself\u001b[0m\u001b[0;34m.\u001b[0m\u001b[0m_slow_forward\u001b[0m\u001b[0;34m(\u001b[0m\u001b[0;34m*\u001b[0m\u001b[0minput\u001b[0m\u001b[0;34m,\u001b[0m \u001b[0;34m**\u001b[0m\u001b[0mkwargs\u001b[0m\u001b[0;34m)\u001b[0m\u001b[0;34m\u001b[0m\u001b[0m\n\u001b[1;32m    540\u001b[0m         \u001b[0;32melse\u001b[0m\u001b[0;34m:\u001b[0m\u001b[0;34m\u001b[0m\u001b[0m\n\u001b[0;32m--> 541\u001b[0;31m             \u001b[0mresult\u001b[0m \u001b[0;34m=\u001b[0m \u001b[0mself\u001b[0m\u001b[0;34m.\u001b[0m\u001b[0mforward\u001b[0m\u001b[0;34m(\u001b[0m\u001b[0;34m*\u001b[0m\u001b[0minput\u001b[0m\u001b[0;34m,\u001b[0m \u001b[0;34m**\u001b[0m\u001b[0mkwargs\u001b[0m\u001b[0;34m)\u001b[0m\u001b[0;34m\u001b[0m\u001b[0m\n\u001b[0m\u001b[1;32m    542\u001b[0m         \u001b[0;32mfor\u001b[0m \u001b[0mhook\u001b[0m \u001b[0;32min\u001b[0m \u001b[0mself\u001b[0m\u001b[0;34m.\u001b[0m\u001b[0m_forward_hooks\u001b[0m\u001b[0;34m.\u001b[0m\u001b[0mvalues\u001b[0m\u001b[0;34m(\u001b[0m\u001b[0;34m)\u001b[0m\u001b[0;34m:\u001b[0m\u001b[0;34m\u001b[0m\u001b[0m\n\u001b[1;32m    543\u001b[0m             \u001b[0mhook_result\u001b[0m \u001b[0;34m=\u001b[0m \u001b[0mhook\u001b[0m\u001b[0;34m(\u001b[0m\u001b[0mself\u001b[0m\u001b[0;34m,\u001b[0m \u001b[0minput\u001b[0m\u001b[0;34m,\u001b[0m \u001b[0mresult\u001b[0m\u001b[0;34m)\u001b[0m\u001b[0;34m\u001b[0m\u001b[0m\n",
      "\u001b[0;32m~/.virtualenvs/rasa/lib/python3.6/site-packages/torch/nn/modules/dropout.py\u001b[0m in \u001b[0;36mforward\u001b[0;34m(self, input)\u001b[0m\n\u001b[1;32m     52\u001b[0m \u001b[0;34m\u001b[0m\u001b[0m\n\u001b[1;32m     53\u001b[0m     \u001b[0;32mdef\u001b[0m \u001b[0mforward\u001b[0m\u001b[0;34m(\u001b[0m\u001b[0mself\u001b[0m\u001b[0;34m,\u001b[0m \u001b[0minput\u001b[0m\u001b[0;34m)\u001b[0m\u001b[0;34m:\u001b[0m\u001b[0;34m\u001b[0m\u001b[0m\n\u001b[0;32m---> 54\u001b[0;31m         \u001b[0;32mreturn\u001b[0m \u001b[0mF\u001b[0m\u001b[0;34m.\u001b[0m\u001b[0mdropout\u001b[0m\u001b[0;34m(\u001b[0m\u001b[0minput\u001b[0m\u001b[0;34m,\u001b[0m \u001b[0mself\u001b[0m\u001b[0;34m.\u001b[0m\u001b[0mp\u001b[0m\u001b[0;34m,\u001b[0m \u001b[0mself\u001b[0m\u001b[0;34m.\u001b[0m\u001b[0mtraining\u001b[0m\u001b[0;34m,\u001b[0m \u001b[0mself\u001b[0m\u001b[0;34m.\u001b[0m\u001b[0minplace\u001b[0m\u001b[0;34m)\u001b[0m\u001b[0;34m\u001b[0m\u001b[0m\n\u001b[0m\u001b[1;32m     55\u001b[0m \u001b[0;34m\u001b[0m\u001b[0m\n\u001b[1;32m     56\u001b[0m \u001b[0;34m\u001b[0m\u001b[0m\n",
      "\u001b[0;32m~/.virtualenvs/rasa/lib/python3.6/site-packages/torch/nn/functional.py\u001b[0m in \u001b[0;36mdropout\u001b[0;34m(input, p, training, inplace)\u001b[0m\n\u001b[1;32m    805\u001b[0m     return (_VF.dropout_(input, p, training)\n\u001b[1;32m    806\u001b[0m             \u001b[0;32mif\u001b[0m \u001b[0minplace\u001b[0m\u001b[0;34m\u001b[0m\u001b[0m\n\u001b[0;32m--> 807\u001b[0;31m             else _VF.dropout(input, p, training))\n\u001b[0m\u001b[1;32m    808\u001b[0m \u001b[0;34m\u001b[0m\u001b[0m\n\u001b[1;32m    809\u001b[0m \u001b[0;34m\u001b[0m\u001b[0m\n",
      "\u001b[0;31mKeyboardInterrupt\u001b[0m: "
     ]
    }
   ],
   "source": [
    "lr = 1e-3\n",
    "wd = 1e-5\n",
    "bs = 2000\n",
    "n_epochs = 100\n",
    "patience = 10\n",
    "no_improvements = 0\n",
    "best_loss = np.inf\n",
    "best_weights = None\n",
    "history = []\n",
    "lr_history = []\n",
    "\n",
    "device = torch.device('cuda:0' if torch.cuda.is_available() else 'cpu')\n",
    "\n",
    "net.to(device)\n",
    "criterion = nn.MSELoss(reduction='sum')\n",
    "optimizer = optim.Adam(net.parameters(), lr=lr, weight_decay=wd)\n",
    "iterations_per_epoch = int(math.ceil(dataset_sizes['train'] // bs))\n",
    "scheduler = CyclicLR(optimizer, cosine(t_max=iterations_per_epoch * 2,\n",
    "                                       eta_min=lr/10))\n",
    "\n",
    "for epoch in range(n_epochs):\n",
    "    stats = {'epoch': epoch + 1, 'total': n_epochs}\n",
    "    \n",
    "    for phase in ('train', 'val'):\n",
    "        training = phase == 'train'\n",
    "        running_loss = 0.0\n",
    "        n_batches = 0\n",
    "        \n",
    "        for batch in batches(*datasets[phase], shuffle=training, bs=bs):\n",
    "            x_batch, y_batch = [b.to(device) for b in batch]\n",
    "            optimizer.zero_grad()\n",
    "        \n",
    "            # compute gradients only during 'train' phase\n",
    "            with torch.set_grad_enabled(training):\n",
    "                outputs = net(x_batch[:, 0], x_batch[:, 1], minmax)\n",
    "                loss = criterion(outputs, y_batch)\n",
    "                print(loss)\n",
    "                \n",
    "                # don't update weights and rates when in 'val' phase\n",
    "                if training:\n",
    "                    scheduler.step()\n",
    "                    loss.backward()\n",
    "                    optimizer.step()\n",
    "                    lr_history.extend(scheduler.get_lr())\n",
    "                    \n",
    "            running_loss += loss.item()\n",
    "            \n",
    "        epoch_loss = running_loss / dataset_sizes[phase]\n",
    "        stats[phase] = epoch_loss\n",
    "        \n",
    "        # early stopping: save weights of the best model so far\n",
    "        if phase == 'val':\n",
    "            if epoch_loss < best_loss:\n",
    "                print('loss improvement on epoch: %d' % (epoch + 1))\n",
    "                best_loss = epoch_loss\n",
    "                best_weights = copy.deepcopy(net.state_dict())\n",
    "                no_improvements = 0\n",
    "            else:\n",
    "                no_improvements += 1\n",
    "                \n",
    "    history.append(stats)\n",
    "    print('[{epoch:03d}/{total:03d}] train: {train:.4f} - val: {val:.4f}'.format(**stats))\n",
    "    if no_improvements >= patience:\n",
    "        print('early stopping after epoch {epoch:03d}'.format(**stats))\n",
    "        break"
   ]
  },
  {
   "cell_type": "code",
   "execution_count": 71,
   "metadata": {},
   "outputs": [
    {
     "data": {
      "image/png": "[encoded data removed]",
      "text/plain": [
       "<Figure size 432x288 with 1 Axes>"
      ]
     },
     "metadata": {},
     "output_type": "display_data"
    }
   ],
   "source": [
    "ax = pd.DataFrame(history).drop(columns='total').plot(x='epoch')"
   ]
  },
  {
   "cell_type": "code",
   "execution_count": 72,
   "metadata": {},
   "outputs": [
    {
     "data": {
      "image/png": "[encoded data removed]",
      "text/plain": [
       "<Figure size 432x288 with 1 Axes>"
      ]
     },
     "metadata": {},
     "output_type": "display_data"
    }
   ],
   "source": [
    "_ = plt.plot(lr_history[:2*iterations_per_epoch])"
   ]
  },
  {
   "cell_type": "code",
   "execution_count": 73,
   "metadata": {},
   "outputs": [
    {
     "data": {
      "text/plain": [
       "<All keys matched successfully>"
      ]
     },
     "execution_count": 73,
     "metadata": {},
     "output_type": "execute_result"
    }
   ],
   "source": [
    "net.load_state_dict(best_weights)"
   ]
  },
  {
   "cell_type": "code",
   "execution_count": 75,
   "metadata": {},
   "outputs": [],
   "source": [
    "groud_truth, predictions = [], []\n",
    "\n",
    "with torch.no_grad():\n",
    "    for batch in batches(*datasets['val'], shuffle=False, bs=bs):\n",
    "        x_batch, y_batch = [b.to(device) for b in batch]\n",
    "        outputs = net(x_batch[:, 0], x_batch[:, 1], minmax)\n",
    "        groud_truth.extend(y_batch.tolist())\n",
    "        predictions.extend(outputs.tolist())\n",
    "\n",
    "groud_truth = np.asarray(groud_truth).ravel()\n",
    "predictions = np.asarray(predictions).ravel()"
   ]
  },
  {
   "cell_type": "code",
   "execution_count": 76,
   "metadata": {},
   "outputs": [
    {
     "name": "stdout",
     "output_type": "stream",
     "text": [
      "Final RMSE: 0.8851\n"
     ]
    }
   ],
   "source": [
    "final_loss = np.sqrt(np.mean((predictions - groud_truth)**2))\n",
    "print(f'Final RMSE: {final_loss:.4f}')"
   ]
  },
  {
   "cell_type": "code",
   "execution_count": 77,
   "metadata": {},
   "outputs": [],
   "source": [
    "with open(os.path.join(download_path, 'ml-1m/pytorch_model_best.weights'),\n",
    "          'wb') as file:\n",
    "    pickle.dump(best_weights, file)"
   ]
  },
  {
   "cell_type": "markdown",
   "metadata": {},
   "source": [
    "### Embeddings Visualization"
   ]
  },
  {
   "cell_type": "code",
   "execution_count": 78,
   "metadata": {},
   "outputs": [],
   "source": [
    "from sklearn.decomposition import PCA"
   ]
  },
  {
   "cell_type": "code",
   "execution_count": 80,
   "metadata": {},
   "outputs": [
    {
     "data": {
      "text/plain": [
       "<All keys matched successfully>"
      ]
     },
     "execution_count": 80,
     "metadata": {},
     "output_type": "execute_result"
    }
   ],
   "source": [
    "with open(os.path.join(download_path, 'ml-1m/pytorch_model_best.weights'),\n",
    "          'rb') as file:\n",
    "    best_weights = pickle.load(file)\n",
    "net.load_state_dict(best_weights)"
   ]
  },
  {
   "cell_type": "code",
   "execution_count": 81,
   "metadata": {},
   "outputs": [],
   "source": [
    "def to_numpy(tensor):\n",
    "    return tensor.cpu().numpy()"
   ]
  },
  {
   "cell_type": "code",
   "execution_count": 82,
   "metadata": {},
   "outputs": [],
   "source": [
    "_, _, (user_id_map, movie_id_map) = create_dataset(ratings)\n",
    "embed_to_original = {v: k for k, v in movie_id_map.items()}\n",
    "popular_movies = ratings.groupby('movieId').movieId.count().sort_values(\n",
    "    ascending=False).values[:1000]"
   ]
  },
  {
   "cell_type": "code",
   "execution_count": 86,
   "metadata": {},
   "outputs": [
    {
     "name": "stdout",
     "output_type": "stream",
     "text": [
      "(5, 1000)\n"
     ]
    },
    {
     "data": {
      "text/plain": [
       "array([[ 0.00929549, -0.044062  , -0.05351381, ..., -0.01257454,\n",
       "        -0.01257454, -0.01257454],\n",
       "       [-0.03120749,  0.00266833, -0.03209128, ...,  0.02730897,\n",
       "         0.02730897,  0.02730897],\n",
       "       [-0.02876042,  0.05175858,  0.06533601, ..., -0.04921564,\n",
       "        -0.04921564, -0.04921564],\n",
       "       [ 0.015285  , -0.0116873 , -0.03953724, ...,  0.03325929,\n",
       "         0.03325929,  0.03325929],\n",
       "       [-0.03483692,  0.00106709, -0.0361088 , ..., -0.00689152,\n",
       "        -0.00689152, -0.00689152]], dtype=float32)"
      ]
     },
     "execution_count": 86,
     "metadata": {},
     "output_type": "execute_result"
    }
   ],
   "source": [
    "embed = to_numpy(net.m.weight.data)\n",
    "pca = PCA(n_components=5)\n",
    "components = pca.fit(embed[popular_movies].T).components_\n",
    "print(components.shape)\n",
    "components"
   ]
  },
  {
   "cell_type": "code",
   "execution_count": 87,
   "metadata": {},
   "outputs": [],
   "source": [
    "components_df = pd.DataFrame(components.T, columns=[f'fc{i}' for i in range(pca.n_components_)])\n",
    "movie_ids = [embed_to_original[idx] for idx in components_df.index]\n",
    "meta = movies.set_index('movieId')\n",
    "components_df['movie_id'] = movie_ids\n",
    "components_df['title'] = meta.loc[movie_ids].title.values\n",
    "components_df['genres'] = meta.loc[movie_ids].genres.values"
   ]
  },
  {
   "cell_type": "code",
   "execution_count": 88,
   "metadata": {},
   "outputs": [
    {
     "data": {
      "text/html": [
       "<div>\n",
       "<style scoped>\n",
       "    .dataframe tbody tr th:only-of-type {\n",
       "        vertical-align: middle;\n",
       "    }\n",
       "\n",
       "    .dataframe tbody tr th {\n",
       "        vertical-align: top;\n",
       "    }\n",
       "\n",
       "    .dataframe thead th {\n",
       "        text-align: right;\n",
       "    }\n",
       "</style>\n",
       "<table border=\"1\" class=\"dataframe\">\n",
       "  <thead>\n",
       "    <tr style=\"text-align: right;\">\n",
       "      <th></th>\n",
       "      <th>fc0</th>\n",
       "      <th>fc1</th>\n",
       "      <th>fc2</th>\n",
       "      <th>fc3</th>\n",
       "      <th>fc4</th>\n",
       "      <th>movie_id</th>\n",
       "      <th>title</th>\n",
       "      <th>genres</th>\n",
       "    </tr>\n",
       "  </thead>\n",
       "  <tbody>\n",
       "    <tr>\n",
       "      <th>24</th>\n",
       "      <td>-0.002523</td>\n",
       "      <td>-0.009493</td>\n",
       "      <td>-0.039207</td>\n",
       "      <td>-0.011832</td>\n",
       "      <td>0.009102</td>\n",
       "      <td>2340</td>\n",
       "      <td>Meet Joe Black (1998)</td>\n",
       "      <td>Romance</td>\n",
       "    </tr>\n",
       "    <tr>\n",
       "      <th>36</th>\n",
       "      <td>0.006173</td>\n",
       "      <td>-0.015068</td>\n",
       "      <td>-0.051067</td>\n",
       "      <td>-0.008499</td>\n",
       "      <td>-0.013557</td>\n",
       "      <td>1836</td>\n",
       "      <td>Last Days of Disco, The (1998)</td>\n",
       "      <td>Drama</td>\n",
       "    </tr>\n",
       "    <tr>\n",
       "      <th>615</th>\n",
       "      <td>-0.030380</td>\n",
       "      <td>0.027228</td>\n",
       "      <td>-0.056958</td>\n",
       "      <td>0.017534</td>\n",
       "      <td>0.013603</td>\n",
       "      <td>2662</td>\n",
       "      <td>War of the Worlds, The (1953)</td>\n",
       "      <td>Action|Sci-Fi|War</td>\n",
       "    </tr>\n",
       "    <tr>\n",
       "      <th>342</th>\n",
       "      <td>0.026507</td>\n",
       "      <td>0.063297</td>\n",
       "      <td>-0.017463</td>\n",
       "      <td>0.075442</td>\n",
       "      <td>0.048534</td>\n",
       "      <td>1449</td>\n",
       "      <td>Waiting for Guffman (1996)</td>\n",
       "      <td>Comedy</td>\n",
       "    </tr>\n",
       "  </tbody>\n",
       "</table>\n",
       "</div>"
      ],
      "text/plain": [
       "          fc0       fc1       fc2       fc3       fc4  movie_id  \\\n",
       "24  -0.002523 -0.009493 -0.039207 -0.011832  0.009102      2340   \n",
       "36   0.006173 -0.015068 -0.051067 -0.008499 -0.013557      1836   \n",
       "615 -0.030380  0.027228 -0.056958  0.017534  0.013603      2662   \n",
       "342  0.026507  0.063297 -0.017463  0.075442  0.048534      1449   \n",
       "\n",
       "                              title             genres  \n",
       "24            Meet Joe Black (1998)            Romance  \n",
       "36   Last Days of Disco, The (1998)              Drama  \n",
       "615   War of the Worlds, The (1953)  Action|Sci-Fi|War  \n",
       "342      Waiting for Guffman (1996)             Comedy  "
      ]
     },
     "execution_count": 88,
     "metadata": {},
     "output_type": "execute_result"
    }
   ],
   "source": [
    "components_df.sample(4)"
   ]
  },
  {
   "cell_type": "code",
   "execution_count": 89,
   "metadata": {},
   "outputs": [],
   "source": [
    "def plot_components(components, component, ascending=False):\n",
    "    fig, ax = plt.subplots(figsize=(18, 12))\n",
    "    \n",
    "    subset = components.sort_values(by=component, ascending=ascending).iloc[:12]\n",
    "    columns = components_df.columns\n",
    "    features = columns[columns.str.startswith('fc')].tolist()\n",
    "    \n",
    "    fc = subset[features]\n",
    "    titles = ['\\n'.join(wrap(t, width=10)) for t in subset.title]\n",
    "    genres = subset.genres.str.replace('|', '\\n')\n",
    "    labels = [f'{t}\\n\\n{g}' for t, g in zip(titles, genres)]\n",
    "    \n",
    "    fc.plot(ax=ax, kind='bar')\n",
    "    y_ticks = [f'{t:2.2f}' for t in ax.get_yticks()]\n",
    "    ax.set_xticklabels(labels, rotation=0, fontsize=14)\n",
    "    ax.set_yticklabels(y_ticks, fontsize=14)\n",
    "    ax.legend(loc='best', fontsize=14)\n",
    "    \n",
    "    plot_title = f\"Movies with {['highest', 'lowest'][ascending]} '{component}' component values\" \n",
    "    ax.set_title(plot_title, fontsize=20)"
   ]
  },
  {
   "cell_type": "code",
   "execution_count": 90,
   "metadata": {},
   "outputs": [
    {
     "data": {
      "image/png": "[encoded data removed]",
      "text/plain": [
       "<Figure size 1296x864 with 1 Axes>"
      ]
     },
     "metadata": {},
     "output_type": "display_data"
    }
   ],
   "source": [
    "plot_components(components_df, 'fc0', ascending=False)"
   ]
  },
  {
   "cell_type": "code",
   "execution_count": 91,
   "metadata": {},
   "outputs": [
    {
     "data": {
      "image/png": "[encoded data removed]",
      "text/plain": [
       "<Figure size 1296x864 with 1 Axes>"
      ]
     },
     "metadata": {},
     "output_type": "display_data"
    }
   ],
   "source": [
    "plot_components(components_df, 'fc0', ascending=True)"
   ]
  },
  {
   "cell_type": "markdown",
   "metadata": {},
   "source": [
    "## Matrix Factorization in pytorch"
   ]
  },
  {
   "cell_type": "code",
   "execution_count": 92,
   "metadata": {},
   "outputs": [],
   "source": [
    "import torch\n",
    "from torch.autograd import Variable\n",
    "from torch import nn\n",
    "from torch.nn import functional as F"
   ]
  },
  {
   "cell_type": "code",
   "execution_count": 93,
   "metadata": {},
   "outputs": [],
   "source": [
    "class MatrixFactorization(nn.Module):\n",
    "    \n",
    "    def __init__(self, n_users, n_items, n_factors=20):\n",
    "        super().__init__()\n",
    "        self.user_factors = nn.Embedding(n_users, n_factors)\n",
    "        self.item_factors = nn.Embedding(n_items, n_factors)\n",
    "        \n",
    "    def forward(self, user, item):\n",
    "        return (self.user_factors(user)*self.item_factors(item)).sum(1)\n",
    "    \n",
    "    def predict(self, user, item):\n",
    "        return self.forward(user, item)"
   ]
  },
  {
   "cell_type": "code",
   "execution_count": 94,
   "metadata": {},
   "outputs": [
    {
     "name": "stdout",
     "output_type": "stream",
     "text": [
      "num users:  6040\n",
      "num movies:  3706\n"
     ]
    }
   ],
   "source": [
    "print('num users: ', n)\n",
    "print('num movies: ', m)"
   ]
  },
  {
   "cell_type": "code",
   "execution_count": 95,
   "metadata": {},
   "outputs": [],
   "source": [
    "model = MatrixFactorization(n_users=n, n_items=m, n_factors=150)"
   ]
  },
  {
   "cell_type": "code",
   "execution_count": 96,
   "metadata": {},
   "outputs": [
    {
     "data": {
      "text/plain": [
       "MatrixFactorization(\n",
       "  (user_factors): Embedding(6040, 150)\n",
       "  (item_factors): Embedding(3706, 150)\n",
       ")"
      ]
     },
     "execution_count": 96,
     "metadata": {},
     "output_type": "execute_result"
    }
   ],
   "source": [
    "model"
   ]
  },
  {
   "cell_type": "code",
   "execution_count": 102,
   "metadata": {},
   "outputs": [
    {
     "name": "stdout",
     "output_type": "stream",
     "text": [
      "(800167, 2)\n",
      "(800167,)\n",
      "<class 'pandas.core.frame.DataFrame'>\n",
      "        user_id  movie_id\n",
      "529184     3270      1925\n",
      "341591     2011       579\n",
      "470922     2898      1497\n",
      "630004     3807       737\n",
      "131938      853       536\n",
      "(200042, 2)\n",
      "(200042,)\n",
      "<class 'pandas.core.frame.DataFrame'>\n",
      "        user_id  movie_id\n",
      "630120     3808      2234\n",
      "229398     1388       143\n",
      "758377     4509       849\n",
      "159240     1016      2393\n",
      "254252     1545       883\n"
     ]
    }
   ],
   "source": [
    "x_train, y_train = datasets['train']\n",
    "print(x_train.shape)\n",
    "print(y_train.shape)\n",
    "print(type(x_train))\n",
    "print(x_train.head())\n",
    "\n",
    "x_val, y_val = datasets['val']\n",
    "print(x_val.shape)\n",
    "print(y_val.shape)\n",
    "print(type(x_val))\n",
    "print(x_val.head())"
   ]
  },
  {
   "cell_type": "code",
   "execution_count": 107,
   "metadata": {},
   "outputs": [
    {
     "name": "stdout",
     "output_type": "stream",
     "text": [
      "Pandas(Index=0, user_id=0, movie_id=0) \t 0 \t 0\n",
      "Pandas(Index=1, user_id=0, movie_id=1) \t 0 \t 1\n",
      "Pandas(Index=2, user_id=0, movie_id=2) \t 0 \t 2\n",
      "Pandas(Index=3, user_id=0, movie_id=3) \t 0 \t 3\n"
     ]
    }
   ],
   "source": [
    "count = 0\n",
    "for row in X.itertuples():\n",
    "    print(row, '\\t', row[1], '\\t', row[2])\n",
    "    if count > 2:\n",
    "        break\n",
    "    count += 1"
   ]
  },
  {
   "cell_type": "code",
   "execution_count": 125,
   "metadata": {},
   "outputs": [],
   "source": [
    "import os\n",
    "import requests\n",
    "import zipfile\n",
    "\n",
    "import numpy as np\n",
    "import pandas as pd\n",
    "import scipy.sparse as sp\n",
    "\n",
    "\"\"\"\n",
    "Shamelessly stolen from\n",
    "https://github.com/maciejkula/triplet_recommendations_keras\n",
    "\"\"\"\n",
    "\n",
    "\n",
    "def train_test_split(interactions, n=10):\n",
    "    \"\"\"\n",
    "    Split an interactions matrix into training and test sets.\n",
    "    Parameters\n",
    "    ----------\n",
    "    interactions : np.ndarray\n",
    "    n : int (default=10)\n",
    "        Number of items to select / row to place into test.\n",
    "    Returns\n",
    "    -------\n",
    "    train : np.ndarray\n",
    "    test : np.ndarray\n",
    "    \"\"\"\n",
    "    test = np.zeros(interactions.shape)\n",
    "    train = interactions.copy()\n",
    "    for user in range(interactions.shape[0]):\n",
    "        if interactions[user, :].nonzero()[0].shape[0] > n:\n",
    "            test_interactions = np.random.choice(interactions[user, :].nonzero()[0],\n",
    "                                                 size=n,\n",
    "                                                 replace=False)\n",
    "            train[user, test_interactions] = 0.\n",
    "            test[user, test_interactions] = interactions[user, test_interactions]\n",
    "\n",
    "    # Test and training are truly disjoint\n",
    "    assert(np.all((train * test) == 0))\n",
    "    return train, test\n",
    "\n",
    "\n",
    "def _get_data_path():\n",
    "    \"\"\"\n",
    "    Get path to the movielens dataset file.\n",
    "    \"\"\"\n",
    "    data_path = os.path.join(os.path.dirname(os.path.abspath(__file__)),\n",
    "                        'data')\n",
    "    if not os.path.exists(data_path):\n",
    "        print('Making data path')\n",
    "        os.mkdir(data_path)\n",
    "    return data_path\n",
    "\n",
    "\n",
    "def _download_movielens(dest_path):\n",
    "    \"\"\"\n",
    "    Download the dataset.\n",
    "    \"\"\"\n",
    "\n",
    "    url = 'http://files.grouplens.org/datasets/movielens/ml-100k.zip'\n",
    "    req = requests.get(url, stream=True)\n",
    "\n",
    "    print('Downloading MovieLens data')\n",
    "\n",
    "    with open(os.path.join(dest_path, 'ml-100k.zip'), 'wb') as fd:\n",
    "        for chunk in req.iter_content(chunk_size=None):\n",
    "            fd.write(chunk)\n",
    "\n",
    "    with zipfile.ZipFile(os.path.join(dest_path, 'ml-100k.zip'), 'r') as z:\n",
    "        z.extractall(dest_path)\n",
    "\n",
    "\n",
    "def get_movielens_interactions(ratings):\n",
    "\n",
    "    user_ids = ratings.userId.unique()\n",
    "    item_ids = ratings.movieId.unique()\n",
    "    \n",
    "    n_users, n_items = user_ids.shape[0], item_ids.shape[0]\n",
    "    \n",
    "    user2index = {value: i for i, value in enumerate(user_ids)}\n",
    "    item2index = {value: i for i, value in enumerate(item_ids)}\n",
    "\n",
    "    interactions = np.zeros((n_users, n_items))\n",
    "    for row in ratings.itertuples():\n",
    "        interactions[user2index[row[1]], item2index[row[2]]] = row[3]\n",
    "    return interactions, user2index, item2index\n",
    "\n",
    "\n",
    "def get_movielens_train_test_split(ratings, implicit=False):\n",
    "    interactions, user2index, item2index = get_movielens_interactions(\n",
    "        ratings)\n",
    "    if implicit:\n",
    "        interactions = (interactions >= 4).astype(np.float32)\n",
    "    train, test = train_test_split(interactions)\n",
    "    train = sp.coo_matrix(train)\n",
    "    test = sp.coo_matrix(test)\n",
    "    return train, test, user2index, item2index"
   ]
  },
  {
   "cell_type": "code",
   "execution_count": 126,
   "metadata": {},
   "outputs": [],
   "source": [
    "train, test, user2index, item2index = get_movielens_train_test_split(\n",
    "    ratings)"
   ]
  },
  {
   "cell_type": "code",
   "execution_count": 127,
   "metadata": {},
   "outputs": [
    {
     "name": "stdout",
     "output_type": "stream",
     "text": [
      "(6040, 3706)\n",
      "(6040, 3706)\n"
     ]
    }
   ],
   "source": [
    "print(train.shape)\n",
    "print(test.shape)"
   ]
  },
  {
   "cell_type": "code",
   "execution_count": 128,
   "metadata": {},
   "outputs": [
    {
     "data": {
      "text/plain": [
       "<6040x3706 sparse matrix of type '<class 'numpy.float64'>'\n",
       "\twith 939809 stored elements in COOrdinate format>"
      ]
     },
     "execution_count": 128,
     "metadata": {},
     "output_type": "execute_result"
    }
   ],
   "source": [
    "train"
   ]
  },
  {
   "cell_type": "code",
   "execution_count": 129,
   "metadata": {},
   "outputs": [
    {
     "data": {
      "text/plain": [
       "<6040x3706 sparse matrix of type '<class 'numpy.float64'>'\n",
       "\twith 60400 stored elements in COOrdinate format>"
      ]
     },
     "execution_count": 129,
     "metadata": {},
     "output_type": "execute_result"
    }
   ],
   "source": [
    "test"
   ]
  },
  {
   "cell_type": "code",
   "execution_count": 131,
   "metadata": {},
   "outputs": [
    {
     "data": {
      "text/plain": [
       "60400"
      ]
     },
     "execution_count": 131,
     "metadata": {},
     "output_type": "execute_result"
    }
   ],
   "source": [
    "test.astype(np.float32).tocoo().nnz"
   ]
  },
  {
   "cell_type": "code",
   "execution_count": 132,
   "metadata": {},
   "outputs": [
    {
     "data": {
      "text/plain": [
       "60400"
      ]
     },
     "execution_count": 132,
     "metadata": {},
     "output_type": "execute_result"
    }
   ],
   "source": [
    "test.nnz"
   ]
  },
  {
   "cell_type": "code",
   "execution_count": 134,
   "metadata": {},
   "outputs": [
    {
     "data": {
      "text/plain": [
       "(0, 0, 5.0)"
      ]
     },
     "execution_count": 134,
     "metadata": {},
     "output_type": "execute_result"
    }
   ],
   "source": [
    "test.row[0], test.col[0], test.data[0]"
   ]
  },
  {
   "cell_type": "code",
   "execution_count": null,
   "metadata": {},
   "outputs": [],
   "source": []
  }
 ],
 "metadata": {
  "kernelspec": {
   "display_name": "Python 3",
   "language": "python",
   "name": "python3"
  },
  "language_info": {
   "codemirror_mode": {
    "name": "ipython",
    "version": 3
   },
   "file_extension": ".py",
   "mimetype": "text/x-python",
   "name": "python",
   "nbconvert_exporter": "python",
   "pygments_lexer": "ipython3",
   "version": "3.6.5"
  }
 },
 "nbformat": 4,
 "nbformat_minor": 2
}
