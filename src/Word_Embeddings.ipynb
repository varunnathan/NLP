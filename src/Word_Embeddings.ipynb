{
 "cells": [
  {
   "cell_type": "markdown",
   "metadata": {},
   "source": [
    "### Word Embeddings ###"
   ]
  },
  {
   "cell_type": "code",
   "execution_count": 12,
   "metadata": {
    "collapsed": false
   },
   "outputs": [
    {
     "name": "stdout",
     "output_type": "stream",
     "text": [
      "Word2Vec(vocab=15, size=20, alpha=0.025)\n",
      "['and', 'nlp', 'voice', 'on', 'this', 'text', 'is', 'cat', 'deals', 'wall', 'rat', 'session', 'the', 'chases', 'with']\n",
      "[ 0.00041742  0.00431019  0.01961921  0.01360844  0.01279144 -0.01290924\n",
      " -0.02304703  0.00311108 -0.02015666 -0.01194092 -0.01236368  0.00604426\n",
      " -0.01092315 -0.02129521 -0.01828956 -0.00125179  0.02168317  0.00936225\n",
      "  0.00316684  0.00612158]\n"
     ]
    }
   ],
   "source": [
    "from gensim.models import Word2Vec\n",
    "\n",
    "sentences = [['this', 'is', 'nlp', 'session'],\n",
    "             ['nlp', 'deals', 'with', 'text', 'and', 'voice'],\n",
    "             ['cat', 'is', 'on', 'this', 'wall'],\n",
    "             ['cat', 'chases', 'the', 'rat']\n",
    "            ]\n",
    "\n",
    "# train model\n",
    "model = Word2Vec(sentences, min_count=1, size=20)\n",
    "# summarize the loaded model\n",
    "print(model)\n",
    "\n",
    "# summarize vocabulary\n",
    "words = list(model.wv.vocab)\n",
    "print(words)\n",
    "\n",
    "# access vector for one word\n",
    "print(model['nlp'])"
   ]
  },
  {
   "cell_type": "code",
   "execution_count": 13,
   "metadata": {
    "collapsed": false
   },
   "outputs": [
    {
     "data": {
      "image/png": "[encoded data removed]",
      "text/plain": [
       "<matplotlib.figure.Figure at 0x11483bdd0>"
      ]
     },
     "metadata": {},
     "output_type": "display_data"
    }
   ],
   "source": [
    "from sklearn.decomposition import PCA, TruncatedSVD\n",
    "from matplotlib import pyplot\n",
    "\n",
    "% matplotlib inline\n",
    "\n",
    "X = model[model.wv.vocab]\n",
    "pca = PCA(n_components=2)\n",
    "result = pca.fit_transform(X)\n",
    "# create a scatter plot of the projection\n",
    "pyplot.scatter(result[:, 0], result[:, 1])\n",
    "words = list(model.wv.vocab)\n",
    "for i, word in enumerate(words):\n",
    "    pyplot.annotate(word, xy=(result[i, 0], result[i, 1]))\n",
    "pyplot.show()"
   ]
  },
  {
   "cell_type": "markdown",
   "metadata": {},
   "source": [
    "##### References #####\n",
    "1. Tensorflow tutorial - https://www.tensorflow.org/tutorials/word2vec\n",
    "2. Gensim word2vec tutorial - https://rare-technologies.com/word2vec-tutorial/"
   ]
  }
 ],
 "metadata": {
  "kernelspec": {
   "display_name": "Python 2",
   "language": "python",
   "name": "python2"
  },
  "language_info": {
   "codemirror_mode": {
    "name": "ipython",
    "version": 2
   },
   "file_extension": ".py",
   "mimetype": "text/x-python",
   "name": "python",
   "nbconvert_exporter": "python",
   "pygments_lexer": "ipython2",
   "version": "2.7.10"
  }
 },
 "nbformat": 4,
 "nbformat_minor": 2
}
