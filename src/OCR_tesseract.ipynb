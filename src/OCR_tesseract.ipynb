{
 "cells": [
  {
   "cell_type": "code",
   "execution_count": 2,
   "metadata": {},
   "outputs": [
    {
     "name": "stdout",
     "output_type": "stream",
     "text": [
      "Collecting pytesseract\n",
      "Requirement already satisfied: Pillow in /anaconda3/lib/python3.6/site-packages (from pytesseract) (5.1.0)\n",
      "Installing collected packages: pytesseract\n",
      "Successfully installed pytesseract-0.2.6\n",
      "\u001b[33mYou are using pip version 18.0, however version 19.1.1 is available.\n",
      "You should consider upgrading via the 'pip install --upgrade pip' command.\u001b[0m\n"
     ]
    }
   ],
   "source": [
    "from PIL import Image\n",
    "try:\n",
    "    import pytesseract\n",
    "except:\n",
    "    !pip install pytesseract\n",
    "    import pytesseract"
   ]
  },
  {
   "cell_type": "code",
   "execution_count": 3,
   "metadata": {},
   "outputs": [],
   "source": [
    "# GLOBALS\n",
    "ROOT = \"/Users/varunn/\"\n",
    "DATA_PATH = ROOT + \"Downloads/incometaxscan/\"\n",
    "INP_FN = DATA_PATH + \"INCOME TAX-1 001.jpg\"\n",
    "OUT_FN = DATA_PATH + \"IT-1.txt\""
   ]
  },
  {
   "cell_type": "code",
   "execution_count": 6,
   "metadata": {},
   "outputs": [],
   "source": [
    "out = pytesseract.image_to_string(Image.open(INP_FN), lang=\"eng\")"
   ]
  },
  {
   "cell_type": "code",
   "execution_count": 7,
   "metadata": {},
   "outputs": [
    {
     "data": {
      "text/plain": [
       "'Tax Proof FY 18-19\\n\\nRefNo 83\\n\\nEmployee Code\\n\\nDepartment\\n\\n54203\\n\\nPolicy No.\\n\\n304686103\\n\\n304686104\\n\\n304686105\\n\\n304686106\\n\\n304686107\\n\\n304686108\\n\\n304686109\\n\\n304686110\\n\\n3046861114\\n\\n304686112\\n\\n304686113\\n\\n304686114\\n\\nPee ey /\\nOo\\nCo\\n\\n27/09/2018\\n\\n27/09/2018\\n\\n27/09/2018\\n\\n27/09/2018\\n\\n27/09/2018\\n\\n27/09/2018\\n\\n27/09/2018\\n\\n27/09/2018\\n\\n27/09/2018\\n\\n27/09/2018\\n\\n27/09/2018\\n\\n27/09/2018\\n\\nTAN\\n\\nT8319 Dec 2018 FY2019E1704\\n\\na7\\n\\nAssured\\n100000\\n100000\\n100000\\n100000\\n100000\\n100000\\n100000\\n100000\\n100000\\n100000\\n\\n100000\\n\\n100000\\n\\nE1704\\n\\n \\n\\n|\\n\\n \\n\\n \\n\\n \\n\\n \\n\\n \\n\\n \\n\\n \\n\\nMMi\\n\\n \\n\\nName\\n\\nENGINECRING . PAN\\n\\n69125\\n\\neu\\n\\nau\\n\\n1437\\n1135\\n1366\\n937\\n\\n1300\\n1089\\n906\\n\\n1240\\n876\\n\\n1046\\n1186\\n\\n850\\n\\nCleared\\n\\nNumber of ee Si\\neee sees ae :\\nPaid onor Payable on Paid on\\nBe ee\\nes ee ee\\nee\\n\\nQuarterly 1\\nQuarterly 1\\nQuarterly 1\\nQuarterly f\\nQuarterly 4\\nQuarterly 1\\nQuarterly ‘l\\nQuarterly 1\\nQuarterly 1\\nQuarterly ‘f\\nQuarterly 1\\nQuarterly 1\\n\\n2\\n\\nVarun Nathan\\n\\nALCEN AVS\\n\\nCe\\nUo\\n19 (Count) 18(Amt)\\n\\n1437\\n\\n1135\\n\\n1366\\n\\n937\\n\\n1300\\n\\n1089\\n\\n906\\n\\n1240\\n\\n876\\n\\n1046\\n\\n1186\\n\\n850\\n\\nAAA\\n\\noie\\n23!\\nMar\\nGa)\\n\\n2874\\n\\n2270\\n\\n2732\\n\\n1874\\n\\n2600\\n\\n2178\\n\\n1812\\n\\n2480\\n\\n1752\\n\\n2092\\n\\n2372\\n\\n1700\\n\\nee fice\\nSee\\nae\\nSOS\\nAa\\n\\n4311\\n\\n3405\\n\\n4098\\n\\n2811\\n\\n3900\\n\\n3267\\n\\n2718\\n\\n3720\\n\\n2628\\n\\n3138\\n\\n3558\\n\\n2550\\n\\n \\n\\n \\n\\n8 oe\\n\\nSelf\\n\\nSelf\\n\\nSelf\\n\\nSelf\\n\\nSelf\\n\\nSelf\\n\\nSelf\\n\\nSelf\\n\\nSelf\\n\\nSelf\\n\\nSelf\\n\\nSelf'"
      ]
     },
     "execution_count": 7,
     "metadata": {},
     "output_type": "execute_result"
    }
   ],
   "source": [
    "out"
   ]
  },
  {
   "cell_type": "code",
   "execution_count": null,
   "metadata": {},
   "outputs": [],
   "source": []
  }
 ],
 "metadata": {
  "kernelspec": {
   "display_name": "Python 3",
   "language": "python",
   "name": "python3"
  },
  "language_info": {
   "codemirror_mode": {
    "name": "ipython",
    "version": 3
   },
   "file_extension": ".py",
   "mimetype": "text/x-python",
   "name": "python",
   "nbconvert_exporter": "python",
   "pygments_lexer": "ipython3",
   "version": "3.6.5"
  }
 },
 "nbformat": 4,
 "nbformat_minor": 2
}
