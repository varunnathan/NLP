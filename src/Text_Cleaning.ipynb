{
 "cells": [
  {
   "cell_type": "markdown",
   "metadata": {},
   "source": [
    "## Text Cleaning\n",
    "\n",
    "Codes for text cleaning."
   ]
  },
  {
   "cell_type": "code",
   "execution_count": 1,
   "metadata": {
    "collapsed": true,
    "deletable": true,
    "editable": true
   },
   "outputs": [],
   "source": [
    "import re\n",
    "import nltk\n",
    "import string\n",
    "import pandas as pd\n",
    "from nltk.corpus import stopwords\n",
    "from nltk.tokenize import word_tokenize\n",
    "\n",
    "eng_stop = set(stopwords.words('english'))"
   ]
  },
  {
   "cell_type": "code",
   "execution_count": 2,
   "metadata": {
    "collapsed": false,
    "deletable": true,
    "editable": true
   },
   "outputs": [
    {
     "data": {
      "text/plain": [
       "(14640, 15)"
      ]
     },
     "execution_count": 2,
     "metadata": {},
     "output_type": "execute_result"
    }
   ],
   "source": [
    "\"\"\"\n",
    "Data fetched from\n",
    "https://www.kaggle.com/crowdflower/twitter-airline-sentiment/data\n",
    "\"\"\"\n",
    "df = pd.read_csv(\"Tweets.csv\")\n",
    "df.shape"
   ]
  },
  {
   "cell_type": "code",
   "execution_count": 3,
   "metadata": {
    "collapsed": false,
    "deletable": true,
    "editable": true
   },
   "outputs": [],
   "source": [
    "def get_tokens(text):\n",
    "    return word_tokenize(text)\n",
    "\n",
    "def convert_lowercase(text):\n",
    "    return text.lower()\n",
    "\n",
    "def remove_punctuations(text):\n",
    "    return re.sub(r'\\W+', '', text)\n",
    "\n",
    "def remove_stopwords(text):\n",
    "    return [word for word in text.split() if word not in eng_stop]"
   ]
  },
  {
   "cell_type": "code",
   "execution_count": 9,
   "metadata": {
    "collapsed": false,
    "deletable": true,
    "editable": true
   },
   "outputs": [
    {
     "name": "stdout",
     "output_type": "stream",
     "text": [
      "Lower cased text :  this is natural language processing\n"
     ]
    }
   ],
   "source": [
    "### Lower casing ###\n",
    "st = \"This is natural language processing\"\n",
    "st = convert_lowercase(st)\n",
    "print \"Lower cased text : \", st"
   ]
  },
  {
   "cell_type": "code",
   "execution_count": 6,
   "metadata": {
    "collapsed": false,
    "deletable": true,
    "editable": true
   },
   "outputs": [
    {
     "name": "stdout",
     "output_type": "stream",
     "text": [
      "Tokens are :  ['this', 'is', 'natural', 'language', 'processing']\n"
     ]
    }
   ],
   "source": [
    "print \"Tokens are : \", get_tokens(st)"
   ]
  },
  {
   "cell_type": "code",
   "execution_count": 10,
   "metadata": {
    "collapsed": false
   },
   "outputs": [
    {
     "name": "stdout",
     "output_type": "stream",
     "text": [
      "After stopword removal :  ['natural', 'language', 'processing']\n"
     ]
    }
   ],
   "source": [
    "print \"After stopword removal : \", remove_stopwords(st)"
   ]
  },
  {
   "cell_type": "markdown",
   "metadata": {},
   "source": [
    "### Stemming and Lemmatization ###"
   ]
  },
  {
   "cell_type": "code",
   "execution_count": 11,
   "metadata": {
    "collapsed": true
   },
   "outputs": [],
   "source": [
    "from nltk.stem.porter import PorterStemmer\n",
    "from nltk.stem.wordnet import WordNetLemmatizer"
   ]
  },
  {
   "cell_type": "code",
   "execution_count": 19,
   "metadata": {
    "collapsed": false
   },
   "outputs": [
    {
     "data": {
      "text/plain": [
       "u'church'"
      ]
     },
     "execution_count": 19,
     "metadata": {},
     "output_type": "execute_result"
    }
   ],
   "source": [
    "### Stemming ###\n",
    "porter_stemmer = PorterStemmer()\n",
    "\n",
    "word = 'churches' #['maximum', 'multiply', 'presumably']\n",
    "porter_stemmer.stem(word)"
   ]
  },
  {
   "cell_type": "code",
   "execution_count": 20,
   "metadata": {
    "collapsed": false
   },
   "outputs": [
    {
     "data": {
      "text/plain": [
       "u'church'"
      ]
     },
     "execution_count": 20,
     "metadata": {},
     "output_type": "execute_result"
    }
   ],
   "source": [
    "wordnet_lemmatizer = WordNetLemmatizer()\n",
    "\n",
    "word = 'churches'\n",
    "wordnet_lemmatizer.lemmatize(word)"
   ]
  },
  {
   "cell_type": "markdown",
   "metadata": {},
   "source": [
    "##### References #####\n",
    "1. Text cleaning in R - http://www.mjdenny.com/Text_Processing_In_R.html\n",
    "2. One more reference in R - https://www.springboard.com/blog/text-mining-in-r/\n",
    "3. Text cleaning in python - https://machinelearningmastery.com/clean-text-machine-learning-python/\n",
    "4. One more in python - https://www.analyticsvidhya.com/blog/2014/11/text-data-cleaning-steps-python/"
   ]
  }
 ],
 "metadata": {
  "kernelspec": {
   "display_name": "Python 2",
   "language": "python",
   "name": "python2"
  },
  "language_info": {
   "codemirror_mode": {
    "name": "ipython",
    "version": 2
   },
   "file_extension": ".py",
   "mimetype": "text/x-python",
   "name": "python",
   "nbconvert_exporter": "python",
   "pygments_lexer": "ipython2",
   "version": "2.7.10"
  }
 },
 "nbformat": 4,
 "nbformat_minor": 2
}
